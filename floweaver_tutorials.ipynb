{
  "nbformat": 4,
  "nbformat_minor": 0,
  "metadata": {
    "colab": {
      "name": "floweaver_tutorials.ipynb",
      "provenance": [],
      "authorship_tag": "ABX9TyPUrX3mHQkhKjfvzXPgkaCo",
      "include_colab_link": true
    },
    "kernelspec": {
      "name": "python3",
      "display_name": "Python 3"
    },
    "language_info": {
      "name": "python"
    }
  },
  "cells": [
    {
      "cell_type": "markdown",
      "metadata": {
        "id": "view-in-github",
        "colab_type": "text"
      },
      "source": [
        "<a href=\"https://colab.research.google.com/github/Resource-Efficiency-Collective/coding-tutorials/blob/main/floweaver_tutorials.ipynb\" target=\"_parent\"><img src=\"https://colab.research.google.com/assets/colab-badge.svg\" alt=\"Open In Colab\"/></a>"
      ]
    },
    {
      "cell_type": "markdown",
      "source": [
        "# Floweaver tutorials\n",
        "This notebook goes through additional useful methods for plotting Sankeys in Floweaver and is split into 3 parts:\n",
        "\n",
        "- Part 1 - Dimension tables\n",
        "- Part 2 - System boundaries\n",
        "- Part 3 - Colour intensity scales\n",
        "\n",
        "Run the following two cells to setup the notebook.\n"
      ],
      "metadata": {
        "id": "tVwUQRwRj8KU"
      }
    },
    {
      "cell_type": "code",
      "source": [
        "%%capture\n",
        "\"\"\"Data download and package import\"\"\"\n",
        "# Install floweaver and display widget packages\n",
        "%pip install floweaver ipysankeywidget\n",
        "\n",
        "# Import packages\n",
        "import gdown, os\n",
        "from google.colab import files\n",
        "import pandas as pd\n",
        "import numpy as np\n",
        "from floweaver import *\n",
        "\n",
        "# Import and unzip files -> You can then view them in the left files panel\n",
        "folder, zip_path = 'example_data', 'example_data.zip'\n",
        "if not os.path.exists(folder): \n",
        "  gdown.download('https://drive.google.com/uc?id=1qriY29v7eKJIs07UxAw5RlJirfwuLnyP', zip_path ,quiet=True)\n",
        "  ! unzip $zip_path -d 'example_data'\n",
        "  ! rm $zip_path\n",
        "\n",
        "# Set the default size of Sankeys fit the documentation better.\n",
        "size = dict(width=570, height=300)"
      ],
      "metadata": {
        "id": "TFBX_TBkk4Rc"
      },
      "execution_count": null,
      "outputs": []
    },
    {
      "cell_type": "code",
      "source": [
        "\"\"\"Display setup\"\"\"\n",
        "# Enable widget display for Sankeys in Colab\n",
        "from google.colab import output\n",
        "output.enable_custom_widget_manager()"
      ],
      "metadata": {
        "id": "CmG1DYYVl8P0"
      },
      "execution_count": null,
      "outputs": []
    },
    {
      "cell_type": "markdown",
      "source": [
        "## Part 1 - Dimension tables: efficiently adding details of processes and flows\n",
        "\n",
        "In Floweaver basics we saw how to draw some simple Sankey diagrams and partition them in different ways, such as this:\n",
        "\n",
        "![](https://github.com/Resource-Efficiency-Collective/coding-tutorials/blob/main/quickstart_example1.png?raw=1)\n",
        "\n",
        "But to do the grouping on the right-hand side we had to explicitly list which people were \"Men\" and which were \"Women\", using a partition like this:\n",
        "\n",
        "```python\n",
        "customers_by_gender = Partition.Simple('process', [\n",
        "    ('Men', ['Fred', 'James']),\n",
        "    ('Women', ['Susan', 'Mary']),\n",
        "])\n",
        "```\n",
        "\n",
        "We can show this type of information more efficiently -- and with less code -- by using *dimension tables*."
      ],
      "metadata": {
        "id": "ie1i8jzokcuS"
      }
    },
    {
      "cell_type": "markdown",
      "source": [
        "### Defintions\n",
        "\n",
        "The table we've seen before is a **flow fact table** -- it lists basic information about each flow:\n",
        "\n",
        "- *source*: where the flow comes from\n",
        "- *target*: where the flow goes to\n",
        "- *type* or *material*: what is flowing\n",
        "- *value*: the size (in tonnes, GJ, £ etc) of the flow\n",
        "\n",
        "An example of this type of table is shown at the top right of this diagram:\n",
        "\n",
        "![](https://github.com/Resource-Efficiency-Collective/coding-tutorials/blob/main/dimension_tables.png?raw=1)\n",
        "\n",
        "The **dimension tables** add extra information about the source/target and type of the flows (the diagram above also shows extra information about the time period the flow relates to, but we're not worrying about time in this tutorial). For example, \"farm2\" has a *location* attribute set to \"Cambridge\".\n",
        "\n",
        "This tutorial will show how to use dimension tables in floweaver."
      ],
      "metadata": {
        "id": "u23ktK3ipxaK"
      }
    },
    {
      "cell_type": "code",
      "source": [
        "# Load the same basic data used in the basics\n",
        "flows = pd.read_csv('example_data/simple_fruit_sales.csv')\n",
        "display(flows)"
      ],
      "metadata": {
        "id": "qbe-qJ3vkfzs"
      },
      "execution_count": null,
      "outputs": []
    },
    {
      "cell_type": "code",
      "source": [
        "# Load another table giving extra information about the \n",
        "# farms and customers. `index_col` says the first column\n",
        "# can be used to lookup rows.\n",
        "processes = pd.read_csv('example_data/simple_fruit_sales_processes.csv', index_col=0)\n",
        "display(processes)"
      ],
      "metadata": {
        "id": "YiMVSC-dlajD"
      },
      "execution_count": null,
      "outputs": []
    },
    {
      "cell_type": "markdown",
      "source": [
        "Each `id` in this table matches a `source` or `target` in the flows table above. We can use this extra information to build the Sankey.\n",
        "\n",
        "Because we now have two tables (before we only had one so didn't have to worry) we must put them together into a Dataset:"
      ],
      "metadata": {
        "id": "QBwWBjgWmCT8"
      }
    },
    {
      "cell_type": "code",
      "source": [
        "dataset = Dataset(flows, dim_process=processes)"
      ],
      "metadata": {
        "id": "rUsbYLKRln39"
      },
      "execution_count": null,
      "outputs": []
    },
    {
      "cell_type": "markdown",
      "source": [
        "Now we can use the `type` column in the process table to more easily pick out the relevant processes:"
      ],
      "metadata": {
        "id": "jOPp4-12mM8r"
      }
    },
    {
      "cell_type": "code",
      "source": [
        "nodes = {\n",
        "    'farms': ProcessGroup('type == \"farm\"'),\n",
        "    'customers': ProcessGroup('type == \"customer\"'),\n",
        "}"
      ],
      "metadata": {
        "id": "T04jGJejmKMS"
      },
      "execution_count": null,
      "outputs": []
    },
    {
      "cell_type": "markdown",
      "source": [
        "Compare this to how the same thing was written in the basic tutorial:\n",
        "```python\n",
        "nodes = {\n",
        "    'farms': ProcessGroup(['farm1', 'farm2', 'farm3', \n",
        "                           'farm4', 'farm5', 'farm6']),\n",
        "    'customers': ProcessGroup(['James', 'Mary', 'Fred', 'Susan']),\n",
        "}\n",
        "```\n",
        "\n",
        "Because we already know from the process dimension table that James, Mary, Fred and Susan are \"customers\", we don't have to list them all by name in the ProcessGroup definition -- we can write the *query* `type == \"customer\"` instead.\n",
        "\n",
        "The rest of the Sankey diagram definition is the same as before:"
      ],
      "metadata": {
        "id": "tw_Cpr7cmSjT"
      }
    },
    {
      "cell_type": "code",
      "source": [
        "ordering = [\n",
        "    ['farms'],       # put \"farms\" on the left...\n",
        "    ['customers'],   # ... and \"customers\" on the right.\n",
        "]\n",
        "bundles = [\n",
        "    Bundle('farms', 'customers'),\n",
        "]\n",
        "sdd = SankeyDefinition(nodes, bundles, ordering)\n",
        "weave(sdd, dataset).to_widget(**size)"
      ],
      "metadata": {
        "id": "lQvqU0xsmO-D"
      },
      "execution_count": null,
      "outputs": []
    },
    {
      "cell_type": "markdown",
      "source": [
        "Again, we need to set the partition on the ProcessGroups to see something interesting. Here again, we can use the process dimension table to make this easier:"
      ],
      "metadata": {
        "id": "iutfoOO1mfhq"
      }
    },
    {
      "cell_type": "code",
      "source": [
        "# Create a Partition which splits based on the `sex` column\n",
        "# of the dimension table\n",
        "customers_by_gender = Partition.Simple('process.sex', \n",
        "                                       ['Men', 'Women'])\n",
        "\n",
        "nodes['customers'].partition = customers_by_gender\n",
        "weave(sdd, dataset).to_widget(**size)"
      ],
      "metadata": {
        "id": "G0dKrOEMmcvt"
      },
      "execution_count": null,
      "outputs": []
    },
    {
      "cell_type": "markdown",
      "source": [
        "For reference, this is what we wrote before in the basic tutorial:\n",
        "```python\n",
        "customers_by_gender = Partition.Simple('process', [\n",
        "    ('Men', ['Fred', 'James']),\n",
        "    ('Women', ['Susan', 'Mary']),\n",
        "])\n",
        "```\n",
        "\n",
        "And we can use other columns of the dimension table to set other partitions:"
      ],
      "metadata": {
        "id": "9zllonzcmoFC"
      }
    },
    {
      "cell_type": "code",
      "source": [
        "farms_by_organic = Partition.Simple('process.organic', ['yes', 'no'])\n",
        "\n",
        "nodes['farms'].partition = farms_by_organic\n",
        "weave(sdd, dataset).to_widget(**size)"
      ],
      "metadata": {
        "id": "jX9jzeSHmmMi"
      },
      "execution_count": null,
      "outputs": []
    },
    {
      "cell_type": "markdown",
      "source": [
        "Finally, a tip for doing quick exploration of the data with partitions: you can automatically get a Partition which includes all the values that actually occur in your dataset using the `dataset.partition` method:"
      ],
      "metadata": {
        "id": "k3DX4BqxnNGy"
      }
    },
    {
      "cell_type": "code",
      "source": [
        "nodes['farms'].partition = dataset.partition('source.organic')\n",
        "\n",
        "# This should be the same as before\n",
        "weave(sdd, dataset).to_widget(**size)"
      ],
      "metadata": {
        "id": "SHkfjkhdmssE"
      },
      "execution_count": null,
      "outputs": []
    },
    {
      "cell_type": "markdown",
      "source": [
        "###Summary\n",
        "The process dimension table adds extra information about each process. You can use this extra information to:\n",
        "\n",
        "Pick out the processes you want to include in a ProcessGroup (selection); and\n",
        "Split apart groups of processes based on different attributes (partitions).\n",
        "Things to try:\n",
        "\n",
        "Make a diagram showing the locations of farms on the left and the locations of customers on the right"
      ],
      "metadata": {
        "id": "CzIi1ab0ndjk"
      }
    },
    {
      "cell_type": "markdown",
      "source": [
        "## Part 2 - System boundaries\n",
        "\n",
        "Often we don't want to show all of the data in one Sankey diagram: you focus on one part of the system. But we still want conservation of mass (or whatever is being shown in the diagram) to work, so we end up with flows to & from \"elsewhere\". These can also be thought of as *imports* and *exports*.\n",
        "\n",
        "Let's start by recreating the basic example:"
      ],
      "metadata": {
        "id": "slcKoIm5nnZS"
      }
    },
    {
      "cell_type": "code",
      "source": [
        "# Same partitions as the Quickstart tutorial\n",
        "farms_with_other = Partition.Simple('process', [\n",
        "    'farm1',\n",
        "    'farm2',\n",
        "    'farm3',\n",
        "    ('other', ['farm4', 'farm5', 'farm6']),\n",
        "])\n",
        "\n",
        "customers_by_name = Partition.Simple('process', [\n",
        "    'James', 'Mary', 'Fred', 'Susan'\n",
        "])\n",
        "\n",
        "# Define the nodes, this time setting the partition from the start\n",
        "nodes = {\n",
        "    'farms': ProcessGroup(['farm1', 'farm2', 'farm3', \n",
        "                           'farm4', 'farm5', 'farm6'],\n",
        "                          partition=farms_with_other),\n",
        "    'customers': ProcessGroup(['James', 'Mary', 'Fred', 'Susan'],\n",
        "                              partition=customers_by_name),\n",
        "}\n",
        "\n",
        "# Ordering and bundles as before\n",
        "ordering = [\n",
        "    ['farms'],       # put \"farms\" on the left...\n",
        "    ['customers'],   # ... and \"customers\" on the right.\n",
        "]\n",
        "\n",
        "bundles = [\n",
        "    Bundle('farms', 'customers'),\n",
        "]"
      ],
      "metadata": {
        "id": "meFdf7ZooMhC"
      },
      "execution_count": null,
      "outputs": []
    },
    {
      "cell_type": "code",
      "source": [
        "sdd = SankeyDefinition(nodes, bundles, ordering)\n",
        "weave(sdd, flows).to_widget(**size)"
      ],
      "metadata": {
        "id": "8K1h0zBMnsRR"
      },
      "execution_count": null,
      "outputs": []
    },
    {
      "cell_type": "markdown",
      "source": [
        "What happens if we remove `farm2` from the ProcessGroup?"
      ],
      "metadata": {
        "id": "Dt1eAWm-oU7Z"
      }
    },
    {
      "cell_type": "code",
      "source": [
        "nodes['farms'].selection = [\n",
        "    'farm1', 'farm3', 'farm4', 'farm5', 'farm6'\n",
        "]\n",
        "weave(sdd, flows).to_widget(**size)"
      ],
      "metadata": {
        "id": "ZRCJq2ESoGWS"
      },
      "execution_count": null,
      "outputs": []
    },
    {
      "cell_type": "markdown",
      "source": [
        "The flow is still there! But it is labelled with a little arrow to show that it is coming \"from elsewhere\". This is important because we are still showing Susan and Fred in the diagram, and they get fruit from farm2. If we didn't show those flows, Susan's and Fred's inputs and outputs would not balance.\n",
        "\n",
        "Try now removing Susan and Fred from the diagram:"
      ],
      "metadata": {
        "id": "U_09YRmxoZiB"
      }
    },
    {
      "cell_type": "code",
      "source": [
        "nodes['customers'].selection = ['James', 'Mary']\n",
        "weave(sdd, flows).to_widget(**size)"
      ],
      "metadata": {
        "id": "e26y2GptoW2D"
      },
      "execution_count": null,
      "outputs": []
    },
    {
      "cell_type": "markdown",
      "source": [
        "Now they're gone, we no longer see the incoming flows from `farm2`. But we see some outgoing flows \"to elsewhere\" from `farm3` and the `other` group. This is because `farm3` is within the system boundary -- it is shown in the diagram -- so its output flow has to go somewhere."
      ],
      "metadata": {
        "id": "Pkz1J1uRofBj"
      }
    },
    {
      "cell_type": "markdown",
      "source": [
        "### Controlling Elsewhere flows\n",
        "\n",
        "These flows are added automatically to make sure that mass is conserved, but because they are automatic, we have little control over them. By explicitly adding a flow to or from Elsewhere to the diagram, we can control where they appear and what they look like.\n",
        "\n",
        "To do this, add a Waypoint for the outgoing flows to 'pass through' on their way across the system boundary:"
      ],
      "metadata": {
        "id": "O_QnsXHbohnZ"
      }
    },
    {
      "cell_type": "code",
      "source": [
        "# Define a new Waypoint\n",
        "nodes['exports'] = Waypoint(title='exports here')\n",
        "\n",
        "# Update the ordering to include the waypoint\n",
        "ordering = [\n",
        "    ['farms'],                  #     put \"farms\" on the left...\n",
        "    ['customers', 'exports'],   # ... and \"exports\" below \"customers\"\n",
        "]                               #     on the right.\n",
        "\n",
        "# Add a new bundle from \"farms\" to Elsewhere, via the waypoint\n",
        "bundles = [\n",
        "    Bundle('farms', 'customers'),\n",
        "    Bundle('farms', Elsewhere, waypoints=['exports']),\n",
        "]\n",
        "\n",
        "sdd = SankeyDefinition(nodes, bundles, ordering)\n",
        "weave(sdd, flows).to_widget(**size)"
      ],
      "metadata": {
        "id": "PUW9uPhJob6x"
      },
      "execution_count": null,
      "outputs": []
    },
    {
      "cell_type": "markdown",
      "source": [
        "This is pretty similar to what we had already, but now the waypoint is explicitly listed as part of the `SankeyDefinition`, we have more control over it.\n",
        "\n",
        "For example, we can put the exports above James and Mary by changing the ordering:"
      ],
      "metadata": {
        "id": "0ug6mJrGo0UD"
      }
    },
    {
      "cell_type": "code",
      "source": [
        "ordering = [\n",
        "    ['farms'],\n",
        "    ['exports', 'customers'],\n",
        "]\n",
        "sdd = SankeyDefinition(nodes, bundles, ordering)\n",
        "weave(sdd, flows).to_widget(**size)"
      ],
      "metadata": {
        "id": "JATaSw_Nol-6"
      },
      "execution_count": null,
      "outputs": []
    },
    {
      "cell_type": "markdown",
      "source": [
        "Or we can partition the exports Waypoint to show how much of it is apples and bananas:"
      ],
      "metadata": {
        "id": "0ac8hr-uo54S"
      }
    },
    {
      "cell_type": "code",
      "source": [
        "fruits_by_type = Partition.Simple('type', ['apples', 'bananas'])\n",
        "nodes['exports'].partition = fruits_by_type\n",
        "weave(sdd, flows).to_widget(**size)"
      ],
      "metadata": {
        "id": "YrbzwjbCo3KC"
      },
      "execution_count": null,
      "outputs": []
    },
    {
      "cell_type": "markdown",
      "source": [
        "### Horizontal bands\n",
        "\n",
        "Often, import/exports and loss flows are shown in a separate horizontal \"band\" either above or below the main flows. We can do this by modifying the `ordering` a little bit.\n",
        "\n",
        "The `ordering` style we have used so far looks like this:\n",
        "\n",
        "```python\n",
        "ordering = [\n",
        "    [list of nodes in layer 1],  # left-hand side\n",
        "    [list of nodes in layer 2],\n",
        "    ...\n",
        "    [list of nodes in layer N],  # right-hand side\n",
        "]\n",
        "```\n",
        "\n",
        "But we can add another layer of nesting to make it look like this:\n",
        "\n",
        "```python\n",
        "ordering = [\n",
        "    # |top band|  |bottom band|\n",
        "    [ [........], [...........] ],  # left-hand side\n",
        "    [ [........], [...........] ],\n",
        "    ...\n",
        "    [ [........], [...........] ],  # right-hand side\n",
        "]\n",
        "```\n",
        "\n",
        "Here's an example:"
      ],
      "metadata": {
        "id": "Qe7t3Cwmo-rS"
      }
    },
    {
      "cell_type": "code",
      "source": [
        "ordering = [\n",
        "    [[],          ['farms'    ]],\n",
        "    [['exports'], ['customers']],\n",
        "]\n",
        "sdd = SankeyDefinition(nodes, bundles, ordering)\n",
        "weave(sdd, flows).to_widget(**size)"
      ],
      "metadata": {
        "id": "jx14hKV7o72b"
      },
      "execution_count": null,
      "outputs": []
    },
    {
      "cell_type": "markdown",
      "source": [
        "### Summary\n",
        "\n",
        "- All the flows to/from a ProcessGroup are shown, even if the other end of the flow is outside the system boundary (i.e. not part of any ProcessGroup)\n",
        "- You can control the automatic flows by explicitly adding Bundles to/from `Elsewhere` with a `Waypoint`\n",
        "- The `ordering` can contain horizontal bands"
      ],
      "metadata": {
        "id": "0vZb5nIPpE_6"
      }
    },
    {
      "cell_type": "code",
      "source": [
        ""
      ],
      "metadata": {
        "id": "4gLSbs1apCca"
      },
      "execution_count": null,
      "outputs": []
    },
    {
      "cell_type": "markdown",
      "source": [
        "## Part 3 - Colour-intensity scales\n",
        "\n",
        "In this tutorial we will look at how to use colours in the Sankey diagram. We have already seen how to use a palette, but in this tutorial we will also create a Sankey where the intensity of the colour is proportional to a numerical value."
      ],
      "metadata": {
        "id": "f45s0h0-pO7S"
      }
    },
    {
      "cell_type": "code",
      "source": [
        "\"\"\"Import data\"\"\"\n",
        "df1 = pd.read_csv('example_data/holiday_data.csv')\n",
        "display(df1)"
      ],
      "metadata": {
        "id": "c4VTqlNBpSwl"
      },
      "execution_count": null,
      "outputs": []
    },
    {
      "cell_type": "markdown",
      "source": [
        "Now take a look at the dataset we are using. This is a very insightful [made-up] dataset about how different types of people lose weight while on holiday enjoying themselves."
      ],
      "metadata": {
        "id": "wEx0IINTp5aS"
      }
    },
    {
      "cell_type": "code",
      "source": [
        "df1['value'] = df1['Calories Burnt']\n",
        "dataset = Dataset(df1)"
      ],
      "metadata": {
        "id": "CrukosWDpaiC"
      },
      "execution_count": null,
      "outputs": []
    },
    {
      "cell_type": "markdown",
      "source": [
        "We now define the partitions of the data. Rather than listing the categories by hand, we use `np.unique` to pick out a list of the unique values that occur in the dataset."
      ],
      "metadata": {
        "id": "frlM8aSHp9NZ"
      }
    },
    {
      "cell_type": "code",
      "source": [
        "partition_job = Partition.Simple('Employment Job', np.unique(df1['Employment Job']))\n",
        "partition_activity = Partition.Simple('Activity', np.unique(df1['Activity']))"
      ],
      "metadata": {
        "id": "V25mCkccp4xS"
      },
      "execution_count": null,
      "outputs": []
    },
    {
      "cell_type": "markdown",
      "source": [
        "In fact, this is pretty common so there is a built-in function to do this:"
      ],
      "metadata": {
        "id": "xuIn0t_IqIIY"
      }
    },
    {
      "cell_type": "code",
      "source": [
        "# these statements or the ones above do the same thing\n",
        "partition_job = dataset.partition('Employment Job')\n",
        "partition_activity = dataset.partition('Activity')"
      ],
      "metadata": {
        "id": "H7mBvd8BqATy"
      },
      "execution_count": null,
      "outputs": []
    },
    {
      "cell_type": "markdown",
      "source": [
        "We then go on to define the structure of our sankey. We define nodes, bundles and the order. In this case its pretty straightforward:"
      ],
      "metadata": {
        "id": "wHEnQIBIqMFp"
      }
    },
    {
      "cell_type": "code",
      "source": [
        "nodes = {\n",
        "    'Activity': ProcessGroup(['Activity'], partition_activity),\n",
        "    'Job': ProcessGroup(['Employment Job'], partition_job),\n",
        "}\n",
        "\n",
        "bundles = [\n",
        "    Bundle('Activity', 'Job'),\n",
        "]\n",
        "\n",
        "ordering = [\n",
        "    ['Activity'],\n",
        "    ['Job'],\n",
        "]"
      ],
      "metadata": {
        "id": "WFlbNV5EqKWB"
      },
      "execution_count": null,
      "outputs": []
    },
    {
      "cell_type": "markdown",
      "source": [
        "Now we will plot a Sankey that shows the share of time dedicated to each activity by each type of person. "
      ],
      "metadata": {
        "id": "BdUhheFMqQaB"
      }
    },
    {
      "cell_type": "code",
      "source": [
        "# These are the same each time, so just write them here once\n",
        "size_options = dict(width=500, height=400,\n",
        "                    margins=dict(left=100, right=100))\n",
        "\n",
        "sdd = SankeyDefinition(nodes, bundles, ordering)\n",
        "weave(sdd, dataset).to_widget(**size_options)"
      ],
      "metadata": {
        "id": "iGnYkW-sqOo6"
      },
      "execution_count": null,
      "outputs": []
    },
    {
      "cell_type": "markdown",
      "source": [
        "We can start using colour by specifying that we want to partition the flows according to type of person. Notice that this time we are using a pre-determined palette. \n",
        "\n",
        "You can find all sorts of palettes [listed here](https://jiffyclub.github.io/palettable/colorbrewer/qualitative/)."
      ],
      "metadata": {
        "id": "HWkau6izrdUr"
      }
    },
    {
      "cell_type": "code",
      "source": [
        "sdd = SankeyDefinition(nodes, bundles, ordering, flow_partition=partition_job)\n",
        "\n",
        "weave(sdd, dataset, palette='Set2_8').to_widget(**size_options)"
      ],
      "metadata": {
        "id": "_uXiSRq6qTpy"
      },
      "execution_count": null,
      "outputs": []
    },
    {
      "cell_type": "markdown",
      "source": [
        "Now, if we want to make the colour of the flow to be proportional to a numerical value. Use the `hue` parameter to set the name of the variable that you want to display in colour. To start off, let's use \"value\", which is the width of the lines: wider lines will be shown in a darker colour."
      ],
      "metadata": {
        "id": "07ib95fUrkda"
      }
    },
    {
      "cell_type": "code",
      "source": [
        "weave(sdd, dataset, link_color=QuantitativeScale('value')).to_widget(**size_options)"
      ],
      "metadata": {
        "id": "nwPvHCx9rfIQ"
      },
      "execution_count": null,
      "outputs": []
    },
    {
      "cell_type": "markdown",
      "source": [
        "More information is available in the [floweaver tutorial](https://floweaver.readthedocs.io/en/latest/tutorials/colour-scales.html) but current re-development of the `measures` input mean that the tutorial is slightly outdated."
      ],
      "metadata": {
        "id": "hFWs3SvFroKR"
      }
    }
  ]
}
