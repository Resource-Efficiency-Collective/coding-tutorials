{
  "cells": [
    {
      "cell_type": "markdown",
      "metadata": {
        "id": "view-in-github",
        "colab_type": "text"
      },
      "source": [
        "<a href=\"https://colab.research.google.com/github/Resource-Efficiency-Collective/coding-tutorials/blob/main/energy_consumption.ipynb\" target=\"_parent\"><img src=\"https://colab.research.google.com/assets/colab-badge.svg\" alt=\"Open In Colab\"/></a>"
      ]
    },
    {
      "cell_type": "markdown",
      "metadata": {
        "id": "4d4Ip_8p3bCF"
      },
      "source": [
        "# Energy consumption\n",
        "\n",
        "This notebook is split into 3 tasks:\n",
        "\n",
        "\n",
        "1.   US Energy Sankey example\n",
        "2.   Create your own Sankey using IEA data\n",
        "3.   Automate Sankey generation for any country by writing a Python function\n",
        "\n",
        "Run the first two cells setup the notebook.\n",
        "\n",
        "\n",
        "\n"
      ]
    },
    {
      "cell_type": "code",
      "execution_count": null,
      "metadata": {
        "id": "bY7nXRLo3bCJ"
      },
      "outputs": [],
      "source": [
        "%%capture\n",
        "\"\"\"Installation and downloads\"\"\"\n",
        "# Install floweaver and display widget packages\n",
        "%pip install floweaver ipysankeywidget openpyxl --upgrade\n",
        "\n",
        "# Import necessary packages\n",
        "from floweaver import *\n",
        "import gdown, os\n",
        "from google.colab import files\n",
        "\n",
        "# Import and unzip files -> You can then view them in the left files panel\n",
        "folder, zip_path = 'example_data', 'example_data.zip'\n",
        "if not os.path.exists(folder): \n",
        "  gdown.download('https://drive.google.com/uc?id=1qriY29v7eKJIs07UxAw5RlJirfwuLnyP', zip_path ,quiet=True)\n",
        "  ! unzip $zip_path -d 'example_data'\n",
        "  ! rm $zip_path"
      ]
    },
    {
      "cell_type": "code",
      "source": [
        "\"\"\"Display setup\"\"\"\n",
        "# Enable widget display for Sankeys in Colab\n",
        "from google.colab import output\n",
        "output.enable_custom_widget_manager()"
      ],
      "metadata": {
        "id": "IV4oVXv37Dxn"
      },
      "execution_count": null,
      "outputs": []
    },
    {
      "cell_type": "markdown",
      "source": [
        "## Task 1 - US example \n",
        "\n",
        "Step through this section to see an example for the US based on the [Sankey diagrams of US energy consumption from the Lawrence Livermore National Laboratory](https://flowcharts.llnl.gov/) (thanks to John Muth for the suggestion and transcribing the data)."
      ],
      "metadata": {
        "id": "POjd-O7vCEbE"
      }
    },
    {
      "cell_type": "code",
      "execution_count": null,
      "metadata": {
        "id": "1rgEr88P3bCL"
      },
      "outputs": [],
      "source": [
        "\"\"\"Load the dataset\"\"\"\n",
        "dataset = Dataset.from_csv('example_data/us-energy-consumption.csv',\n",
        "                           dim_process_filename='example_data/us-energy-consumption-processes.csv')"
      ]
    },
    {
      "cell_type": "code",
      "execution_count": null,
      "metadata": {
        "id": "QYvMGV2k3bCM"
      },
      "outputs": [],
      "source": [
        "\"\"\"Define the order the nodes appear in\"\"\"\n",
        "sources = ['Solar', 'Nuclear', 'Hydro', 'Wind', 'Geothermal',\n",
        "           'Natural_Gas', 'Coal', 'Biomass', 'Petroleum']\n",
        "\n",
        "uses = ['Residential', 'Commercial', 'Industrial', 'Transportation']"
      ]
    },
    {
      "cell_type": "code",
      "execution_count": null,
      "metadata": {
        "id": "XdOB57Yf3bCN"
      },
      "outputs": [],
      "source": [
        "\"\"\"define the Sankey diagram definition\"\"\"\n",
        "nodes = {\n",
        "    'sources': ProcessGroup('type == \"source\"', Partition.Simple('process', sources), title='Sources'),\n",
        "    'imports': ProcessGroup(['Net_Electricity_Import'], title='Net electricity imports'),\n",
        "    'electricity': ProcessGroup(['Electricity_Generation'], title='Electricity Generation'),\n",
        "    'uses': ProcessGroup('type == \"use\"', partition=Partition.Simple('process', uses)),\n",
        "    \n",
        "    'energy_services': ProcessGroup(['Energy_Services'], title='Energy services'),\n",
        "    'rejected': ProcessGroup(['Rejected_Energy'], title='Rejected energy'),\n",
        "    \n",
        "    'direct_use': Waypoint(Partition.Simple('source', [\n",
        "        # This is a hack to hide the labels of the partition, there should be a better way...\n",
        "        (' '*i, [k]) for i, k in enumerate(sources)\n",
        "    ])),\n",
        "}\n",
        "\n",
        "ordering = [\n",
        "    [[], ['sources'], []],\n",
        "    [['imports'], ['electricity', 'direct_use'], []],\n",
        "    [[], ['uses'], []],\n",
        "    [[], ['rejected', 'energy_services'], []]\n",
        "]\n",
        "\n",
        "bundles = [\n",
        "    Bundle('sources', 'electricity'),\n",
        "    Bundle('sources', 'uses', waypoints=['direct_use']),\n",
        "    Bundle('electricity', 'uses'),\n",
        "    Bundle('imports', 'uses'),\n",
        "    Bundle('uses', 'energy_services'),\n",
        "    Bundle('uses', 'rejected'),\n",
        "    Bundle('electricity', 'rejected'),\n",
        "]"
      ]
    },
    {
      "cell_type": "code",
      "execution_count": null,
      "metadata": {
        "id": "GM6VX1-b3bCP"
      },
      "outputs": [],
      "source": [
        "\"\"\"Define the colours to roughly imitate the original Sankey diagram\"\"\"\n",
        "palette = {\n",
        "    'Solar': 'gold',\n",
        "    'Nuclear': 'red',\n",
        "    'Hydro': 'blue',\n",
        "    'Wind': 'purple',\n",
        "    'Geothermal': 'brown',\n",
        "    'Natural_Gas': 'steelblue',\n",
        "    'Coal': 'black',\n",
        "    'Biomass': 'lightgreen',\n",
        "    'Petroleum': 'green',\n",
        "    'Electricity': 'orange',\n",
        "    'Rejected energy': 'lightgrey',\n",
        "    'Energy services': 'dimgrey',\n",
        "}"
      ]
    },
    {
      "cell_type": "markdown",
      "metadata": {
        "id": "UysJD6jp3bCP"
      },
      "source": [
        "And here's the result!"
      ]
    },
    {
      "cell_type": "code",
      "execution_count": null,
      "metadata": {
        "id": "lCgMwYvP3bCQ"
      },
      "outputs": [],
      "source": [
        "sdd = SankeyDefinition(nodes, bundles, ordering,\n",
        "                       flow_partition=dataset.partition('type'))\n",
        "weave(sdd, dataset, palette=palette) \\\n",
        "    .to_widget(width=700, height=450, margins=dict(left=100, right=120), debugging=True)"
      ]
    },
    {
      "cell_type": "markdown",
      "source": [
        "You can save a copy of the Sankey by adding `.auto_save_png('filename.png')` or `.auto_save_svg('filename.svg')` to the end of the `weave` call in the previous box."
      ],
      "metadata": {
        "id": "Jasbl9Li5l6H"
      }
    },
    {
      "cell_type": "markdown",
      "source": [
        "## Task 2 - Create your own\n",
        "\n",
        "Follow the steps below to create an equivalent Sankey for a different country. Fill in each of the lines with a `##Complete here##` entry. If you get completely lost then feel free to consult the [solutions sheet](https://colab.research.google.com/github/resource-efficiency-collective/coding-tutorials/blob/main/energy-consumption-solutions.ipynb) for inspiration, but please do have a go first.\n",
        "\n",
        "  1. Find and download the IEA World Energy Balances Highlights spreadsheet, from the webpage: https://www.iea.org/data-and-statistics/data-product/world-energy-statistics-and-balances. Then upload it to Colab using the `upload` button in the left panel.\n",
        "\n",
        "  2. In the next cell import the Excel sheet to a pandas DataFrame. To find appropriate functions for the next steps either have a look at the [pandas documentation](https://pandas.pydata.org/docs/reference/index.html), or remember [your best friend](https://www.google.com/) when writing code.\n",
        "\n"
      ],
      "metadata": {
        "id": "rmsJKiUlCK94"
      }
    },
    {
      "cell_type": "code",
      "source": [
        "\"\"\"Read in an Excel file\"\"\"\n",
        "import pandas as pd\n",
        "fileName = 'WorldEnergyBalancesHighlights2021.xlsx'\n",
        "sheetName = 'TimeSeries_1971-2020'\n",
        "data = ##Complete here##"
      ],
      "metadata": {
        "id": "Bx6dXau0CKmX"
      },
      "execution_count": null,
      "outputs": []
    },
    {
      "cell_type": "markdown",
      "source": [
        "3. Filter the DataFrame to contain only the desired country data."
      ],
      "metadata": {
        "id": "ZZFYds1VccfR"
      }
    },
    {
      "cell_type": "code",
      "source": [
        "\"\"\"Get desired country\"\"\"\n",
        "country = ##Complete here##\n",
        "countryData = data.loc[##Complete here##]"
      ],
      "metadata": {
        "id": "oMSN66Gocb4h"
      },
      "execution_count": null,
      "outputs": []
    },
    {
      "cell_type": "markdown",
      "source": [
        "4. Filter the DataFrame to only contain 'Product', 'Flow' and value for the latest full year. To get the latest year, find the maximum integer value in the column headers."
      ],
      "metadata": {
        "id": "tbAZ9lu2dmmV"
      }
    },
    {
      "cell_type": "code",
      "source": [
        "\"\"\"Get values for latest year\"\"\"\n",
        "lastYear = max([colName for colName in ##Complete here## if isinstance(colName, int)])\n",
        "filterData = countryData[##Complete here##]\n",
        "\n",
        "# Display data\n",
        "display(filterData)"
      ],
      "metadata": {
        "id": "mvTXPkZJdGVI"
      },
      "execution_count": null,
      "outputs": []
    },
    {
      "cell_type": "markdown",
      "source": [
        "5. Filter out rows containing summaries (i.e. Total, Production), different units (GWh) or non-numeric values."
      ],
      "metadata": {
        "id": "zm7v17cIAHkE"
      }
    },
    {
      "cell_type": "code",
      "source": [
        "\"\"\"Filter out Totals and bad characters\"\"\"\n",
        "remove = '|'.join(['Production','Total','GWh'])\n",
        "filterData = filterData[~filterData['Product'].str.##Complete here##]\n",
        "filterData = filterData[~filterData['Flow'].str.##Complete here##]\n",
        "filterData = filterData[[type(i) is not str for i in ##Complete here##]]"
      ],
      "metadata": {
        "id": "QclZtJU2MvMh"
      },
      "execution_count": null,
      "outputs": []
    },
    {
      "cell_type": "markdown",
      "source": [
        "6. Let's match the format in the files for the US example that you can find in the 'example_data' folder."
      ],
      "metadata": {
        "id": "Y-DLC_02Asy6"
      }
    },
    {
      "cell_type": "code",
      "source": [
        "\"\"\"Create dataset table\"\"\"\n",
        "# Rename the columns to define source, target and value\n",
        "filterData.rename(##Complete here##, inplace=True)\n",
        "\n",
        "# Create type column\n",
        "filterData['type'] = ##Complete here##\n",
        "\n",
        "# Get absolute values to display exports\n",
        "filterData['value'] = ##Complete here##\n",
        "\n",
        "# Create groupings - Attibutes all rows with the right element to a group defined by the left element\n",
        "groups = [['Electricity','Electricity'],['Oil products','Oil refineries']]\n",
        "for g in groups:\n",
        "  filterData['target'] = [g[0] if g[1] in i['target'] else i['target'] for i in filterData.iloc]\n",
        "\n",
        "# Order data so that imports are considered a source and not a target\n",
        "import numpy as np\n",
        "orderData = filterData.copy()\n",
        "importRows = np.where(['Imports' in i for i in filterData['target']])[0]\n",
        "orderData['source'].iloc[importRows] = ##Complete here##\n",
        "orderData['target'].iloc[importRows] = ##Complete here##\n",
        "\n",
        "display(orderData)"
      ],
      "metadata": {
        "id": "a9yqcjKRAedh"
      },
      "execution_count": null,
      "outputs": []
    },
    {
      "cell_type": "markdown",
      "source": [
        "7. Let's display all the individual sources and targets and attribute them to process groups for our Sankey diagram."
      ],
      "metadata": {
        "id": "U5sWPIkTitba"
      }
    },
    {
      "cell_type": "code",
      "source": [
        "\"\"\"Display individual sources and targets\"\"\"\n",
        "display(orderData['source'].unique(), orderData['target'].unique())"
      ],
      "metadata": {
        "id": "rNyz6PN5zMSn"
      },
      "execution_count": null,
      "outputs": []
    },
    {
      "cell_type": "code",
      "source": [
        "\"\"\"Attribute to process groups\"\"\"\n",
        "sources = ##Complete here##\n",
        "uses = ##Complete here##\n",
        "imports = ##Complete here##\n",
        "exports = ##Complete here##\n",
        "electricity = ##Complete here##\n",
        "refining = ##Complete here##"
      ],
      "metadata": {
        "id": "QCYGtF-uzQY2"
      },
      "execution_count": null,
      "outputs": []
    },
    {
      "cell_type": "markdown",
      "source": [
        "8. Create process table as in us-energy-consumption-processes.csv"
      ],
      "metadata": {
        "id": "5oUsLPrKDXFa"
      }
    },
    {
      "cell_type": "code",
      "source": [
        "\"\"\"Get all unique types of sources and targets listed in products and flows respectively\"\"\"\n",
        "idColumn = np.concatenate((sources,uses))\n",
        "typeColumn = ['source']*len(sources)+['use']*len(uses)\n",
        "processes = pd.DataFrame(np.array([idColumn,typeColumn]).transpose(), columns=['id','type'])"
      ],
      "metadata": {
        "id": "l0_lBNM0DYMr"
      },
      "execution_count": null,
      "outputs": []
    },
    {
      "cell_type": "markdown",
      "source": [
        "We now have the same tables as used in the US example. Time to build our own Sankey!"
      ],
      "metadata": {
        "id": "KTEMYlKiTOFQ"
      }
    },
    {
      "cell_type": "code",
      "source": [
        "\"\"\"Load the dataset\"\"\"\n",
        "dataset = Dataset(orderData, dim_process=processes.set_index('id'))"
      ],
      "metadata": {
        "id": "CwieA1CPTMFB"
      },
      "execution_count": null,
      "outputs": []
    },
    {
      "cell_type": "markdown",
      "source": [
        "9. Fetch the Sankey definition for the US energy consumption example from the `\"\"\"define the Sankey diagram definition\"\"\"` box, adapt this to fit with your new process groups defined in step 7. Adapting the flows can be quite fiddly, we need to think effectively about the order of the flows. If you've spent over 30 minutes trying to work this out without success consider the solution sheet, but it's worth getting a bit frustrated first to understand how these flows hold together."
      ],
      "metadata": {
        "id": "IsEQ9EAHidc9"
      }
    },
    {
      "cell_type": "code",
      "source": [
        "\"\"\"Define the Sankey diagram definition\"\"\"\n",
        "##Complete here##"
      ],
      "metadata": {
        "id": "b9d2J6dWic5q"
      },
      "execution_count": null,
      "outputs": []
    },
    {
      "cell_type": "code",
      "source": [
        "\"\"\"Define the colours to roughly imitate the original Sankey diagram\"\"\"\n",
        "palette = {\n",
        "    ##Complete here##\n",
        "}"
      ],
      "metadata": {
        "id": "j5pkN2sliKr1"
      },
      "execution_count": null,
      "outputs": []
    },
    {
      "cell_type": "code",
      "source": [
        "\"\"\"Draw out Sankey\"\"\"\n",
        "sdd = SankeyDefinition(nodes, bundles, ordering,\n",
        "                       flow_partition=dataset.partition('type'))\n",
        "weave(sdd, dataset, palette=palette) \\\n",
        "    .to_widget(width=900, height=500, margins=dict(left=100, right=200)) \\\n",
        ".auto_save_svg(country+'Sankey.svg')"
      ],
      "metadata": {
        "id": "_EyAAE6plFVB"
      },
      "execution_count": null,
      "outputs": []
    },
    {
      "cell_type": "markdown",
      "source": [
        "# Task 3 - Let's automate this procedure for any country with just one click."
      ],
      "metadata": {
        "id": "C_UVdtv9S_zO"
      }
    },
    {
      "cell_type": "markdown",
      "source": [
        "Define a function that incorporates all of the previous steps while thinking about still being able to modify it from the outside. The `%%writefile` command writes this function to a Python file when the cell is run."
      ],
      "metadata": {
        "id": "8EHE0BQlTKoG"
      }
    },
    {
      "cell_type": "code",
      "source": [
        "%%writefile draw_sankey.py\n",
        "import numpy as np\n",
        "import pandas as pd\n",
        "from floweaver import *\n",
        "\n",
        "def draw_Country_Sankey()##Complete here##:\n",
        "    \"\"\"This function creates a Sankey diagram for the data contained in the specified\n",
        "    .xlsx file according to the specified parameters\"\"\"\n",
        "    \n",
        "    # Function definitions for each processing stage\n",
        "    def get_country_data()##Complete here##:\n",
        "        \"\"\"Extract data for desired country from Excel sheet to pandas dataFrame\"\"\"\n",
        "        ##Complete here##\n",
        "\n",
        "    def filter_data()##Complete here##:\n",
        "        \"\"\"Filter dataFrame according to year and removing rows with unused data\"\"\"\n",
        "        ##Complete here##\n",
        "\n",
        "    def format_data()##Complete here##:\n",
        "        \"\"\"Format dataFrame to be in correct format for floweaver\"\"\"\n",
        "        ##Complete here##\n",
        "\n",
        "    def group_processes():\n",
        "        \"\"\"Group inputs and outputs that represent same process\"\"\"\n",
        "        ##Complete here##\n",
        "\n",
        "    def reorder_data()##Complete here##:\n",
        "        \"\"\"Order data so that imports are considered a source and not a target\"\"\"\n",
        "        ##Complete here##\n",
        "\n",
        "    def create_process_df()##Complete here##:\n",
        "        \"\"\"Get all unique types of sources and targets listed in products and flows respectively\"\"\"\n",
        "        ##Complete here##\n",
        "\n",
        "    # Define default parameters\n",
        "    params={\n",
        "        ##Complete here##\n",
        "    }\n",
        "\n",
        "    diagramParams={\n",
        "        ##Complete here##\n",
        "    } \n",
        "\n",
        "    # Update default parameters if other parameters are passed to the function\n",
        "    ##Complete here##\n",
        "\n",
        "    # Data processing\n",
        "    countryData = get_country_data(##Complete here##)\n",
        "    filterData, year = filter_data(##Complete here##)\n",
        "    formattedData = format_data(##Complete here##)\n",
        "    groupData = group_processes(##Complete here##)\n",
        "    orderedData = reorder_data(##Complete here##)\n",
        "\n",
        "    # Create processes\n",
        "    processes = create_process_df(##Complete here##)\n",
        "\n",
        "    # Create Sankey Dataset\n",
        "    dataset = Dataset(##Complete here##)\n",
        "\n",
        "    # Return sankey diagram\n",
        "    sdd = SankeyDefinition(##Complete here##, flow_partition=dataset.partition('type'))\n",
        "    return weave(##Complete here##).to_widget(width=900, height=500, margins=dict(left=100, right=200)) \\\n",
        "    .auto_save_svg(##Complete here##)\n"
      ],
      "metadata": {
        "id": "C9ayL5MjKlp4"
      },
      "execution_count": null,
      "outputs": []
    },
    {
      "cell_type": "markdown",
      "source": [
        "Now import the function you've created from the written file. This could be done from any Jupyter notebook or python script."
      ],
      "metadata": {
        "id": "VgecwLNSEhao"
      }
    },
    {
      "cell_type": "code",
      "source": [
        "# Import function\n",
        "import draw_sankey as ds\n",
        "\n",
        "# Reloads function in case you've already imported it to this notebook\n",
        "from importlib import reload\n",
        "reload(ds)"
      ],
      "metadata": {
        "id": "lIEi8zwhzf9E"
      },
      "execution_count": null,
      "outputs": []
    },
    {
      "cell_type": "code",
      "source": [
        "# Define variables\n",
        "fileName = 'WorldEnergyBalancesHighlights2021.xlsx'\n",
        "sheetName = 'TimeSeries_1971-2020'\n",
        "country = 'France'\n",
        "\n",
        "# Call function\n",
        "diagram = ds.draw_Country_Sankey(fileName, sheetName, {'countryName':country})\n",
        "\n",
        "# Display Sankey\n",
        "display(diagram)"
      ],
      "metadata": {
        "id": "MXcm6Erv5O4L"
      },
      "execution_count": null,
      "outputs": []
    },
    {
      "cell_type": "markdown",
      "source": [
        "If this has worked then have a play around and make sure it works for any country by simply modifying the `country` variable."
      ],
      "metadata": {
        "id": "R31MV8K5E6rK"
      }
    },
    {
      "cell_type": "markdown",
      "source": [
        "The solution example is written according to the principles of functional programming, but this could also be written according to object-oriented programming by defining the sankey diagram as a `Class`. If you are a Python expert already and feeling bored why not have a go at re-writing the draw_sankey.py file as a Class definition. Alternatively you could solidify the function you've created with error messages to catch bad inputs or even create a widget which allows you to pick the country you're after off a list rather than typing in the variable."
      ],
      "metadata": {
        "id": "TvWHnhJADiMV"
      }
    }
  ],
  "metadata": {
    "kernelspec": {
      "display_name": "Python 3",
      "language": "python",
      "name": "python3"
    },
    "language_info": {
      "codemirror_mode": {
        "name": "ipython",
        "version": 3
      },
      "file_extension": ".py",
      "mimetype": "text/x-python",
      "name": "python",
      "nbconvert_exporter": "python",
      "pygments_lexer": "ipython3",
      "version": "3.7.6"
    },
    "colab": {
      "name": "energy-consumption.ipynb",
      "provenance": [],
      "include_colab_link": true
    }
  },
  "nbformat": 4,
  "nbformat_minor": 0
}
