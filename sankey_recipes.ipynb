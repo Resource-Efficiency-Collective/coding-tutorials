{
  "nbformat": 4,
  "nbformat_minor": 0,
  "metadata": {
    "colab": {
      "name": "sankey_recipes.ipynb",
      "provenance": [],
      "authorship_tag": "ABX9TyObZy9r1tjvVZ9DI5fUB6f2",
      "include_colab_link": true
    },
    "kernelspec": {
      "name": "python3",
      "display_name": "Python 3"
    },
    "language_info": {
      "name": "python"
    }
  },
  "cells": [
    {
      "cell_type": "markdown",
      "metadata": {
        "id": "view-in-github",
        "colab_type": "text"
      },
      "source": [
        "<a href=\"https://colab.research.google.com/github/Resource-Efficiency-Collective/coding-tutorials/blob/main/sankey_recipes.ipynb\" target=\"_parent\"><img src=\"https://colab.research.google.com/assets/colab-badge.svg\" alt=\"Open In Colab\"/></a>"
      ]
    },
    {
      "cell_type": "markdown",
      "source": [
        "# Sankey recipes\n",
        "Here are some recipes for typical problems visualised as a Sankey diagram.\n",
        "\n",
        "Please run the first two cells to setup the notebook."
      ],
      "metadata": {
        "id": "VjlUmPJRwsDQ"
      }
    },
    {
      "cell_type": "code",
      "execution_count": null,
      "metadata": {
        "id": "aaB-_89wwNy2",
        "cellView": "form"
      },
      "outputs": [],
      "source": [
        "# @markdown Run this cell to download data. You can view it in the panel on the left.\n",
        "%%capture\n",
        "\"\"\"Installation and downloads\"\"\"\n",
        "# Install floweaver and display widget packages\n",
        "%pip install floweaver ipysankeywidget\n",
        "\n",
        "# Import packages\n",
        "import pandas as pd\n",
        "from io import StringIO\n",
        "from floweaver import *\n",
        "from ipywidgets import HBox\n",
        "import gdown, os\n",
        "\n",
        "# Function to download and unzip the examples file from Google Drive -> You can view them in the left panel\n",
        "def download_and_unzip_from_google_drive(file_id = '1qriY29v7eKJIs07UxAw5RlJirfwuLnyP', destination_folder = 'example_data'):\n",
        "    if os.path.exists(destination_folder):\n",
        "      print('zip file already downloaded. If you want to reload then please delete the example_data folder.')\n",
        "      return\n",
        "\n",
        "    else:\n",
        "      download_url = f\"https://drive.google.com/uc?id={file_id}\"\n",
        "      !wget -O temp.zip $download_url\n",
        "\n",
        "      os.makedirs(destination_folder)\n",
        "      !unzip temp.zip -d $destination_folder\n",
        "\n",
        "      os.remove(\"temp.zip\")\n",
        "\n",
        "download_and_unzip_from_google_drive()\n",
        "\n",
        "# Set the default size to fit the documentation better.\n",
        "size = dict(width=570, height=300)"
      ]
    },
    {
      "cell_type": "code",
      "source": [
        "\"\"\"Display setup\"\"\"\n",
        "# Enable widget display for Sankeys in Colab\n",
        "from google.colab import output\n",
        "output.enable_custom_widget_manager()"
      ],
      "metadata": {
        "id": "P2B3Xs-uxDS4"
      },
      "execution_count": null,
      "outputs": []
    },
    {
      "cell_type": "markdown",
      "source": [
        "## 1 - Imports & exports\n",
        "\n",
        "This recipe demonstrates how to show import and export flows to/from a simple process chain.\n",
        "\n",
        "For demonstration, the CSV data is written directly in the cell below -- in practice you would want to load data a file."
      ],
      "metadata": {
        "id": "6TzVlY4-xGlw"
      }
    },
    {
      "cell_type": "code",
      "source": [
        "flows = pd.read_csv(StringIO(\"\"\"\n",
        "source,target,type,value\n",
        "a,b,main,3\n",
        "b,c,main,4\n",
        "imports,b,import/export,2\n",
        "b,exports,import/export,1\n",
        "\"\"\"))\n",
        "\n",
        "flows"
      ],
      "metadata": {
        "id": "TsW0nNF3xI4n"
      },
      "execution_count": null,
      "outputs": []
    },
    {
      "cell_type": "markdown",
      "source": [
        "Here is the basic structure of the Sankey diagram: a chain of processes `a -- b --- c`."
      ],
      "metadata": {
        "id": "9ghl1jVbxRTI"
      }
    },
    {
      "cell_type": "code",
      "source": [
        "nodes = {\n",
        "    'a': ProcessGroup(['a']),\n",
        "    'b': ProcessGroup(['b']),\n",
        "    'c': ProcessGroup(['c']),\n",
        "}\n",
        "\n",
        "bundles = [\n",
        "    Bundle('a', 'b'),\n",
        "    Bundle('b', 'c'),\n",
        "]\n",
        "\n",
        "ordering = [\n",
        "    ['a'],\n",
        "    ['b'],\n",
        "    ['c'],\n",
        "]\n",
        "\n",
        "sdd = SankeyDefinition(nodes, bundles, ordering)\n",
        "\n",
        "weave(sdd, flows).to_widget(**size)"
      ],
      "metadata": {
        "id": "hYjtlXgTxSgY"
      },
      "execution_count": null,
      "outputs": []
    },
    {
      "cell_type": "markdown",
      "source": [
        "To get more control over the appearance of the import/export flows, they can be controlled using Waypoints:"
      ],
      "metadata": {
        "id": "odrW1HMxxX6Q"
      }
    },
    {
      "cell_type": "code",
      "source": [
        "nodes = {\n",
        "    'a': ProcessGroup(['a']),\n",
        "    'b': ProcessGroup(['b']),\n",
        "    'c': ProcessGroup(['c']),\n",
        "    'imports': Waypoint(),\n",
        "    'exports': Waypoint(),\n",
        "}\n",
        "\n",
        "bundles = [\n",
        "    Bundle('a', 'b'),\n",
        "    Bundle('b', 'c'),\n",
        "    Bundle(Elsewhere, 'b', waypoints=['imports']),\n",
        "    Bundle('b', Elsewhere, waypoints=['exports']),\n",
        "]\n",
        "\n",
        "ordering = [\n",
        "    [['a'], ['imports']],\n",
        "    [['b']],\n",
        "    [['c'], ['exports']],\n",
        "]\n",
        "\n",
        "sdd = SankeyDefinition(nodes, bundles, ordering)\n",
        "\n",
        "weave(sdd, flows).to_widget(**size)"
      ],
      "metadata": {
        "id": "C1_pPX4kxYNQ"
      },
      "execution_count": null,
      "outputs": []
    },
    {
      "cell_type": "markdown",
      "source": [
        "To get different colours for imports/exports, we need to modify the SDD to use the `type` column to distinguish different types of flow:"
      ],
      "metadata": {
        "id": "FX_KxB2cxbIt"
      }
    },
    {
      "cell_type": "code",
      "source": [
        "sdd = SankeyDefinition(nodes, bundles, ordering, flow_partition=Partition.Simple('type', ['main', 'import/export']))\n",
        "\n",
        "weave(sdd, flows).to_widget(**size)"
      ],
      "metadata": {
        "id": "cptBHE40xbbZ"
      },
      "execution_count": null,
      "outputs": []
    },
    {
      "cell_type": "markdown",
      "source": [
        "Finally, you can customise the colour scheme:"
      ],
      "metadata": {
        "id": "Jnv3h7kzxeYT"
      }
    },
    {
      "cell_type": "code",
      "source": [
        "weave(sdd, flows, palette={'main': 'steelblue', 'import/export': 'lightblue'}).to_widget(**size)"
      ],
      "metadata": {
        "id": "-FQGKzXKxe74"
      },
      "execution_count": null,
      "outputs": []
    },
    {
      "cell_type": "markdown",
      "source": [
        "## 2 - Forwards & backwards flows\n",
        "\n",
        "This recipe demonstrates how forwards and backwards flows work.\n",
        "\n",
        "For demonstration, the CSV data is written directly in the cell below -- in practice you would want to load data a file."
      ],
      "metadata": {
        "id": "elsoqJyHx186"
      }
    },
    {
      "cell_type": "code",
      "source": [
        "flows = pd.read_csv(StringIO(\"\"\"\n",
        "source,target,type,value\n",
        "a,b,main,2\n",
        "a,c,main,1\n",
        "c,d,main,3\n",
        "b,c,back,2\n",
        "\"\"\"))\n",
        "\n",
        "flows"
      ],
      "metadata": {
        "id": "IOJRXT9Vxikg"
      },
      "execution_count": null,
      "outputs": []
    },
    {
      "cell_type": "markdown",
      "source": [
        "Here is one structure, with nodes `b` and `c` both in the same vertical slice:"
      ],
      "metadata": {
        "id": "UEwaOeyDx7dg"
      }
    },
    {
      "cell_type": "code",
      "source": [
        "nodes = {\n",
        "    'a': ProcessGroup(['a']),\n",
        "    'b': ProcessGroup(['b']),\n",
        "    'c': ProcessGroup(['c']),\n",
        "    'd': ProcessGroup(['d']),\n",
        "    'back': Waypoint(direction='L'),\n",
        "}\n",
        "\n",
        "bundles = [\n",
        "    Bundle('a', 'b'),\n",
        "    Bundle('a', 'c'),\n",
        "    Bundle('b', 'c', waypoints=['back']),\n",
        "    Bundle('c', 'd'),\n",
        "    Bundle('c', 'b'),\n",
        "]\n",
        "\n",
        "ordering = [\n",
        "    [['a'], []],\n",
        "    [['b', 'c'], ['back']],\n",
        "    [['d'], []],\n",
        "]\n",
        "\n",
        "sdd = SankeyDefinition(nodes, bundles, ordering)\n",
        "\n",
        "weave(sdd, flows).to_widget(**size)"
      ],
      "metadata": {
        "id": "saOHl1_Yx50A"
      },
      "execution_count": null,
      "outputs": []
    },
    {
      "cell_type": "markdown",
      "source": [
        "Alternatively, if `b` is moved to the right, extra hidden waypoints are automatically added to get the `b--c` flow back to the left of `c`:"
      ],
      "metadata": {
        "id": "B53YWdz2yCWc"
      }
    },
    {
      "cell_type": "code",
      "source": [
        "bundles = [\n",
        "    Bundle('a', 'b'),\n",
        "    Bundle('a', 'c'),\n",
        "    Bundle('b', 'c'),\n",
        "    Bundle('c', 'd'),\n",
        "    Bundle('c', 'b'),\n",
        "]\n",
        "\n",
        "ordering = [\n",
        "    [['a'], []],\n",
        "    [['c'], ['back']],\n",
        "    [['b', 'd'], []],\n",
        "]\n",
        "\n",
        "sdd = SankeyDefinition(nodes, bundles, ordering)\n",
        "\n",
        "weave(sdd, flows).to_widget(**size)"
      ],
      "metadata": {
        "id": "iIjI64lByCn4"
      },
      "execution_count": null,
      "outputs": []
    },
    {
      "cell_type": "markdown",
      "source": [
        "## 3 - \"Fruit\" example (from Hybrid Sankey diagrams paper)\n",
        "\n",
        "This notebook gives a fairly complicated example of building a Sankey diagram from the sample \"fruit\" database used in the paper [Hybrid Sankey diagrams: Visual analysis of multidimensional data for understanding resource use](https://doi.org/10.1016/j.resconrec.2017.05.002).\n",
        "\n",
        "For more explanation of the steps and concepts, see the [tutorials](../tutorials/index.ipynb)."
      ],
      "metadata": {
        "id": "CWPvO_ogycqi"
      }
    },
    {
      "cell_type": "code",
      "source": [
        "# Load dataset\n",
        "dataset = Dataset.from_csv('example_data/fruit_flows.csv', 'example_data/fruit_processes.csv')"
      ],
      "metadata": {
        "id": "MPnThre4yEA6"
      },
      "execution_count": null,
      "outputs": []
    },
    {
      "cell_type": "markdown",
      "source": [
        "This made-up dataset describes flows from farms to consumers:"
      ],
      "metadata": {
        "id": "JS7sMUd_yn83"
      }
    },
    {
      "cell_type": "code",
      "source": [
        "dataset._flows.head()"
      ],
      "metadata": {
        "id": "evkd5WOzykxJ"
      },
      "execution_count": null,
      "outputs": []
    },
    {
      "cell_type": "markdown",
      "source": [
        "Additional information is available in the process dimension table:"
      ],
      "metadata": {
        "id": "lRZD2W3Rys0H"
      }
    },
    {
      "cell_type": "code",
      "source": [
        "dataset._dim_process.head()"
      ],
      "metadata": {
        "id": "gFS7Krkeyq7_"
      },
      "execution_count": null,
      "outputs": []
    },
    {
      "cell_type": "markdown",
      "source": [
        "We'll also define some partitions that will be useful:"
      ],
      "metadata": {
        "id": "FmIHvh96yw5o"
      }
    },
    {
      "cell_type": "code",
      "source": [
        "farm_ids = ['farm{}'.format(i) for i in range(1, 16)]\n",
        "\n",
        "farm_partition_5 = Partition.Simple('process', [('Other farms', farm_ids[5:])] + farm_ids[:5])\n",
        "partition_fruit = Partition.Simple('material', ['bananas', 'apples', 'oranges'])\n",
        "partition_sector = Partition.Simple('process.sector', ['government', 'industry', 'domestic'])"
      ],
      "metadata": {
        "id": "vQspZXTiyus4"
      },
      "execution_count": null,
      "outputs": []
    },
    {
      "cell_type": "markdown",
      "source": [
        "Now define the Sankey diagram definition.\n",
        "\n",
        "- Process groups represent sets of processes in the underlying database. The underlying processes can be specified as a list of ids (e.g. `['inputs']`) or as a Pandas query expression (e.g. `'function == \"landfill\"'`).\n",
        "- Waypoints allow extra control over the partitioning and placement of flows."
      ],
      "metadata": {
        "id": "GGhQbg9my0WD"
      }
    },
    {
      "cell_type": "code",
      "source": [
        "nodes = {\n",
        "    'inputs':     ProcessGroup(['inputs'], title='Inputs'),\n",
        "    'compost':    ProcessGroup('function == \"composting stock\"', title='Compost'),\n",
        "    'farms':      ProcessGroup('function in [\"allotment\", \"large farm\", \"small farm\"]', farm_partition_5),\n",
        "    'eat':        ProcessGroup('function == \"consumers\" and location != \"London\"', partition_sector,\n",
        "                               title='consumers by sector'),\n",
        "    'landfill':   ProcessGroup('function == \"landfill\" and location != \"London\"', title='Landfill'),\n",
        "    'composting': ProcessGroup('function == \"composting process\" and location != \"London\"', title='Composting'),\n",
        "\n",
        "    'fruit':        Waypoint(partition_fruit, title='fruit type'),\n",
        "    'w1':           Waypoint(direction='L', title=''),\n",
        "    'w2':           Waypoint(direction='L', title=''),\n",
        "    'export fruit': Waypoint(Partition.Simple('material', ['apples', 'bananas', 'oranges'])),\n",
        "    'exports':      Waypoint(title='Exports'),\n",
        "}"
      ],
      "metadata": {
        "id": "WEFNURnIyycI"
      },
      "execution_count": null,
      "outputs": []
    },
    {
      "cell_type": "markdown",
      "source": [
        "The ordering defines how the process groups and waypoints are arranged in the final diagram. It is structured as a list of vertical *layers* (from left to right), each containing a list of horizontal *bands* (from top to bottom), each containing a list of process group and waypoint ids (from top to bottom)."
      ],
      "metadata": {
        "id": "0wpAHuRvy52Y"
      }
    },
    {
      "cell_type": "code",
      "source": [
        "ordering = [\n",
        "    [[], ['inputs', 'compost'], []],\n",
        "    [[], ['farms'], ['w2']],\n",
        "    [['exports'], ['fruit'], []],\n",
        "    [[], ['eat'], []],\n",
        "    [['export fruit'], ['landfill', 'composting'], ['w1']],\n",
        "]"
      ],
      "metadata": {
        "id": "roFjXSeSy2Ix"
      },
      "execution_count": null,
      "outputs": []
    },
    {
      "cell_type": "markdown",
      "source": [
        "Bundles represent flows in the underlying database:"
      ],
      "metadata": {
        "id": "sh48BxfUy-QJ"
      }
    },
    {
      "cell_type": "code",
      "source": [
        "bundles = [\n",
        "    Bundle('inputs', 'farms'),\n",
        "    Bundle('compost', 'farms'),\n",
        "    Bundle('farms', 'eat', waypoints=['fruit']),\n",
        "    Bundle('farms', 'compost', waypoints=['w2']),\n",
        "    Bundle('eat', 'landfill'),\n",
        "    Bundle('eat', 'composting'),\n",
        "    Bundle('composting', 'compost', waypoints=['w1', 'w2']),\n",
        "    Bundle('farms', Elsewhere, waypoints=['exports', 'export fruit']),\n",
        "]"
      ],
      "metadata": {
        "id": "fllR5sE2y7i4"
      },
      "execution_count": null,
      "outputs": []
    },
    {
      "cell_type": "markdown",
      "source": [
        "Finally, the process groups, waypoints, bundles and ordering are combined into a Sankey diagram definition (SDD). When applied to the dataset, the result is a Sankey diagram!"
      ],
      "metadata": {
        "id": "EVcN4NVvzBjA"
      }
    },
    {
      "cell_type": "code",
      "source": [
        "sdd = SankeyDefinition(nodes, bundles, ordering,\n",
        "                       flow_partition=dataset.partition('material'))\n",
        "weave(sdd, dataset) \\\n",
        "    .to_widget(width=570, height=550, margins=dict(left=70, right=90))"
      ],
      "metadata": {
        "id": "OmatrWx1y_4A"
      },
      "execution_count": null,
      "outputs": []
    },
    {
      "cell_type": "markdown",
      "source": [
        "# Setting the scale\n",
        "\n",
        "This recipe demonstrates how the scale of the Sankey diagram is set.\n",
        "\n",
        "By default the scale is calculated for each diagram to achieve a certain whitespace-to-flow ratio within the height that is given. But in some cases, you may want to set the scale explicitly.\n",
        "\n",
        "For demonstration, the CSV data is written directly in the cell below -- in practice you would want to load data a file."
      ],
      "metadata": {
        "id": "VUu1a_HfzJg4"
      }
    },
    {
      "cell_type": "code",
      "source": [
        "flows = pd.read_csv(StringIO(\"\"\"\n",
        "year,source,target,value\n",
        "2020,A,B,10\n",
        "2025,A,B,20\n",
        "\"\"\"))\n",
        "\n",
        "flows"
      ],
      "metadata": {
        "id": "zKnVxArmzLk4"
      },
      "execution_count": null,
      "outputs": []
    },
    {
      "cell_type": "code",
      "source": [
        "nodes = {\n",
        "    'A': ProcessGroup(['A']),\n",
        "    'B': ProcessGroup(['B']),\n",
        "}\n",
        "\n",
        "bundles = [\n",
        "    Bundle('A', 'B'),\n",
        "]\n",
        "\n",
        "ordering = [['A'], ['B']]\n",
        "\n",
        "sdd = SankeyDefinition(nodes, bundles, ordering)"
      ],
      "metadata": {
        "id": "jX3yjDuczNf5"
      },
      "execution_count": null,
      "outputs": []
    },
    {
      "cell_type": "markdown",
      "source": [
        "If we draw the flow for the year 2020 and the year 2025 separately, they appear the same:"
      ],
      "metadata": {
        "id": "5QeSCNklzSWg"
      }
    },
    {
      "cell_type": "code",
      "source": [
        "w1 = weave(sdd, flows.query('year == 2020')).to_widget(**size)\n",
        "w1"
      ],
      "metadata": {
        "id": "6TqXDBx5zPzA"
      },
      "execution_count": null,
      "outputs": []
    },
    {
      "cell_type": "code",
      "source": [
        "w2 = weave(sdd, flows.query('year == 2025')).to_widget(**size)\n",
        "w2"
      ],
      "metadata": {
        "id": "B1JBke5mzUpo"
      },
      "execution_count": null,
      "outputs": []
    },
    {
      "cell_type": "markdown",
      "source": [
        "But in fact they have different scales:"
      ],
      "metadata": {
        "id": "VyZW7PDjzXSZ"
      }
    },
    {
      "cell_type": "code",
      "source": [
        "w1.scale, w2.scale"
      ],
      "metadata": {
        "id": "rwKVAuJ6zV2i"
      },
      "execution_count": null,
      "outputs": []
    },
    {
      "cell_type": "markdown",
      "source": [
        "The units of the scale are `units-of-value` per pixel.\n",
        "\n",
        "If we draw the Sankeys again while setting the scale, we can see that the flow indeed has changed between years:"
      ],
      "metadata": {
        "id": "ii7lvMKxzbMg"
      }
    },
    {
      "cell_type": "code",
      "source": [
        "SCALE = 2.0\n",
        "\n",
        "w1 = weave(sdd, flows.query('year == 2020')).to_widget(**size)\n",
        "w2 = weave(sdd, flows.query('year == 2025')).to_widget(**size)\n",
        "\n",
        "w1.scale = w2.scale = SCALE\n",
        "\n",
        "HBox([w1, w2])"
      ],
      "metadata": {
        "id": "5K5IOpDtzZH6"
      },
      "execution_count": null,
      "outputs": []
    },
    {
      "cell_type": "code",
      "source": [],
      "metadata": {
        "id": "uRLxB1bZhLcO"
      },
      "execution_count": null,
      "outputs": []
    }
  ]
}