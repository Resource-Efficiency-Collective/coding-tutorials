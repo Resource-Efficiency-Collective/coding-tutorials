{
  "nbformat": 4,
  "nbformat_minor": 0,
  "metadata": {
    "colab": {
      "name": "sankey_recipes.ipynb",
      "provenance": [],
      "authorship_tag": "ABX9TyPwRUSW+az+VzwWk0qccW73",
      "include_colab_link": true
    },
    "kernelspec": {
      "name": "python3",
      "display_name": "Python 3"
    },
    "language_info": {
      "name": "python"
    }
  },
  "cells": [
    {
      "cell_type": "markdown",
      "metadata": {
        "id": "view-in-github",
        "colab_type": "text"
      },
      "source": [
        "<a href=\"https://colab.research.google.com/github/Resource-Efficiency-Collective/coding-tutorials/blob/main/sankey_recipes.ipynb\" target=\"_parent\"><img src=\"https://colab.research.google.com/assets/colab-badge.svg\" alt=\"Open In Colab\"/></a>"
      ]
    },
    {
      "cell_type": "markdown",
      "source": [
        "# Sankey recipes\n",
        "Here are some recipes for typical problems visualised as a Sankey diagram.\n",
        "\n",
        "Please run the first two cells to setup the notebook."
      ],
      "metadata": {
        "id": "VjlUmPJRwsDQ"
      }
    },
    {
      "cell_type": "code",
      "execution_count": null,
      "metadata": {
        "id": "aaB-_89wwNy2"
      },
      "outputs": [],
      "source": [
        "%%capture\n",
        "\"\"\"Installation and downloads\"\"\"\n",
        "# Install floweaver and display widget packages\n",
        "%pip install floweaver ipysankeywidget\n",
        "\n",
        "# Import packages\n",
        "import pandas as pd\n",
        "from io import StringIO\n",
        "from floweaver import *\n",
        "from ipywidgets import HBox\n",
        "import gdown, os\n",
        "\n",
        "# Import and unzip example data -> You can then view them in the left files panel\n",
        "folder, zip_path = 'example_data', 'example_data.zip'\n",
        "if not os.path.exists(folder): \n",
        "  gdown.download('https://drive.google.com/uc?id=1qriY29v7eKJIs07UxAw5RlJirfwuLnyP', zip_path ,quiet=True)\n",
        "  ! unzip $zip_path -d 'example_data'\n",
        "  ! rm $zip_path\n",
        "\n",
        "# Set the default size to fit the documentation better.\n",
        "size = dict(width=570, height=300)"
      ]
    },
    {
      "cell_type": "code",
      "source": [
        "\"\"\"Display setup\"\"\"\n",
        "# Enable widget display for Sankeys in Colab\n",
        "from google.colab import output\n",
        "output.enable_custom_widget_manager()"
      ],
      "metadata": {
        "id": "P2B3Xs-uxDS4"
      },
      "execution_count": null,
      "outputs": []
    },
    {
      "cell_type": "markdown",
      "source": [
        "## 1 - Imports & exports\n",
        "\n",
        "This recipe demonstrates how to show import and export flows to/from a simple process chain.\n",
        "\n",
        "For demonstration, the CSV data is written directly in the cell below -- in practice you would want to load data a file."
      ],
      "metadata": {
        "id": "6TzVlY4-xGlw"
      }
    },
    {
      "cell_type": "code",
      "source": [
        "flows = pd.read_csv(StringIO(\"\"\"\n",
        "source,target,type,value\n",
        "a,b,main,3\n",
        "b,c,main,4\n",
        "imports,b,import/export,2\n",
        "b,exports,import/export,1\n",
        "\"\"\"))\n",
        "\n",
        "flows"
      ],
      "metadata": {
        "id": "TsW0nNF3xI4n"
      },
      "execution_count": null,
      "outputs": []
    },
    {
      "cell_type": "markdown",
      "source": [
        "Here is the basic structure of the Sankey diagram: a chain of processes `a -- b --- c`."
      ],
      "metadata": {
        "id": "9ghl1jVbxRTI"
      }
    },
    {
      "cell_type": "code",
      "source": [
        "nodes = {\n",
        "    'a': ProcessGroup(['a']),\n",
        "    'b': ProcessGroup(['b']),\n",
        "    'c': ProcessGroup(['c']),\n",
        "}\n",
        "\n",
        "bundles = [\n",
        "    Bundle('a', 'b'),\n",
        "    Bundle('b', 'c'),\n",
        "]\n",
        "\n",
        "ordering = [\n",
        "    ['a'],\n",
        "    ['b'],\n",
        "    ['c'],\n",
        "]\n",
        "\n",
        "sdd = SankeyDefinition(nodes, bundles, ordering)\n",
        "\n",
        "weave(sdd, flows).to_widget(**size)"
      ],
      "metadata": {
        "id": "hYjtlXgTxSgY"
      },
      "execution_count": null,
      "outputs": []
    },
    {
      "cell_type": "markdown",
      "source": [
        "To get more control over the appearance of the import/export flows, they can be controlled using Waypoints:"
      ],
      "metadata": {
        "id": "odrW1HMxxX6Q"
      }
    },
    {
      "cell_type": "code",
      "source": [
        "nodes = {\n",
        "    'a': ProcessGroup(['a']),\n",
        "    'b': ProcessGroup(['b']),\n",
        "    'c': ProcessGroup(['c']),\n",
        "    'imports': Waypoint(),\n",
        "    'exports': Waypoint(),\n",
        "}\n",
        "\n",
        "bundles = [\n",
        "    Bundle('a', 'b'),\n",
        "    Bundle('b', 'c'),\n",
        "    Bundle(Elsewhere, 'b', waypoints=['imports']),\n",
        "    Bundle('b', Elsewhere, waypoints=['exports']),\n",
        "]\n",
        "\n",
        "ordering = [\n",
        "    [['a'], ['imports']],\n",
        "    [['b']],\n",
        "    [['c'], ['exports']],\n",
        "]\n",
        "\n",
        "sdd = SankeyDefinition(nodes, bundles, ordering)\n",
        "\n",
        "weave(sdd, flows).to_widget(**size)"
      ],
      "metadata": {
        "id": "C1_pPX4kxYNQ"
      },
      "execution_count": null,
      "outputs": []
    },
    {
      "cell_type": "markdown",
      "source": [
        "To get different colours for imports/exports, we need to modify the SDD to use the `type` column to distinguish different types of flow:"
      ],
      "metadata": {
        "id": "FX_KxB2cxbIt"
      }
    },
    {
      "cell_type": "code",
      "source": [
        "sdd = SankeyDefinition(nodes, bundles, ordering, flow_partition=Partition.Simple('type', ['main', 'import/export']))\n",
        "\n",
        "weave(sdd, flows).to_widget(**size)"
      ],
      "metadata": {
        "id": "cptBHE40xbbZ"
      },
      "execution_count": null,
      "outputs": []
    },
    {
      "cell_type": "markdown",
      "source": [
        "Finally, you can customise the colour scheme:"
      ],
      "metadata": {
        "id": "Jnv3h7kzxeYT"
      }
    },
    {
      "cell_type": "code",
      "source": [
        "weave(sdd, flows, palette={'main': 'steelblue', 'import/export': 'lightblue'}).to_widget(**size)"
      ],
      "metadata": {
        "id": "-FQGKzXKxe74"
      },
      "execution_count": null,
      "outputs": []
    },
    {
      "cell_type": "markdown",
      "source": [
        "### Alternative style\n",
        "\n",
        "An alternative style for showing imports & exports like this isn't currently supported:\n",
        "\n",
        "![imports-exports-alternative-style.png](data:image/png;base64,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)\n",
        "\n",
        "But it should be possible to support with minor changes to the Sankey diagram definition. For example, the difference between this style and the style shown above could be requested by changing:\n",
        "\n",
        "```python\n",
        "Bundle(Elsewhere, 'b', waypoints=['imports'])\n",
        "```\n",
        "to\n",
        "```python\n",
        "Bundle(Elsewhere, 'b', waypoints=[])\n",
        "```\n",
        "\n",
        "The lack of a waypoint would indicate that the flow should be shown as a short \"stub\"."
      ],
      "metadata": {
        "id": "5Z9qyoPMxiNQ"
      }
    },
    {
      "cell_type": "markdown",
      "source": [
        "## 2 - Forwards & backwards flows\n",
        "\n",
        "This recipe demonstrates how forwards and backwards flows work.\n",
        "\n",
        "For demonstration, the CSV data is written directly in the cell below -- in practice you would want to load data a file."
      ],
      "metadata": {
        "id": "elsoqJyHx186"
      }
    },
    {
      "cell_type": "code",
      "source": [
        "flows = pd.read_csv(StringIO(\"\"\"\n",
        "source,target,type,value\n",
        "a,b,main,2\n",
        "a,c,main,1\n",
        "c,d,main,3\n",
        "b,c,back,2\n",
        "\"\"\"))\n",
        "\n",
        "flows"
      ],
      "metadata": {
        "id": "IOJRXT9Vxikg"
      },
      "execution_count": null,
      "outputs": []
    },
    {
      "cell_type": "markdown",
      "source": [
        "Here is one structure, with nodes `b` and `c` both in the same vertical slice:"
      ],
      "metadata": {
        "id": "UEwaOeyDx7dg"
      }
    },
    {
      "cell_type": "code",
      "source": [
        "nodes = {\n",
        "    'a': ProcessGroup(['a']),\n",
        "    'b': ProcessGroup(['b']),\n",
        "    'c': ProcessGroup(['c']),\n",
        "    'd': ProcessGroup(['d']),\n",
        "    'back': Waypoint(direction='L'),\n",
        "}\n",
        "\n",
        "bundles = [\n",
        "    Bundle('a', 'b'),\n",
        "    Bundle('a', 'c'),\n",
        "    Bundle('b', 'c', waypoints=['back']),\n",
        "    Bundle('c', 'd'),\n",
        "    Bundle('c', 'b'),\n",
        "]\n",
        "\n",
        "ordering = [\n",
        "    [['a'], []],\n",
        "    [['b', 'c'], ['back']],\n",
        "    [['d'], []],\n",
        "]\n",
        "\n",
        "sdd = SankeyDefinition(nodes, bundles, ordering)\n",
        "\n",
        "weave(sdd, flows).to_widget(**size)"
      ],
      "metadata": {
        "id": "saOHl1_Yx50A"
      },
      "execution_count": null,
      "outputs": []
    },
    {
      "cell_type": "markdown",
      "source": [
        "Alternatively, if `b` is moved to the right, extra hidden waypoints are automatically added to get the `b--c` flow back to the left of `c`:"
      ],
      "metadata": {
        "id": "B53YWdz2yCWc"
      }
    },
    {
      "cell_type": "code",
      "source": [
        "bundles = [\n",
        "    Bundle('a', 'b'),\n",
        "    Bundle('a', 'c'),\n",
        "    Bundle('b', 'c'),\n",
        "    Bundle('c', 'd'),\n",
        "    Bundle('c', 'b'),\n",
        "]\n",
        "\n",
        "ordering = [\n",
        "    [['a'], []],\n",
        "    [['c'], ['back']],\n",
        "    [['b', 'd'], []],\n",
        "]\n",
        "\n",
        "sdd = SankeyDefinition(nodes, bundles, ordering)\n",
        "\n",
        "weave(sdd, flows).to_widget(**size)"
      ],
      "metadata": {
        "id": "iIjI64lByCn4"
      },
      "execution_count": null,
      "outputs": []
    },
    {
      "cell_type": "markdown",
      "source": [
        "## 3 - \"Fruit\" example (from Hybrid Sankey diagrams paper)\n",
        "\n",
        "This notebook gives a fairly complicated example of building a Sankey diagram from the sample \"fruit\" database used in the paper [Hybrid Sankey diagrams: Visual analysis of multidimensional data for understanding resource use](https://doi.org/10.1016/j.resconrec.2017.05.002).\n",
        "\n",
        "For more explanation of the steps and concepts, see the [tutorials](../tutorials/index.ipynb)."
      ],
      "metadata": {
        "id": "CWPvO_ogycqi"
      }
    },
    {
      "cell_type": "code",
      "source": [
        "# Load dataset\n",
        "dataset = Dataset.from_csv('example_data/fruit_flows.csv', 'example_data/fruit_processes.csv')"
      ],
      "metadata": {
        "id": "MPnThre4yEA6"
      },
      "execution_count": null,
      "outputs": []
    },
    {
      "cell_type": "markdown",
      "source": [
        "This made-up dataset describes flows from farms to consumers:"
      ],
      "metadata": {
        "id": "JS7sMUd_yn83"
      }
    },
    {
      "cell_type": "code",
      "source": [
        "dataset._flows.head()"
      ],
      "metadata": {
        "id": "evkd5WOzykxJ"
      },
      "execution_count": null,
      "outputs": []
    },
    {
      "cell_type": "markdown",
      "source": [
        "Additional information is available in the process dimension table:"
      ],
      "metadata": {
        "id": "lRZD2W3Rys0H"
      }
    },
    {
      "cell_type": "code",
      "source": [
        "dataset._dim_process.head()"
      ],
      "metadata": {
        "id": "gFS7Krkeyq7_"
      },
      "execution_count": null,
      "outputs": []
    },
    {
      "cell_type": "markdown",
      "source": [
        "We'll also define some partitions that will be useful:"
      ],
      "metadata": {
        "id": "FmIHvh96yw5o"
      }
    },
    {
      "cell_type": "code",
      "source": [
        "farm_ids = ['farm{}'.format(i) for i in range(1, 16)]\n",
        "\n",
        "farm_partition_5 = Partition.Simple('process', [('Other farms', farm_ids[5:])] + farm_ids[:5])\n",
        "partition_fruit = Partition.Simple('material', ['bananas', 'apples', 'oranges'])\n",
        "partition_sector = Partition.Simple('process.sector', ['government', 'industry', 'domestic'])"
      ],
      "metadata": {
        "id": "vQspZXTiyus4"
      },
      "execution_count": null,
      "outputs": []
    },
    {
      "cell_type": "markdown",
      "source": [
        "Now define the Sankey diagram definition.\n",
        "\n",
        "- Process groups represent sets of processes in the underlying database. The underlying processes can be specified as a list of ids (e.g. `['inputs']`) or as a Pandas query expression (e.g. `'function == \"landfill\"'`).\n",
        "- Waypoints allow extra control over the partitioning and placement of flows."
      ],
      "metadata": {
        "id": "GGhQbg9my0WD"
      }
    },
    {
      "cell_type": "code",
      "source": [
        "nodes = {\n",
        "    'inputs':     ProcessGroup(['inputs'], title='Inputs'),\n",
        "    'compost':    ProcessGroup('function == \"composting stock\"', title='Compost'),\n",
        "    'farms':      ProcessGroup('function in [\"allotment\", \"large farm\", \"small farm\"]', farm_partition_5),\n",
        "    'eat':        ProcessGroup('function == \"consumers\" and location != \"London\"', partition_sector,\n",
        "                               title='consumers by sector'),\n",
        "    'landfill':   ProcessGroup('function == \"landfill\" and location != \"London\"', title='Landfill'),\n",
        "    'composting': ProcessGroup('function == \"composting process\" and location != \"London\"', title='Composting'),\n",
        "\n",
        "    'fruit':        Waypoint(partition_fruit, title='fruit type'),\n",
        "    'w1':           Waypoint(direction='L', title=''),\n",
        "    'w2':           Waypoint(direction='L', title=''),\n",
        "    'export fruit': Waypoint(Partition.Simple('material', ['apples', 'bananas', 'oranges'])),\n",
        "    'exports':      Waypoint(title='Exports'),\n",
        "}"
      ],
      "metadata": {
        "id": "WEFNURnIyycI"
      },
      "execution_count": null,
      "outputs": []
    },
    {
      "cell_type": "markdown",
      "source": [
        "The ordering defines how the process groups and waypoints are arranged in the final diagram. It is structured as a list of vertical *layers* (from left to right), each containing a list of horizontal *bands* (from top to bottom), each containing a list of process group and waypoint ids (from top to bottom)."
      ],
      "metadata": {
        "id": "0wpAHuRvy52Y"
      }
    },
    {
      "cell_type": "code",
      "source": [
        "ordering = [\n",
        "    [[], ['inputs', 'compost'], []],\n",
        "    [[], ['farms'], ['w2']],\n",
        "    [['exports'], ['fruit'], []],\n",
        "    [[], ['eat'], []],\n",
        "    [['export fruit'], ['landfill', 'composting'], ['w1']],\n",
        "]"
      ],
      "metadata": {
        "id": "roFjXSeSy2Ix"
      },
      "execution_count": null,
      "outputs": []
    },
    {
      "cell_type": "markdown",
      "source": [
        "Bundles represent flows in the underlying database:"
      ],
      "metadata": {
        "id": "sh48BxfUy-QJ"
      }
    },
    {
      "cell_type": "code",
      "source": [
        "bundles = [\n",
        "    Bundle('inputs', 'farms'),\n",
        "    Bundle('compost', 'farms'),\n",
        "    Bundle('farms', 'eat', waypoints=['fruit']),\n",
        "    Bundle('farms', 'compost', waypoints=['w2']),\n",
        "    Bundle('eat', 'landfill'),\n",
        "    Bundle('eat', 'composting'),\n",
        "    Bundle('composting', 'compost', waypoints=['w1', 'w2']),\n",
        "    Bundle('farms', Elsewhere, waypoints=['exports', 'export fruit']),\n",
        "]"
      ],
      "metadata": {
        "id": "fllR5sE2y7i4"
      },
      "execution_count": null,
      "outputs": []
    },
    {
      "cell_type": "markdown",
      "source": [
        "Finally, the process groups, waypoints, bundles and ordering are combined into a Sankey diagram definition (SDD). When applied to the dataset, the result is a Sankey diagram!"
      ],
      "metadata": {
        "id": "EVcN4NVvzBjA"
      }
    },
    {
      "cell_type": "code",
      "source": [
        "sdd = SankeyDefinition(nodes, bundles, ordering,\n",
        "                       flow_partition=dataset.partition('material'))\n",
        "weave(sdd, dataset) \\\n",
        "    .to_widget(width=570, height=550, margins=dict(left=70, right=90))"
      ],
      "metadata": {
        "id": "OmatrWx1y_4A"
      },
      "execution_count": null,
      "outputs": []
    },
    {
      "cell_type": "markdown",
      "source": [
        "# Setting the scale\n",
        "\n",
        "This recipe demonstrates how the scale of the Sankey diagram is set.\n",
        "\n",
        "By default the scale is calculated for each diagram to achieve a certain whitespace-to-flow ratio within the height that is given. But in some cases, you may want to set the scale explicitly.\n",
        "\n",
        "For demonstration, the CSV data is written directly in the cell below -- in practice you would want to load data a file."
      ],
      "metadata": {
        "id": "VUu1a_HfzJg4"
      }
    },
    {
      "cell_type": "code",
      "source": [
        "flows = pd.read_csv(StringIO(\"\"\"\n",
        "year,source,target,value\n",
        "2020,A,B,10\n",
        "2025,A,B,20\n",
        "\"\"\"))\n",
        "\n",
        "flows"
      ],
      "metadata": {
        "id": "zKnVxArmzLk4"
      },
      "execution_count": null,
      "outputs": []
    },
    {
      "cell_type": "code",
      "source": [
        "nodes = {\n",
        "    'A': ProcessGroup(['A']),\n",
        "    'B': ProcessGroup(['B']),\n",
        "}\n",
        "\n",
        "bundles = [\n",
        "    Bundle('A', 'B'),\n",
        "]\n",
        "\n",
        "ordering = [['A'], ['B']]\n",
        "\n",
        "sdd = SankeyDefinition(nodes, bundles, ordering)"
      ],
      "metadata": {
        "id": "jX3yjDuczNf5"
      },
      "execution_count": null,
      "outputs": []
    },
    {
      "cell_type": "markdown",
      "source": [
        "If we draw the flow for the year 2020 and the year 2025 separately, they appear the same:"
      ],
      "metadata": {
        "id": "5QeSCNklzSWg"
      }
    },
    {
      "cell_type": "code",
      "source": [
        "w1 = weave(sdd, flows.query('year == 2020')).to_widget(**size)\n",
        "w1"
      ],
      "metadata": {
        "id": "6TqXDBx5zPzA"
      },
      "execution_count": null,
      "outputs": []
    },
    {
      "cell_type": "code",
      "source": [
        "w2 = weave(sdd, flows.query('year == 2025')).to_widget(**size)\n",
        "w2"
      ],
      "metadata": {
        "id": "B1JBke5mzUpo"
      },
      "execution_count": null,
      "outputs": []
    },
    {
      "cell_type": "markdown",
      "source": [
        "But in fact they have different scales:"
      ],
      "metadata": {
        "id": "VyZW7PDjzXSZ"
      }
    },
    {
      "cell_type": "code",
      "source": [
        "w1.scale, w2.scale"
      ],
      "metadata": {
        "id": "rwKVAuJ6zV2i"
      },
      "execution_count": null,
      "outputs": []
    },
    {
      "cell_type": "markdown",
      "source": [
        "The units of the scale are `units-of-value` per pixel.\n",
        "\n",
        "If we draw the Sankeys again while setting the scale, we can see that the flow indeed has changed between years:"
      ],
      "metadata": {
        "id": "ii7lvMKxzbMg"
      }
    },
    {
      "cell_type": "code",
      "source": [
        "SCALE = 2.0\n",
        "\n",
        "w1 = weave(sdd, flows.query('year == 2020')).to_widget(**size)\n",
        "w2 = weave(sdd, flows.query('year == 2025')).to_widget(**size)\n",
        "\n",
        "w1.scale = w2.scale = SCALE\n",
        "\n",
        "HBox([w1, w2])"
      ],
      "metadata": {
        "id": "5K5IOpDtzZH6"
      },
      "execution_count": null,
      "outputs": []
    }
  ]
}
