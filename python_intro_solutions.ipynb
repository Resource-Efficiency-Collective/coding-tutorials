{
  "nbformat": 4,
  "nbformat_minor": 0,
  "metadata": {
    "colab": {
      "name": "python_intro.ipynb",
      "provenance": [],
      "collapsed_sections": [],
      "include_colab_link": true
    },
    "kernelspec": {
      "name": "python3",
      "display_name": "Python 3"
    },
    "language_info": {
      "name": "python"
    }
  },
  "cells": [
    {
      "cell_type": "markdown",
      "metadata": {
        "id": "view-in-github",
        "colab_type": "text"
      },
      "source": [
        "<a href=\"https://colab.research.google.com/github/Resource-Efficiency-Collective/coding-tutorials/blob/main/python_intro.ipynb\" target=\"_parent\"><img src=\"https://colab.research.google.com/assets/colab-badge.svg\" alt=\"Open In Colab\"/></a>"
      ]
    },
    {
      "cell_type": "markdown",
      "metadata": {
        "id": "4zwqcbyKhGsV"
      },
      "source": [
        "# Intro to coding best practices in Python\n",
        "This demonstration covers the key elements of coding we need to save the world via Resource Efficiency: \n",
        "\n",
        "1.   Clean code\n",
        "2.  Loading data\n",
        "3.  Visualising data"
      ]
    },
    {
      "cell_type": "markdown",
      "metadata": {
        "id": "Zu5ddHA5lyYc"
      },
      "source": [
        "## 1 - Keep it clean!\n",
        "- Comment, comment, comment - Always think about clarity: if you win the lottery and move to Barbados tomorrow, someone else (or you in 3 years time once you've spent the money) needs to pick up your work.\n",
        "- Use functions - Keep code flexible by implementing functions that perform standard tasks well, this will save you A LOT of time.\n",
        "\n",
        "\n",
        "An admittedly unconventional intro to coding but functions are so key to software development that let's give you a clear understanding of what they do."
      ]
    },
    {
      "cell_type": "code",
      "metadata": {
        "id": "3kh0jZw-g7zf"
      },
      "source": [
        "\"\"\"Example of a simple script\"\"\"\n",
        "\n",
        "# Input - Variable definition\n",
        "qty_apples = 4\n",
        "price_apple = 0.45\n",
        "\n",
        "# Processing - Total cost calculation\n",
        "cost_total = qty_apples*price_apple\n",
        "\n",
        "# Output - Print to screen\n",
        "print(cost_total)"
      ],
      "execution_count": null,
      "outputs": []
    },
    {
      "cell_type": "code",
      "metadata": {
        "id": "094AMfEqijDW"
      },
      "source": [
        "\"\"\"Definition of function\"\"\"\n",
        "\n",
        "def cost_calculation(qty,price):\n",
        "  \"\"\"This function multiplies the quantity of items\n",
        "  by the unit prices and prints total cost.\n",
        "\n",
        "  Inputs\n",
        "  qty - item quantity\n",
        "  price - unit price\n",
        "\n",
        "  Outputs\n",
        "  Total cost print to screen\n",
        "  \"\"\"\n",
        "  # Calculation\n",
        "  cost = qty*price\n",
        "  # Output\n",
        "  print(cost) "
      ],
      "execution_count": null,
      "outputs": []
    },
    {
      "cell_type": "code",
      "metadata": {
        "id": "X9G9BV8pkh6j"
      },
      "source": [
        "\"\"\"Use function - type cost_calculation( and follow the instructions\"\"\"\n",
        "cost_calculation(qty_apples,price_apple)"
      ],
      "execution_count": null,
      "outputs": []
    },
    {
      "cell_type": "markdown",
      "metadata": {
        "id": "xjd_WkuhwGMC"
      },
      "source": [
        "Ok so that is a very basic function. Functions often (usually) do not sit within the script we are running, so let's make a more realistic set up with an external function:\n",
        "1. Open the files from the left-hand bar.\n",
        "2. Right-click to create a new python file called 'external_functions.py' & open it with a double-click.\n",
        "3. Appropriately comment the top of this file as being used for functions related to the demo notebook.\n",
        "4. Copy & Paste the definition of the cost_calculation function into the new file and rename it cost_calculation_external. Save this change by pressing Ctrl+s.\n",
        "5. Run the next cell to import the external file functions to the notebook."
      ]
    },
    {
      "cell_type": "code",
      "metadata": {
        "id": "n5bl4GAzP9rW"
      },
      "source": [
        "\"\"\"Importing functions to the notebook\"\"\"\n",
        "import external_functions as ext"
      ],
      "execution_count": null,
      "outputs": []
    },
    {
      "cell_type": "code",
      "metadata": {
        "id": "J0ZjD_HFpd-M"
      },
      "source": [
        "\"\"\"Now let's use the function contained in the python file to calculate cost\"\"\" \n",
        "ext.cost_calculation_external(qty_apples,price_apple)"
      ],
      "execution_count": null,
      "outputs": []
    },
    {
      "cell_type": "markdown",
      "metadata": {
        "id": "XGBkd2IAMwG3"
      },
      "source": [
        "A few more hints towards best practices:\n",
        "1. Readability - Consistent style, code blocks, comments, appropriate variable names\n",
        "2. Don't reinvent the wheel - Google is your friend, someone has usually done it before\n",
        "3. Don't repeat yourself - Coding is meant to automate tasks, use functions, avoid hard-coding\n",
        "4. Test your code as you go - Much easier to debug\n",
        "\n",
        "\n"
      ]
    },
    {
      "cell_type": "markdown",
      "metadata": {
        "id": "iOD3STaiRLLA"
      },
      "source": [
        "## 2 - Importing Data\n",
        "At Refficiency we love data. So how de we handle it? Let's do a simple exercise to see the workflow necessary for a re-usable pipeline in Python.\n",
        "\n",
        "1. Go to https://di.unfccc.int/detailed_data_by_party and pick for example: ![image.png](data:image/png;base64,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)\n",
        "2. Export as .csv & upload to Google Colab with the upload button in the left files bar.\n",
        "3. Run the cell below to import a package of functions called 'pandas' which is great for handling table style data."
      ]
    },
    {
      "cell_type": "code",
      "metadata": {
        "id": "GHYqfmrqTeDf"
      },
      "source": [
        "\"\"\"Import of pandas functions\"\"\"\n",
        "import pandas as pd"
      ],
      "execution_count": null,
      "outputs": []
    },
    {
      "cell_type": "markdown",
      "metadata": {
        "id": "RymFB-KgWM01"
      },
      "source": [
        "To find an appropriate function within pandas for reading our .csv file, either start typing pd.read_ in the next box to see the options, or got to the pandas documentation https://pandas.pydata.org/docs/reference/io.html. You can get the path to our file by right-clicking on it in the file bar.\n"
      ]
    },
    {
      "cell_type": "code",
      "metadata": {
        "id": "s7evnbA6Vuho"
      },
      "source": [
        "\"\"\"Let's import the data\"\"\"\n",
        "filepath = '/content/Annual greenhouse gas (GHG) emissions for Australia, in kt.csv'\n",
        "data = pd.read_csv(filepath)"
      ],
      "execution_count": null,
      "outputs": []
    },
    {
      "cell_type": "markdown",
      "metadata": {
        "id": "dMFbmfM4W2Bd"
      },
      "source": [
        "Didn't work? All part of the learning curve I guess... What does the error say?\n",
        "\n",
        "Let's check what the .csv looks like, open it up from your Downloads folder.\n",
        "\n",
        "A few additional lines in there? Check the [function docs](https://pandas.pydata.org/docs/reference/api/pandas.read_csv.html#pandas.read_csv) to see if we can solve this, a hint we're looking for attributes about rows."
      ]
    },
    {
      "cell_type": "code",
      "metadata": {
        "id": "yWdz8oqOYWn1"
      },
      "source": [
        "\"\"\"Re-try the import\"\"\"\n",
        "data = pd.read_csv(filepath, skiprows=3, nrows=6)"
      ],
      "execution_count": null,
      "outputs": []
    },
    {
      "cell_type": "code",
      "metadata": {
        "id": "29TEuxkZU-mX"
      },
      "source": [
        "\"\"\"Ok let's display the top rows\"\"\"\n",
        "data.head()"
      ],
      "execution_count": null,
      "outputs": []
    },
    {
      "cell_type": "markdown",
      "metadata": {
        "id": "1oOAoOQ7XKoG"
      },
      "source": [
        "Lessons?\n",
        "1. Debugging - Always read the error message, as frustrating as it gets there's ALWAYS a reason it's not working.\n",
        "2. Check-out your raw data file to use the most appropriate import method"
      ]
    },
    {
      "cell_type": "markdown",
      "metadata": {
        "id": "iutNltC6XT42"
      },
      "source": [
        "# 3 - Visualising data\n",
        "Ok great, we have a bunch of numbers! Now let's make them talk. \n",
        "\n",
        "Can we get a graph displaying the comparative contributions of each category?\n",
        "\n",
        "Although pandas has some plotting capabilities of it's own, the basic plotting package for python is matplotlib."
      ]
    },
    {
      "cell_type": "code",
      "metadata": {
        "id": "nRMgQIGsnqZJ"
      },
      "source": [
        "\"\"\"Let's get plotting\"\"\"\n",
        "# Import library\n",
        "import matplotlib.pyplot as plt\n",
        "\n",
        "# Re-format data for plotting\n",
        "years = data.columns[2:]\n",
        "emissions = data.values[:,2:]\n",
        "\n",
        "# Plotting\n",
        "plt.plot(years,emissions[0])"
      ],
      "execution_count": null,
      "outputs": []
    },
    {
      "cell_type": "markdown",
      "metadata": {
        "id": "IZGneedCfihl"
      },
      "source": [
        "Ooh that's not pretty... But at least it works.\n",
        "Let's try embellishing a little."
      ]
    },
    {
      "cell_type": "code",
      "metadata": {
        "id": "Jt-6DNzyn7G8"
      },
      "source": [
        "\"\"\"Let's reformat our data to handle values as numeric and to reclassify non-reported data as unknown\"\"\"\n",
        "# Convert emissions data to numeric\n",
        "emissions_vals = pd.to_numeric(emissions.flatten(), errors='coerce').reshape(emissions.shape).astype(float)\n",
        "\n",
        "# Extract final year value\n",
        "years_vals = years.values\n",
        "years_vals[-1] = \"\".join(filter(str.isdigit,years_vals[-1]))\n",
        "\n",
        "# Convert years to numeric values\n",
        "years_vals = years.astype(float)\n",
        "\n",
        "# Extract the names of the sectors\n",
        "sectors = data.values[:,0]\n",
        "\n",
        "# Now we'll create a prettier looking plot containing a line for each entry\n",
        "fig, ax = plt.subplots(1,1,figsize=[12,5])\n",
        "for i in range(emissions.shape[0]):\n",
        "  ax.scatter(years_vals, emissions_vals[i], label=sectors[i])\n",
        "\n",
        "# Adding some labels\n",
        "ax.legend(), ax.set_title(filepath.split('.')[0].split('/')[-1], fontsize=18), ax.set_xlabel('Year', fontsize=15), ax.set_ylabel('CO2 emissions (kt)',fontsize=15)\n",
        "plt.show()"
      ],
      "execution_count": null,
      "outputs": []
    },
    {
      "cell_type": "markdown",
      "metadata": {
        "id": "z_LVssZkXaXd"
      },
      "source": [
        "# 4 - Make a function that does this for any UNFCCC data"
      ]
    },
    {
      "cell_type": "code",
      "metadata": {
        "id": "bF6UfkNQyAM4"
      },
      "source": [
        "\"\"\"Let's define the function here and import the necessary functions\"\"\"\n",
        "# Import necessary packages\n",
        "import pandas as pd\n",
        "import matplotlib.pyplot as plt\n",
        "\n",
        "def plot_unfccc(filepath, header=3, nrows=6, first_col=2, \n",
        "                figsize=[12,5], xtitle='Year', ytitle='CO2 emissions (kt)'):\n",
        "  \"\"\"This function plots emissions over time for each sector included in a \n",
        "  UNFCCC .csv file\n",
        "\n",
        "  Inputs\n",
        "  filepath - path to data file\n",
        "  header - rows before data in .csv\n",
        "  nrows - rows of data to plot\n",
        "  first_col - first column with data\n",
        "  figsize - size of output plot\n",
        "  xtitle - Title of x axis\n",
        "  ytitle - Title of y axis\n",
        "  \"\"\"\n",
        "  # Importing\n",
        "  data = pd.read_csv(filepath, skiprows=header, nrows=nrows)\n",
        "\n",
        "  # Extract data\n",
        "  years = data.columns[first_col:]\n",
        "  emissions = data.values[:,first_col:]\n",
        "\n",
        "  # Convert emissions data to numeric\n",
        "  emissions_vals = pd.to_numeric(emissions.flatten(), errors='coerce').reshape(emissions.shape).astype(float)\n",
        "\n",
        "  # Extract final year value\n",
        "  years_vals = years.values\n",
        "  years_vals[-1] = \"\".join(filter(str.isdigit,years_vals[-1]))\n",
        "\n",
        "  # Convert years to numeric values\n",
        "  years_vals = years.astype(float)\n",
        "\n",
        "  # Extract the names of the sectors\n",
        "  sectors = data.values[:,0]\n",
        "\n",
        "  # Now we'll create a prettier looking plot containing a line for each entry\n",
        "  fig, ax = plt.subplots(1,1,figsize=figsize)\n",
        "  for i in range(emissions.shape[0]):\n",
        "    ax.scatter(years_vals, emissions_vals[i], label=sectors[i])\n",
        "\n",
        "  # Adding some labels\n",
        "  ax.legend(), ax.set_title(filepath.split('.')[0].split('/')[-1], fontsize=18), ax.set_xlabel(xtitle, fontsize=15), ax.set_ylabel(ytitle,fontsize=15)\n",
        "  plt.show()"
      ],
      "execution_count": null,
      "outputs": []
    },
    {
      "cell_type": "code",
      "metadata": {
        "id": "YC5K-At_XTn1"
      },
      "source": [
        "# Defining variables \n",
        "filepath = '/content/Annual greenhouse gas (GHG) emissions for Australia, in kt.csv'\n",
        "\n",
        "# Call function\n",
        "plot_unfccc(filepath)"
      ],
      "execution_count": null,
      "outputs": []
    },
    {
      "cell_type": "markdown",
      "metadata": {
        "id": "2yimI8Uk0MQ5"
      },
      "source": [
        "Nice plot! If you've got this far, let's try 2 more things:\n",
        "1. Add this function to the external_functions.py file you made earlier. In the next box create the graph from this external function."
      ]
    },
    {
      "cell_type": "code",
      "metadata": {
        "id": "epLKtp5i0gn4"
      },
      "source": [
        "# Reload the external functions \n",
        "from importlib import reload\n",
        "reload(ext)"
      ],
      "execution_count": null,
      "outputs": []
    },
    {
      "cell_type": "code",
      "metadata": {
        "id": "wpWrPK5J1fnA"
      },
      "source": [
        "# Use the external function to produce the graph\n",
        "ext.plot_unfccc(filepath)"
      ],
      "execution_count": null,
      "outputs": []
    },
    {
      "cell_type": "markdown",
      "metadata": {
        "id": "Pe9x1Eek1l0n"
      },
      "source": [
        "2. Head back to https://di.unfccc.int/detailed_data_by_party and use this function with a different country."
      ]
    },
    {
      "cell_type": "code",
      "metadata": {
        "id": "orCivbCk1tw2"
      },
      "source": [
        "filepath = '/content/Annual greenhouse gas (GHG) emissions for Austria, in kt.csv'\n",
        "ext.plot_unfccc(filepath)"
      ],
      "execution_count": null,
      "outputs": []
    },
    {
      "cell_type": "markdown",
      "metadata": {
        "id": "ftingKPWK-g3"
      },
      "source": [
        "You've made it to the end! Hope that helps and if you've whizzed through this without any issues (looking at you José), either go play on [Edabit](https://edabit.com/challenges/python3) or discuss best practices with colleagues!\n",
        "\n"
      ]
    },
    {
      "cell_type": "markdown",
      "metadata": {
        "id": "9bkPtjml3L59"
      },
      "source": [
        "Content created for the Refficiency group away weekend in 2021. Contact lshc3@cam.ac.uk for any queries. "
      ]
    }
  ]
}
