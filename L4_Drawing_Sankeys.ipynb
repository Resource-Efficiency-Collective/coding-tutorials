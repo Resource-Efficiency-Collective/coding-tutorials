{
  "cells": [
    {
      "cell_type": "markdown",
      "metadata": {
        "id": "H7SRgDxZVrwr"
      },
      "source": [
        "# Sankey diagram tutorial\n",
        "\n",
        "This tutorial is in two parts:\n",
        "- Part 1 - Basic functionalities of `floweaver` to process and transform data into many different Sankey diagrams.\n",
        "- Part 2 - Importing real online data into a Sankey diagram."
      ]
    },
    {
      "cell_type": "markdown",
      "source": [
        "##1 - Using `floweaver`\n",
        "\n",
        "Let's start by considering a simple dataset. Imagine we have some farms, which grow apples and bananas to sell to a few different customers. We can describe the *flow* of fruit from the farms (the *source* of the flow) to the customers (the *target* of the flow)/"
      ],
      "metadata": {
        "id": "IfoX4AdwhfCN"
      }
    },
    {
      "cell_type": "code",
      "source": [
        "%%capture\n",
        "\"\"\"Installation and downloads\"\"\"\n",
        "# Install floweaver and display widget packages\n",
        "%pip install floweaver ipysankeywidget\n",
        "\n",
        "# Enable visualisation of widgets in Colab\n",
        "from google.colab import output\n",
        "output.enable_custom_widget_manager()\n",
        "\n",
        "# Import necessary packages\n",
        "import gdown\n",
        "import pandas as pd\n",
        "from ipysankeywidget import SankeyWidget\n",
        "from floweaver import *\n",
        "\n",
        "# Download sample data -> You can check out the csv file by clicking on it in the left panel\n",
        "gdown.download('https://drive.google.com/uc?id=1ahNCLxBrkwDovmO1I4GspWTZX6zBFdGr','fruit_sales.csv',quiet=True)"
      ],
      "metadata": {
        "id": "jud182GVV3Qz"
      },
      "execution_count": 15,
      "outputs": []
    },
    {
      "cell_type": "code",
      "execution_count": 17,
      "metadata": {
        "colab": {
          "base_uri": "https://localhost:8080/",
          "height": 331
        },
        "id": "yXh4cRS2Vrwu",
        "outputId": "b603037b-9e5f-457f-b152-a1992a3189c6"
      },
      "outputs": [
        {
          "output_type": "display_data",
          "data": {
            "text/html": [
              "\n",
              "  <div id=\"df-a9a04036-7bf0-4790-bef5-d09b730dc56f\">\n",
              "    <div class=\"colab-df-container\">\n",
              "      <div>\n",
              "<style scoped>\n",
              "    .dataframe tbody tr th:only-of-type {\n",
              "        vertical-align: middle;\n",
              "    }\n",
              "\n",
              "    .dataframe tbody tr th {\n",
              "        vertical-align: top;\n",
              "    }\n",
              "\n",
              "    .dataframe thead th {\n",
              "        text-align: right;\n",
              "    }\n",
              "</style>\n",
              "<table border=\"1\" class=\"dataframe\">\n",
              "  <thead>\n",
              "    <tr style=\"text-align: right;\">\n",
              "      <th></th>\n",
              "      <th>source</th>\n",
              "      <th>target</th>\n",
              "      <th>type</th>\n",
              "      <th>value</th>\n",
              "    </tr>\n",
              "  </thead>\n",
              "  <tbody>\n",
              "    <tr>\n",
              "      <th>0</th>\n",
              "      <td>farm1</td>\n",
              "      <td>Mary</td>\n",
              "      <td>apples</td>\n",
              "      <td>5</td>\n",
              "    </tr>\n",
              "    <tr>\n",
              "      <th>1</th>\n",
              "      <td>farm1</td>\n",
              "      <td>James</td>\n",
              "      <td>apples</td>\n",
              "      <td>3</td>\n",
              "    </tr>\n",
              "    <tr>\n",
              "      <th>2</th>\n",
              "      <td>farm2</td>\n",
              "      <td>Fred</td>\n",
              "      <td>apples</td>\n",
              "      <td>10</td>\n",
              "    </tr>\n",
              "    <tr>\n",
              "      <th>3</th>\n",
              "      <td>farm2</td>\n",
              "      <td>Fred</td>\n",
              "      <td>bananas</td>\n",
              "      <td>10</td>\n",
              "    </tr>\n",
              "    <tr>\n",
              "      <th>4</th>\n",
              "      <td>farm2</td>\n",
              "      <td>Susan</td>\n",
              "      <td>bananas</td>\n",
              "      <td>5</td>\n",
              "    </tr>\n",
              "    <tr>\n",
              "      <th>5</th>\n",
              "      <td>farm3</td>\n",
              "      <td>Susan</td>\n",
              "      <td>apples</td>\n",
              "      <td>10</td>\n",
              "    </tr>\n",
              "    <tr>\n",
              "      <th>6</th>\n",
              "      <td>farm4</td>\n",
              "      <td>Susan</td>\n",
              "      <td>bananas</td>\n",
              "      <td>1</td>\n",
              "    </tr>\n",
              "    <tr>\n",
              "      <th>7</th>\n",
              "      <td>farm5</td>\n",
              "      <td>Susan</td>\n",
              "      <td>bananas</td>\n",
              "      <td>1</td>\n",
              "    </tr>\n",
              "    <tr>\n",
              "      <th>8</th>\n",
              "      <td>farm6</td>\n",
              "      <td>Susan</td>\n",
              "      <td>bananas</td>\n",
              "      <td>1</td>\n",
              "    </tr>\n",
              "  </tbody>\n",
              "</table>\n",
              "</div>\n",
              "      <button class=\"colab-df-convert\" onclick=\"convertToInteractive('df-a9a04036-7bf0-4790-bef5-d09b730dc56f')\"\n",
              "              title=\"Convert this dataframe to an interactive table.\"\n",
              "              style=\"display:none;\">\n",
              "        \n",
              "  <svg xmlns=\"http://www.w3.org/2000/svg\" height=\"24px\"viewBox=\"0 0 24 24\"\n",
              "       width=\"24px\">\n",
              "    <path d=\"M0 0h24v24H0V0z\" fill=\"none\"/>\n",
              "    <path d=\"M18.56 5.44l.94 2.06.94-2.06 2.06-.94-2.06-.94-.94-2.06-.94 2.06-2.06.94zm-11 1L8.5 8.5l.94-2.06 2.06-.94-2.06-.94L8.5 2.5l-.94 2.06-2.06.94zm10 10l.94 2.06.94-2.06 2.06-.94-2.06-.94-.94-2.06-.94 2.06-2.06.94z\"/><path d=\"M17.41 7.96l-1.37-1.37c-.4-.4-.92-.59-1.43-.59-.52 0-1.04.2-1.43.59L10.3 9.45l-7.72 7.72c-.78.78-.78 2.05 0 2.83L4 21.41c.39.39.9.59 1.41.59.51 0 1.02-.2 1.41-.59l7.78-7.78 2.81-2.81c.8-.78.8-2.07 0-2.86zM5.41 20L4 18.59l7.72-7.72 1.47 1.35L5.41 20z\"/>\n",
              "  </svg>\n",
              "      </button>\n",
              "      \n",
              "  <style>\n",
              "    .colab-df-container {\n",
              "      display:flex;\n",
              "      flex-wrap:wrap;\n",
              "      gap: 12px;\n",
              "    }\n",
              "\n",
              "    .colab-df-convert {\n",
              "      background-color: #E8F0FE;\n",
              "      border: none;\n",
              "      border-radius: 50%;\n",
              "      cursor: pointer;\n",
              "      display: none;\n",
              "      fill: #1967D2;\n",
              "      height: 32px;\n",
              "      padding: 0 0 0 0;\n",
              "      width: 32px;\n",
              "    }\n",
              "\n",
              "    .colab-df-convert:hover {\n",
              "      background-color: #E2EBFA;\n",
              "      box-shadow: 0px 1px 2px rgba(60, 64, 67, 0.3), 0px 1px 3px 1px rgba(60, 64, 67, 0.15);\n",
              "      fill: #174EA6;\n",
              "    }\n",
              "\n",
              "    [theme=dark] .colab-df-convert {\n",
              "      background-color: #3B4455;\n",
              "      fill: #D2E3FC;\n",
              "    }\n",
              "\n",
              "    [theme=dark] .colab-df-convert:hover {\n",
              "      background-color: #434B5C;\n",
              "      box-shadow: 0px 1px 3px 1px rgba(0, 0, 0, 0.15);\n",
              "      filter: drop-shadow(0px 1px 2px rgba(0, 0, 0, 0.3));\n",
              "      fill: #FFFFFF;\n",
              "    }\n",
              "  </style>\n",
              "\n",
              "      <script>\n",
              "        const buttonEl =\n",
              "          document.querySelector('#df-a9a04036-7bf0-4790-bef5-d09b730dc56f button.colab-df-convert');\n",
              "        buttonEl.style.display =\n",
              "          google.colab.kernel.accessAllowed ? 'block' : 'none';\n",
              "\n",
              "        async function convertToInteractive(key) {\n",
              "          const element = document.querySelector('#df-a9a04036-7bf0-4790-bef5-d09b730dc56f');\n",
              "          const dataTable =\n",
              "            await google.colab.kernel.invokeFunction('convertToInteractive',\n",
              "                                                     [key], {});\n",
              "          if (!dataTable) return;\n",
              "\n",
              "          const docLinkHtml = 'Like what you see? Visit the ' +\n",
              "            '<a target=\"_blank\" href=https://colab.research.google.com/notebooks/data_table.ipynb>data table notebook</a>'\n",
              "            + ' to learn more about interactive tables.';\n",
              "          element.innerHTML = '';\n",
              "          dataTable['output_type'] = 'display_data';\n",
              "          await google.colab.output.renderOutput(dataTable, element);\n",
              "          const docLink = document.createElement('div');\n",
              "          docLink.innerHTML = docLinkHtml;\n",
              "          element.appendChild(docLink);\n",
              "        }\n",
              "      </script>\n",
              "    </div>\n",
              "  </div>\n",
              "  "
            ],
            "text/plain": [
              "  source target     type  value\n",
              "0  farm1   Mary   apples      5\n",
              "1  farm1  James   apples      3\n",
              "2  farm2   Fred   apples     10\n",
              "3  farm2   Fred  bananas     10\n",
              "4  farm2  Susan  bananas      5\n",
              "5  farm3  Susan   apples     10\n",
              "6  farm4  Susan  bananas      1\n",
              "7  farm5  Susan  bananas      1\n",
              "8  farm6  Susan  bananas      1"
            ]
          },
          "metadata": {}
        }
      ],
      "source": [
        "\"\"\"Import data using pandas\"\"\"\n",
        "flows = pd.read_csv('fruit_sales.csv')\n",
        "display(flows)"
      ]
    },
    {
      "cell_type": "markdown",
      "metadata": {
        "id": "0cjAeWScVrwv"
      },
      "source": [
        "Drawn directly as a Sankey diagram, this data would look something like this:"
      ]
    },
    {
      "cell_type": "code",
      "execution_count": 19,
      "metadata": {
        "colab": {
          "base_uri": "https://localhost:8080/",
          "height": 422,
          "referenced_widgets": [
            "da87f3470bf649ab83ea14e6e1caa4f7",
            "391abaa14bcc490e8025ada1f53f73f1"
          ]
        },
        "id": "xUeVeea9Vrww",
        "outputId": "84e60a2f-464d-499d-9268-d80d26c75a1a"
      },
      "outputs": [
        {
          "output_type": "display_data",
          "data": {
            "application/vnd.jupyter.widget-view+json": {
              "model_id": "da87f3470bf649ab83ea14e6e1caa4f7",
              "version_minor": 0,
              "version_major": 2
            },
            "text/plain": [
              "SankeyWidget(links=[{'source': 'farm1', 'target': 'Mary', 'type': 'apples', 'value': 5}, {'source': 'farm1', '…"
            ]
          },
          "metadata": {
            "application/vnd.jupyter.widget-view+json": {
              "colab": {
                "custom_widget_manager": {
                  "url": "https://ssl.gstatic.com/colaboratory-static/widgets/colab-cdn-widget-manager/a8874ba6619b6106/manager.min.js"
                }
              }
            }
          }
        }
      ],
      "source": [
        "\"\"\"Let's draw our first Sankey!\"\"\"\n",
        "SankeyWidget(links=flows.to_dict('records'))"
      ]
    },
    {
      "cell_type": "markdown",
      "metadata": {
        "id": "jGmycN8rVrww"
      },
      "source": [
        "But you don't always want a direct correspondence between the flows in your data and the links that you see in the Sankey diagram. For example:\n",
        "\n",
        "* Farms 4, 5 and 6 are all pretty small, and to make the diagram clearer we might want to group them in an \"other\" category.\n",
        "* The flows of apples are mixed in with the flows of bananas -- we might want to group the kinds of fruit together to make them easier to compare\n",
        "* We might want to group farms or customers based on some other attributes -- to see difference between genders, locations, or organic/non-organic farms, say.\n",
        "\n",
        "This first part shows how to use `floweaver` to do some of these for this simple example, in the simplest possible way. Later tutorials will show how to use it on real data, and more efficient ways to do the same things.\n",
        "\n",
        "### Basic diagram\n",
        "\n",
        "Let's start with the first example: grouping farms 4, 5 and 6 into an \"other\" category. `floweaver` works by setting up a \"Sankey diagram definition\" which describes the structure of the diagram we want to see. In this case, we need to set up some groups:"
      ]
    },
    {
      "cell_type": "code",
      "execution_count": 21,
      "metadata": {
        "collapsed": true,
        "id": "dtSw7mNrVrww"
      },
      "outputs": [],
      "source": [
        "\"\"\"Define diagram processes\"\"\"\n",
        "# Set the default size to fit the documentation better.\n",
        "size = dict(width=570, height=300)\n",
        "\n",
        "# Defining our sources and targets as nodes\n",
        "nodes = {\n",
        "    'farms': ProcessGroup(['farm1', 'farm2', 'farm3', \n",
        "                           'farm4', 'farm5', 'farm6']),\n",
        "    'customers': ProcessGroup(['James', 'Mary', 'Fred', 'Susan']),\n",
        "}"
      ]
    },
    {
      "cell_type": "markdown",
      "metadata": {
        "id": "F8nq4ZNeVrwx"
      },
      "source": [
        "We need to describe roughly how these groups should be placed in the final diagram by defining an \"ordering\" -- a list of vertical slices, each containing a list of node ids:"
      ]
    },
    {
      "cell_type": "code",
      "execution_count": 22,
      "metadata": {
        "collapsed": true,
        "id": "KENGAWZbVrwy"
      },
      "outputs": [],
      "source": [
        "\"\"\"Define order of processes in diagram\"\"\"\n",
        "ordering = [\n",
        "    ['farms'],       # put \"farms\" on the left...\n",
        "    ['customers'],   # ... and \"customers\" on the right.\n",
        "]"
      ]
    },
    {
      "cell_type": "markdown",
      "metadata": {
        "id": "yjR2XgvWVrwy"
      },
      "source": [
        "And we also need to say which connections should appear in the diagram (sometimes you don't want to actually see all the connections). This is called a \"bundle\" because it bundles up multiple flows -- in this case all of them."
      ]
    },
    {
      "cell_type": "code",
      "execution_count": 23,
      "metadata": {
        "collapsed": true,
        "id": "ayHoCxDPVrwz"
      },
      "outputs": [],
      "source": [
        "\"\"\"Define links between processes\"\"\"\n",
        "bundles = [\n",
        "    Bundle('farms', 'customers'),\n",
        "]"
      ]
    },
    {
      "cell_type": "markdown",
      "metadata": {
        "id": "ncltAARpVrw0"
      },
      "source": [
        "Putting that together into a Sankey diagram definition (SDD) and applying it to the data gives this result:"
      ]
    },
    {
      "cell_type": "code",
      "execution_count": 25,
      "metadata": {
        "colab": {
          "base_uri": "https://localhost:8080/",
          "height": 322,
          "referenced_widgets": [
            "2cefc7db990f44faa6b7cff258bb1e76",
            "d8865d002536425a8733bf4267436dbe"
          ]
        },
        "id": "awi8gTt4Vrw0",
        "outputId": "beee2da4-1f3a-4d92-b6b0-3c06e6b9abf8"
      },
      "outputs": [
        {
          "output_type": "display_data",
          "data": {
            "application/vnd.jupyter.widget-view+json": {
              "model_id": "2cefc7db990f44faa6b7cff258bb1e76",
              "version_minor": 0,
              "version_major": 2
            },
            "text/plain": [
              "SankeyWidget(layout=Layout(height='300', width='570'), links=[{'source': 'farms^*', 'target': 'customers^*', '…"
            ]
          },
          "metadata": {
            "application/vnd.jupyter.widget-view+json": {
              "colab": {
                "custom_widget_manager": {
                  "url": "https://ssl.gstatic.com/colaboratory-static/widgets/colab-cdn-widget-manager/a8874ba6619b6106/manager.min.js"
                }
              }
            }
          }
        }
      ],
      "source": [
        "\"\"\"Let's see our grouped Sankey\"\"\"\n",
        "sdd = SankeyDefinition(nodes, bundles, ordering)\n",
        "weave(sdd, flows).to_widget(**size)"
      ]
    },
    {
      "cell_type": "markdown",
      "metadata": {
        "id": "RWCkT-p9Vrw0"
      },
      "source": [
        "That's not very useful. What's happened? Every farm and every customer has been lumped together into one group. To get the picture we want -- like the first one, but with an \"other\" group containing farms 4, 5 and 6 -- we need to *partition* the groups:"
      ]
    },
    {
      "cell_type": "code",
      "execution_count": 27,
      "metadata": {
        "colab": {
          "base_uri": "https://localhost:8080/",
          "height": 322,
          "referenced_widgets": [
            "a9efa72fc494493b8cd442134863568e",
            "ab12d4e6cbcc42f69111b456893a64de"
          ]
        },
        "id": "j0f3yD_8Vrw1",
        "outputId": "ff0a5670-e88d-4a82-8bd0-5efbe682c85d"
      },
      "outputs": [
        {
          "output_type": "display_data",
          "data": {
            "application/vnd.jupyter.widget-view+json": {
              "model_id": "a9efa72fc494493b8cd442134863568e",
              "version_minor": 0,
              "version_major": 2
            },
            "text/plain": [
              "SankeyWidget(groups=[{'id': 'farms', 'type': 'process', 'title': '', 'nodes': ['farms^farm1', 'farms^farm2', '…"
            ]
          },
          "metadata": {
            "application/vnd.jupyter.widget-view+json": {
              "colab": {
                "custom_widget_manager": {
                  "url": "https://ssl.gstatic.com/colaboratory-static/widgets/colab-cdn-widget-manager/a8874ba6619b6106/manager.min.js"
                }
              }
            }
          }
        }
      ],
      "source": [
        "\"\"\"Let's partition the groups we've made\"\"\"\n",
        "# The first argument is the dimension name and the second argument is a list of groups.\n",
        "farms_with_other = Partition.Simple('process', [\n",
        "    'farm1',  # the groups within the partition can be a single id...\n",
        "    'farm2',\n",
        "    'farm3',\n",
        "    ('other', ['farm4', 'farm5', 'farm6']),   # ... or a group\n",
        "])\n",
        "\n",
        "# This is another partition.\n",
        "customers_by_name = Partition.Simple('process', [\n",
        "    'James', 'Mary', 'Fred', 'Susan'\n",
        "])\n",
        "\n",
        "# Update the ProcessGroup nodes to use the partitions\n",
        "nodes['farms'].partition = farms_with_other\n",
        "nodes['customers'].partition = customers_by_name\n",
        "\n",
        "# New Sankey!\n",
        "weave(sdd, flows).to_widget(**size)"
      ]
    },
    {
      "cell_type": "markdown",
      "metadata": {
        "id": "ubVt3jX_Vrw1"
      },
      "source": [
        "That's better: now the farms are split up appropriately with an \"other\" category, and the customers are shown separately as well. We don't have to stop there -- what about showing sales to men and women?"
      ]
    },
    {
      "cell_type": "code",
      "execution_count": null,
      "metadata": {
        "colab": {
          "base_uri": "https://localhost:8080/",
          "height": 321,
          "referenced_widgets": [
            "567b46eedf15439d854c6fd5e04138f5",
            "335cfdbeab3240ee8fe1ab2990a58750"
          ]
        },
        "id": "IRvv0rKqVrw1",
        "outputId": "934c997d-ffb3-4c6b-a310-c14365fcf642"
      },
      "outputs": [
        {
          "output_type": "display_data",
          "data": {
            "application/vnd.jupyter.widget-view+json": {
              "model_id": "567b46eedf15439d854c6fd5e04138f5",
              "version_minor": 0,
              "version_major": 2
            },
            "text/plain": [
              "SankeyWidget(groups=[{'id': 'farms', 'type': 'process', 'title': '', 'nodes': ['farms^farm1', 'farms^farm2', '…"
            ]
          },
          "metadata": {
            "application/vnd.jupyter.widget-view+json": {
              "colab": {
                "custom_widget_manager": {
                  "url": "https://ssl.gstatic.com/colaboratory-static/widgets/colab-cdn-widget-manager/a8874ba6619b6106/manager.min.js"
                }
              }
            }
          }
        }
      ],
      "source": [
        "\"\"\"Different partitioning\"\"\"\n",
        "# Group customers by gender\n",
        "customers_by_gender = Partition.Simple('process', [\n",
        "    ('Men', ['Fred', 'James']),\n",
        "    ('Women', ['Susan', 'Mary']),\n",
        "])\n",
        "\n",
        "nodes['customers'].partition = customers_by_gender\n",
        "\n",
        "weave(sdd, flows).to_widget(**size).auto_save_png('quickstart_example1.png')"
      ]
    },
    {
      "cell_type": "markdown",
      "metadata": {
        "id": "eApK_lvZVrw1"
      },
      "source": [
        "> There is a better way of specifying this type of partition that doesn't involve hard-coding who's a man and who's a woman into the code -- see the later tutorial on using *dimension tables*.\n",
        "\n",
        "### Distinguishing flow types\n",
        "\n",
        "These diagrams have lost sight of the kind of fruit that is actually being sold -- are the men buying apples, bananas or both from farm1? To show this we need to split up the flows in the diagram based on their *type*. Just like we split up the `ProcessGroups` by defining a partition of processes, we split up flows by defining a partition of flows.\n",
        "\n",
        "(While we're at it let's choose some colours that look vaguely like apples and bananas)"
      ]
    },
    {
      "cell_type": "code",
      "execution_count": 28,
      "metadata": {
        "colab": {
          "base_uri": "https://localhost:8080/",
          "height": 322,
          "referenced_widgets": [
            "1685176f45bb4656aafa9ab39c681aff",
            "9fc568bfa3474b6abf83953c9e7b5262"
          ]
        },
        "id": "f3TdR5heVrw2",
        "outputId": "d54a20b5-fbd4-4846-d6c3-583e581886ca"
      },
      "outputs": [
        {
          "output_type": "display_data",
          "data": {
            "application/vnd.jupyter.widget-view+json": {
              "model_id": "1685176f45bb4656aafa9ab39c681aff",
              "version_minor": 0,
              "version_major": 2
            },
            "text/plain": [
              "SankeyWidget(groups=[{'id': 'farms', 'type': 'process', 'title': '', 'nodes': ['farms^farm1', 'farms^farm2', '…"
            ]
          },
          "metadata": {
            "application/vnd.jupyter.widget-view+json": {
              "colab": {
                "custom_widget_manager": {
                  "url": "https://ssl.gstatic.com/colaboratory-static/widgets/colab-cdn-widget-manager/a8874ba6619b6106/manager.min.js"
                }
              }
            }
          }
        }
      ],
      "source": [
        "\"\"\"Partitioning the types column\"\"\"\n",
        "fruits_by_type = Partition.Simple('type', ['apples', 'bananas'])\n",
        "\n",
        "# Set the colours for the labels in the partition.\n",
        "palette = {'apples': 'yellowgreen', 'bananas': 'gold'}\n",
        "\n",
        "# New SDD with the flow_partition set\n",
        "sdd = SankeyDefinition(nodes, bundles, ordering, flow_partition=fruits_by_type)\n",
        "weave(sdd, flows, palette=palette).to_widget(**size)"
      ]
    },
    {
      "cell_type": "markdown",
      "metadata": {
        "id": "ajbE9VjrVrw2"
      },
      "source": [
        "As a last step, it would be nice to label which flows are apples and which are bananas. One way to do this would be to use a legend next to the diagram, or to put labels on every flow. Here, we'll add a new layer in the middle of the diagram which temporarily groups together the different fruit types on their way from the farms to the customers. This temporary/additional grouping point is called a *waypoint*.\n",
        "\n",
        "To add a waypoint, we need to do three things:\n",
        "\n",
        "1. Define it as a node\n",
        "2. Position it in the ordering (between `farms` and `customers`)\n",
        "3. Add it to the bundle"
      ]
    },
    {
      "cell_type": "code",
      "execution_count": 29,
      "metadata": {
        "colab": {
          "base_uri": "https://localhost:8080/",
          "height": 322,
          "referenced_widgets": [
            "6043a2a6bdd14441a10c9283543aa049",
            "9276dd188a8242a08b187a0492d4c8ff"
          ]
        },
        "id": "BItNEq8oVrw2",
        "outputId": "dff7ca48-27c2-4b24-9a8e-b69902448c8b"
      },
      "outputs": [
        {
          "output_type": "display_data",
          "data": {
            "application/vnd.jupyter.widget-view+json": {
              "model_id": "6043a2a6bdd14441a10c9283543aa049",
              "version_minor": 0,
              "version_major": 2
            },
            "text/plain": [
              "SankeyWidget(groups=[{'id': 'farms', 'type': 'process', 'title': '', 'nodes': ['farms^farm1', 'farms^farm2', '…"
            ]
          },
          "metadata": {
            "application/vnd.jupyter.widget-view+json": {
              "colab": {
                "custom_widget_manager": {
                  "url": "https://ssl.gstatic.com/colaboratory-static/widgets/colab-cdn-widget-manager/a8874ba6619b6106/manager.min.js"
                }
              }
            }
          }
        }
      ],
      "source": [
        "\"\"\"Set up a midpoint to visualise types\"\"\"\n",
        "# 1. Define a new waypoint node\n",
        "nodes['waypoint'] = Waypoint()\n",
        "\n",
        "# 2. Update the ordering to show where the waypoint goes: in the middle\n",
        "ordering = [\n",
        "    ['farms'],\n",
        "    ['waypoint'],\n",
        "    ['customers'],\n",
        "]\n",
        "\n",
        "# 3. Update the bundle definition to send the flows via the waypoint\n",
        "bundles = [\n",
        "    Bundle('farms', 'customers', waypoints=['waypoint']),\n",
        "]\n",
        "\n",
        "# Update the SDD with the new nodes, ordering & bundles.\n",
        "sdd = SankeyDefinition(nodes, bundles, ordering, flow_partition=fruits_by_type)\n",
        "weave(sdd, flows, palette=palette).to_widget(**size)"
      ]
    },
    {
      "cell_type": "markdown",
      "metadata": {
        "id": "NZMDbO3mVrw2"
      },
      "source": [
        "That's not yet very useful. Just like above, the default for Waypoints is to group everything togeter. We need to set a partition on the waypoint to split apart apples and bananas:"
      ]
    },
    {
      "cell_type": "code",
      "execution_count": 30,
      "metadata": {
        "colab": {
          "base_uri": "https://localhost:8080/",
          "height": 322,
          "referenced_widgets": [
            "bee735f09dad4af193488449d9f684e1",
            "3e5221a89d514b81a383616a5ab1e48f"
          ]
        },
        "id": "9beXFzdIVrw2",
        "outputId": "c5d649b0-7bd5-4d15-af60-581b54273df6"
      },
      "outputs": [
        {
          "output_type": "display_data",
          "data": {
            "application/vnd.jupyter.widget-view+json": {
              "model_id": "bee735f09dad4af193488449d9f684e1",
              "version_minor": 0,
              "version_major": 2
            },
            "text/plain": [
              "SankeyWidget(groups=[{'id': 'farms', 'type': 'process', 'title': '', 'nodes': ['farms^farm1', 'farms^farm2', '…"
            ]
          },
          "metadata": {
            "application/vnd.jupyter.widget-view+json": {
              "colab": {
                "custom_widget_manager": {
                  "url": "https://ssl.gstatic.com/colaboratory-static/widgets/colab-cdn-widget-manager/a8874ba6619b6106/manager.min.js"
                }
              }
            }
          }
        }
      ],
      "source": [
        "# Redefine the waypoint with a partition (same one defined above)\n",
        "nodes['waypoint'] = Waypoint(fruits_by_type)\n",
        "\n",
        "weave(sdd, flows, palette=palette).to_widget(**size)"
      ]
    },
    {
      "cell_type": "markdown",
      "source": [
        "OK, you should now have an idea of how to use FlowWeaver and feel free to play around with the sample data you've used so far. However, in real life data is not often as neat or simple as presented here so part 2 shows the process from online data through to a final Sankey diagram."
      ],
      "metadata": {
        "id": "vkcmhc5l2djb"
      }
    },
    {
      "cell_type": "markdown",
      "source": [
        "##2 - Using real data\n",
        "Let's consider US Steel imports [available here](https://www.trade.gov/media/4964) and consider how we might best display these in a Sankey diagram. Export the data and upload it to Colab by using the left panel.\n"
      ],
      "metadata": {
        "id": "d093z-t-yItP"
      }
    },
    {
      "cell_type": "code",
      "source": [
        "\"\"\"Import and visualise the data in a table\"\"\"\n",
        "steel_imports = pd.read_csv('US_Steel.csv')\n",
        "display(steel_imports)"
      ],
      "metadata": {
        "id": "NukDBRemyGHa"
      },
      "execution_count": null,
      "outputs": []
    },
    {
      "cell_type": "markdown",
      "source": [
        "We are only intersted in the most recent data so filter the database to only contain numbers from the latest year. To find an appropriate function either have a look at the [pandas documentation](https://pandas.pydata.org/docs/reference/index.html), or remember [your best friend](https://www.google.com/) when writing code."
      ],
      "metadata": {
        "id": "2KzCfO2OC24H"
      }
    },
    {
      "cell_type": "code",
      "source": [
        "\"\"\"Filter dataframe to only give us final year\"\"\"\n",
        "# Find years covered\n",
        "years = steel_imports['Date Label'].unique()\n",
        "\n",
        "# Select only rows for latest year\n",
        "steel_latest = steel_imports.loc[steel_imports['Date Label']==max(years)]\n",
        "display(steel_latest)"
      ],
      "metadata": {
        "id": "mL4vk4nh7uaa"
      },
      "execution_count": null,
      "outputs": []
    },
    {
      "cell_type": "markdown",
      "source": [
        "Now what will be the most appropriate way of mapping US Steel imports into a Sankey diagram. Based on your previous work please have a go and see what you can come up with."
      ],
      "metadata": {
        "id": "rJnjFiEzFIf_"
      }
    },
    {
      "cell_type": "code",
      "source": [
        "\"\"\"Sankey diagram time\"\"\""
      ],
      "metadata": {
        "id": "6zN6-ujcEc4-"
      },
      "execution_count": null,
      "outputs": []
    },
    {
      "cell_type": "markdown",
      "source": [
        "I'm sure you've all come up with extremely professional and clear diagram ready to present to Mr Biden himself. Just in case you've had some trouble here's the link to our solution."
      ],
      "metadata": {
        "id": "shHHxn9QFYU3"
      }
    },
    {
      "cell_type": "markdown",
      "metadata": {
        "id": "Y1TUY7pZVrw3"
      },
      "source": [
        "## Summary\n",
        "\n",
        "This has demonstrated the basic usage of `floweaver`: defining `ProcessGroup`s, `Waypoint`s, `Partition`s, and `Bundle`s. If you are reading the interactive version, why not go back and try out some different ways to present the data? Here are some suggestions:\n",
        "\n",
        "1. Farms 1, 3 and 5 are organic. Can you change the farm Partition to show two groups, organic and non-organic?\n",
        "2. What happens if you remove `\"farm1\"` from the original definition of the `farms` `ProcessGroup`? (Hint: those apples that James and Mary are eating have to come from somewhere -- so they are shown as coming from \"elsewhere\". See [later tutorial on moving the system boundary](/tutorials/system-boundary.ipynb))"
      ]
    }
  ],
  "metadata": {
    "kernelspec": {
      "display_name": "Python 3",
      "language": "python",
      "name": "python3"
    },
    "language_info": {
      "codemirror_mode": {
        "name": "ipython",
        "version": 3
      },
      "file_extension": ".py",
      "mimetype": "text/x-python",
      "name": "python",
      "nbconvert_exporter": "python",
      "pygments_lexer": "ipython3",
      "version": "3.6.3"
    },
    "colab": {
      "name": "L4_Drawing_Sankeys.ipynb",
      "provenance": []
    },
    "widgets": {
      "application/vnd.jupyter.widget-state+json": {
        "567b46eedf15439d854c6fd5e04138f5": {
          "model_module": "jupyter-sankey-widget",
          "model_name": "SankeyModel",
          "model_module_version": "^0.4.1",
          "state": {
            "_view_name": "SankeyView",
            "links": [
              {
                "opacity": 1,
                "target": "customers^Men",
                "title": "*",
                "color": "#FBB4AE",
                "value": 3,
                "source": "farms^farm1",
                "time": "*",
                "type": "*"
              },
              {
                "opacity": 1,
                "target": "customers^Women",
                "title": "*",
                "color": "#FBB4AE",
                "value": 5,
                "source": "farms^farm1",
                "time": "*",
                "type": "*"
              },
              {
                "opacity": 1,
                "target": "customers^Men",
                "title": "*",
                "color": "#FBB4AE",
                "value": 20,
                "source": "farms^farm2",
                "time": "*",
                "type": "*"
              },
              {
                "opacity": 1,
                "target": "customers^Women",
                "title": "*",
                "color": "#FBB4AE",
                "value": 5,
                "source": "farms^farm2",
                "time": "*",
                "type": "*"
              },
              {
                "opacity": 1,
                "target": "customers^Women",
                "title": "*",
                "color": "#FBB4AE",
                "value": 10,
                "source": "farms^farm3",
                "time": "*",
                "type": "*"
              },
              {
                "opacity": 1,
                "target": "customers^Women",
                "title": "*",
                "color": "#FBB4AE",
                "value": 3,
                "source": "farms^other",
                "time": "*",
                "type": "*"
              }
            ],
            "_view_module": "jupyter-sankey-widget",
            "_model_module_version": "^0.4.1",
            "_view_count": null,
            "linkLabelFormat": "",
            "margins": {
              "top": 25,
              "left": 130,
              "right": 130,
              "bottom": 10
            },
            "_model_module": "jupyter-sankey-widget",
            "scale": 2.880434782608696,
            "layout": "IPY_MODEL_335cfdbeab3240ee8fe1ab2990a58750",
            "linkLabelMinWidth": 5,
            "nodes": [
              {
                "direction": "r",
                "hidden": false,
                "type": "process",
                "id": "farms^farm1",
                "title": "farm1"
              },
              {
                "direction": "r",
                "hidden": false,
                "type": "process",
                "id": "farms^farm2",
                "title": "farm2"
              },
              {
                "direction": "r",
                "hidden": false,
                "type": "process",
                "id": "farms^farm3",
                "title": "farm3"
              },
              {
                "direction": "r",
                "hidden": false,
                "type": "process",
                "id": "farms^other",
                "title": "other"
              },
              {
                "direction": "r",
                "hidden": false,
                "type": "process",
                "id": "customers^Men",
                "title": "Men"
              },
              {
                "direction": "r",
                "hidden": false,
                "type": "process",
                "id": "customers^Women",
                "title": "Women"
              }
            ],
            "rank_sets": [],
            "_dom_classes": [],
            "_model_name": "SankeyModel",
            "groups": [
              {
                "nodes": [
                  "farms^farm1",
                  "farms^farm2",
                  "farms^farm3",
                  "farms^other"
                ],
                "type": "process",
                "id": "farms",
                "title": ""
              },
              {
                "nodes": [
                  "customers^Men",
                  "customers^Women"
                ],
                "type": "process",
                "id": "customers",
                "title": ""
              }
            ],
            "png": "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",
            "show_link_info_html": false,
            "align_link_types": false,
            "svg": "<?xml version=\"1.0\" standalone=\"no\"?><!DOCTYPE svg PUBLIC \"-//W3C//DTD SVG 1.1//EN\" \"http://www.w3.org/Graphics/SVG/1.1/DTD/svg11.dtd\"><svg xmlns=\"http://www.w3.org/2000/svg\" width=\"570\" height=\"300\" viewBox=\"0 0 570 300\" style=\"font-family: &quot;Helvetica Neue&quot;, Helvetica, Arial, sans-serif;\"><g class=\"sankey\" transform=\"translate(130,25)\"><g class=\"groups\"><g class=\"group\" transform=\"translate(0,26.5)\" style=\"display: none;\"><rect x=\"-10\" y=\"-20\" width=\"21\" height=\"241.99999999999997\" style=\"fill: rgb(238, 238, 238); stroke: rgb(187, 187, 187); stroke-width: 0.5;\"/><text x=\"-10\" y=\"-25\" style=\"fill: rgb(153, 153, 153);\"/></g><g class=\"group\" transform=\"translate(309,26.5)\" style=\"display: none;\"><rect x=\"-10\" y=\"-20\" width=\"21\" height=\"242\" style=\"fill: rgb(238, 238, 238); stroke: rgb(187, 187, 187); stroke-width: 0.5;\"/><text x=\"-10\" y=\"-25\" style=\"fill: rgb(153, 153, 153);\"/></g></g><g class=\"links\"><g class=\"link\" style=\"opacity: 0.8;\"><path d=\"M1,26.5 A0 0 0 0 0 1,26.5 L309,26.5 A0 0 0 0 0 309,26.5 L309,35.141304347826086 A0 0 0 0 0 309,35.141304347826086 L1,35.141304347826086 A0 0 0 0 0 1,35.141304347826086 Z\" style=\"fill: rgb(251, 180, 174);\"/><title>farm1 → Men\n*\n3.00</title><text class=\"label\" dy=\"0.35em\" x=\"5\" y=\"30.820652173913043\"/></g><g class=\"link\" style=\"opacity: 0.8;\"><path d=\"M1,229.85869565217388 A0 0 0 0 1 1,229.85869565217388 L309,229.8586956521739 A0 0 0 0 0 309,229.8586956521739 L309,238.49999999999997 A0 0 0 0 1 309,238.49999999999997 L1,238.49999999999994 A0 0 0 0 0 1,238.49999999999994 Z\" style=\"fill: rgb(251, 180, 174);\"/><title>other → Women\n*\n3.00</title><text class=\"label\" dy=\"0.35em\" x=\"5\" y=\"234.1793478260869\"/></g><g class=\"link\" style=\"opacity: 0.8;\"><path d=\"M1,35.141304347826086 A131.55074313564637 131.55074313564637 0.5144467791165561 0 1 65.72997853773688,52.168565620384946 L251.35665880133752,157.08688310446956 A117.14856922260289 117.14856922260289 0.5144467791165561 0 0 309,172.25 L309,186.6521739130435 A131.55074313564637 131.55074313564637 0.5144467791165561 0 1 244.27002146226312,169.62491264048464 L58.64334119866247,64.70659515640003 A117.14856922260289 117.14856922260289 0.5144467791165561 0 0 1,49.54347826086957 Z\" style=\"fill: rgb(251, 180, 174);\"/><title>farm1 → Women\n*\n5.00</title><text class=\"label\" dy=\"0.35em\" x=\"5\" y=\"42.34239130434783\"/></g><g class=\"link\" style=\"opacity: 0.8;\"><path d=\"M1,133.65217391304347 A283.63410582444624 283.63410582444624 0.20886468334819597 0 1 59.811359096658734,139.8164074485563 L253.17492289263342,180.80094350936847 A269.23193191140274 269.23193191140274 0.20886468334819597 0 0 309,186.65217391304347 L309,201.05434782608697 A283.63410582444624 283.63410582444624 0.20886468334819597 0 1 250.18864090334128,194.89011429057413 L56.82507710736657,153.90557822976197 A269.23193191140274 269.23193191140274 0.20886468334819597 0 0 1,148.05434782608697 Z\" style=\"fill: rgb(251, 180, 174);\"/><title>farm2 → Women\n*\n5.00</title><text class=\"label\" dy=\"0.35em\" x=\"5\" y=\"140.85326086956522\"/></g><g class=\"link\" style=\"opacity: 0.8;\"><path d=\"M1,174.55434782608694 A555.3432116488925 555.3432116488925 0.10516279089720904 0 1 59.293855890446,177.62234810846292 L253.72970947592748,198.1454775112885 A526.5388638228055 526.5388638228055 0.10516279089720904 0 0 309,201.05434782608694 L309,229.85869565217388 A555.3432116488925 555.3432116488925 0.10516279089720904 0 1 250.706144109554,226.7906953697979 L56.270290524072536,206.2675659669723 A526.5388638228055 526.5388638228055 0.10516279089720904 0 0 1,203.35869565217388 Z\" style=\"fill: rgb(251, 180, 174);\"/><title>farm3 → Women\n*\n10.0</title><text class=\"label\" dy=\"0.35em\" x=\"5\" y=\"188.9565217391304\"/></g><g class=\"link\" style=\"opacity: 0.8;\"><path d=\"M1,76.04347826086956 A325.22446749818033 325.22446749818033 0.16179340347433158 0 0 53.389904167358324,71.79603829084422 L247.3300005567818,40.141115375344015 A382.8331631503542 382.8331631503542 0.16179340347433158 0 1 309,35.14130434782609 L309,92.75 A325.22446749818033 325.22446749818033 0.16179340347433158 0 0 256.61009583264166,96.99743997002534 L62.66999944321819,128.65236288552555 A382.8331631503542 382.8331631503542 0.16179340347433158 0 1 1,133.65217391304347 Z\" style=\"fill: rgb(251, 180, 174);\"/><title>farm2 → Men\n*\n20.0</title><text class=\"label\" dy=\"0.35em\" x=\"5\" y=\"104.84782608695652\"/></g></g><g class=\"nodes\"><g class=\"node\" transform=\"translate(0,26.5)\"><title>farm1</title><line x1=\"0\" x2=\"0\" y1=\"0\" y2=\"23.043478260869563\" style=\"display: inline; stroke: rgb(0, 0, 0);\"/><rect class=\"node-body\" width=\"1\" height=\"23.043478260869563\" style=\"fill: none;\"/><text class=\"node-value\" dy=\".35em\" text-anchor=\"middle\" transform=\"translate(0.5,11.521739130434781) rotate(-90)\" style=\"display: none;\"/><text class=\"node-title\" dy=\".35em\" text-anchor=\"end\" transform=\"translate(-4,11.521739130434781)\" style=\"display: inline;\">farm1</text><rect class=\"node-click-target\" x=\"-5\" y=\"-5\" width=\"10\" height=\"28.043478260869563\" style=\"fill: none; visibility: hidden; pointer-events: all;\"/></g><g class=\"node\" transform=\"translate(0,76.04347826086956)\"><title>farm2</title><line x1=\"0\" x2=\"0\" y1=\"0\" y2=\"72.01086956521738\" style=\"display: inline; stroke: rgb(0, 0, 0);\"/><rect class=\"node-body\" width=\"1\" height=\"72.01086956521738\" style=\"fill: none;\"/><text class=\"node-value\" dy=\".35em\" text-anchor=\"middle\" transform=\"translate(0.5,36.00543478260869) rotate(-90)\" style=\"display: none;\"/><text class=\"node-title\" dy=\".35em\" text-anchor=\"end\" transform=\"translate(-4,36.00543478260869)\" style=\"display: inline;\">farm2</text><rect class=\"node-click-target\" x=\"-5\" y=\"-5\" width=\"10\" height=\"77.01086956521738\" style=\"fill: none; visibility: hidden; pointer-events: all;\"/></g><g class=\"node\" transform=\"translate(0,174.55434782608694)\"><title>farm3</title><line x1=\"0\" x2=\"0\" y1=\"0\" y2=\"28.804347826086968\" style=\"display: inline; stroke: rgb(0, 0, 0);\"/><rect class=\"node-body\" width=\"1\" height=\"28.804347826086968\" style=\"fill: none;\"/><text class=\"node-value\" dy=\".35em\" text-anchor=\"middle\" transform=\"translate(0.5,14.402173913043484) rotate(-90)\" style=\"display: none;\"/><text class=\"node-title\" dy=\".35em\" text-anchor=\"end\" transform=\"translate(-4,14.402173913043484)\" style=\"display: inline;\">farm3</text><rect class=\"node-click-target\" x=\"-5\" y=\"-5\" width=\"10\" height=\"33.80434782608697\" style=\"fill: none; visibility: hidden; pointer-events: all;\"/></g><g class=\"node\" transform=\"translate(0,229.85869565217388)\"><title>other</title><line x1=\"0\" x2=\"0\" y1=\"0\" y2=\"8.641304347826093\" style=\"display: inline; stroke: rgb(0, 0, 0);\"/><rect class=\"node-body\" width=\"1\" height=\"8.641304347826093\" style=\"fill: none;\"/><text class=\"node-value\" dy=\".35em\" text-anchor=\"middle\" transform=\"translate(0.5,4.320652173913047) rotate(-90)\" style=\"display: none;\"/><text class=\"node-title\" dy=\".35em\" text-anchor=\"end\" transform=\"translate(-4,4.320652173913047)\" style=\"display: inline;\">other</text><rect class=\"node-click-target\" x=\"-5\" y=\"-5\" width=\"10\" height=\"13.641304347826093\" style=\"fill: none; visibility: hidden; pointer-events: all;\"/></g><g class=\"node\" transform=\"translate(309,26.5)\"><title>Men</title><line x1=\"0\" x2=\"0\" y1=\"0\" y2=\"66.25\" style=\"display: inline; stroke: rgb(0, 0, 0);\"/><rect class=\"node-body\" width=\"1\" height=\"66.25\" style=\"fill: none;\"/><text class=\"node-value\" dy=\".35em\" text-anchor=\"middle\" transform=\"translate(0.5,33.125) rotate(-90)\" style=\"display: none;\"/><text class=\"node-title\" dy=\".35em\" text-anchor=\"start\" transform=\"translate(5,33.125)\" style=\"display: inline;\">Men</text><rect class=\"node-click-target\" x=\"-5\" y=\"-5\" width=\"10\" height=\"71.25\" style=\"fill: none; visibility: hidden; pointer-events: all;\"/></g><g class=\"node\" transform=\"translate(309,172.25)\"><title>Women</title><line x1=\"0\" x2=\"0\" y1=\"0\" y2=\"66.25\" style=\"display: inline; stroke: rgb(0, 0, 0);\"/><rect class=\"node-body\" width=\"1\" height=\"66.25\" style=\"fill: none;\"/><text class=\"node-value\" dy=\".35em\" text-anchor=\"middle\" transform=\"translate(0.5,33.125) rotate(-90)\" style=\"display: none;\"/><text class=\"node-title\" dy=\".35em\" text-anchor=\"start\" transform=\"translate(5,33.125)\" style=\"display: inline;\">Women</text><rect class=\"node-click-target\" x=\"-5\" y=\"-5\" width=\"10\" height=\"71.25\" style=\"fill: none; visibility: hidden; pointer-events: all;\"/></g></g><g class=\"slice-titles\"/></g></svg>",
            "_view_module_version": "^0.4.1",
            "order": [
              [
                [
                  "farms^farm1",
                  "farms^farm2",
                  "farms^farm3",
                  "farms^other"
                ]
              ],
              [
                [
                  "customers^Men",
                  "customers^Women"
                ]
              ]
            ]
          }
        },
        "335cfdbeab3240ee8fe1ab2990a58750": {
          "model_module": "@jupyter-widgets/base",
          "model_name": "LayoutModel",
          "model_module_version": "1.2.0",
          "state": {
            "_view_name": "LayoutView",
            "grid_template_rows": null,
            "right": null,
            "justify_content": null,
            "_view_module": "@jupyter-widgets/base",
            "overflow": null,
            "_model_module_version": "1.2.0",
            "_view_count": null,
            "flex_flow": null,
            "width": "570",
            "min_width": null,
            "border": null,
            "align_items": null,
            "bottom": null,
            "_model_module": "@jupyter-widgets/base",
            "top": null,
            "grid_column": null,
            "overflow_y": null,
            "overflow_x": null,
            "grid_auto_flow": null,
            "grid_area": null,
            "grid_template_columns": null,
            "flex": null,
            "_model_name": "LayoutModel",
            "justify_items": null,
            "grid_row": null,
            "max_height": null,
            "align_content": null,
            "visibility": null,
            "align_self": null,
            "height": "300",
            "min_height": null,
            "padding": null,
            "grid_auto_rows": null,
            "grid_gap": null,
            "max_width": null,
            "order": null,
            "_view_module_version": "1.2.0",
            "grid_template_areas": null,
            "object_position": null,
            "object_fit": null,
            "grid_auto_columns": null,
            "margin": null,
            "display": null,
            "left": null
          }
        },
        "da87f3470bf649ab83ea14e6e1caa4f7": {
          "model_module": "jupyter-sankey-widget",
          "model_name": "SankeyModel",
          "model_module_version": "^0.4.1",
          "state": {
            "_view_name": "SankeyView",
            "links": [
              {
                "source": "farm1",
                "type": "apples",
                "target": "Mary",
                "value": 5
              },
              {
                "source": "farm1",
                "type": "apples",
                "target": "James",
                "value": 3
              },
              {
                "source": "farm2",
                "type": "apples",
                "target": "Fred",
                "value": 10
              },
              {
                "source": "farm2",
                "type": "bananas",
                "target": "Fred",
                "value": 10
              },
              {
                "source": "farm2",
                "type": "bananas",
                "target": "Susan",
                "value": 5
              },
              {
                "source": "farm3",
                "type": "apples",
                "target": "Susan",
                "value": 10
              },
              {
                "source": "farm4",
                "type": "bananas",
                "target": "Susan",
                "value": 1
              },
              {
                "source": "farm5",
                "type": "bananas",
                "target": "Susan",
                "value": 1
              },
              {
                "source": "farm6",
                "type": "bananas",
                "target": "Susan",
                "value": 1
              }
            ],
            "_view_module": "jupyter-sankey-widget",
            "_model_module_version": "^0.4.1",
            "_view_count": null,
            "linkLabelFormat": "",
            "margins": {},
            "_model_module": "jupyter-sankey-widget",
            "scale": 4.130434782608695,
            "layout": "IPY_MODEL_391abaa14bcc490e8025ada1f53f73f1",
            "linkLabelMinWidth": 5,
            "nodes": [
              {
                "id": "Mary"
              },
              {
                "id": "farm2"
              },
              {
                "id": "farm1"
              },
              {
                "id": "Susan"
              },
              {
                "id": "farm3"
              },
              {
                "id": "James"
              },
              {
                "id": "farm4"
              },
              {
                "id": "Fred"
              },
              {
                "id": "farm5"
              },
              {
                "id": "farm6"
              }
            ],
            "rank_sets": [],
            "_dom_classes": [],
            "_model_name": "SankeyModel",
            "groups": [],
            "png": "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",
            "show_link_info_html": false,
            "align_link_types": false,
            "svg": "<?xml version=\"1.0\" standalone=\"no\"?><!DOCTYPE svg PUBLIC \"-//W3C//DTD SVG 1.1//EN\" \"http://www.w3.org/Graphics/SVG/1.1/DTD/svg11.dtd\"><svg xmlns=\"http://www.w3.org/2000/svg\"><g class=\"sankey\" transform=\"translate(100,10)\"><g class=\"groups\"/><g class=\"links\"><g class=\"link\"><path d=\"M1,228.16521739130434 A3125.4695194507913 3125.4695194507913 0.023392071317757335 0 0 74.10453847494193,227.31014511160782 L325.79885091132326,221.4214196837121 A3129.5999542334002 3129.5999542334002 0.023392071317757335 0 1 399,220.56521739130432 L399,224.695652173913 A3125.4695194507913 3125.4695194507913 0.023392071317757335 0 0 325.89546152505807,225.55072445360952 L74.20114908867671,231.43944988150525 A3129.5999542334002 3129.5999542334002 0.023392071317757335 0 1 1,232.29565217391303 Z\" style=\"fill: white;\"/><title/><text class=\"label\" dy=\"0.35em\" x=\"5\" y=\"230.23043478260868\"/></g><g class=\"link\"><path d=\"M1,255.09565217391307 A784.0934668192203 784.0934668192203 0.09340570439544305 0 0 74.1323521722411,251.67767733221027 L325.48240241515316,228.13163216776877 A788.2239016018291 788.2239016018291 0.09340570439544305 0 1 399,224.695652173913 L399,228.8260869565217 A784.0934668192203 784.0934668192203 0.09340570439544305 0 0 325.8676478277589,232.2440617982245 L74.51759758484681,255.790106962666 A788.2239016018291 788.2239016018291 0.09340570439544305 0 1 1,259.2260869565218 Z\" style=\"fill: white;\"/><title/><text class=\"label\" dy=\"0.35em\" x=\"5\" y=\"257.1608695652174\"/></g><g class=\"link\"><path d=\"M1,282.02608695652174 A452.5426021575673 452.5426021575673 0.16284038178196814 0 0 74.366959042529,276.03929999834713 L324.96340800340494,234.86751635713208 A456.673036940176 456.673036940176 0.16284038178196814 0 1 399,228.8260869565217 L399,232.95652173913038 A452.5426021575673 452.5426021575673 0.16284038178196814 0 0 325.633040957471,238.943308697305 L75.036591996595,280.11509233852007 A456.673036940176 456.673036940176 0.16284038178196814 0 1 1,286.1565217391305 Z\" style=\"fill: white;\"/><title/><text class=\"label\" dy=\"0.35em\" x=\"5\" y=\"284.0913043478261\"/></g><g class=\"link\"><path d=\"M1,308.95652173913044 A624.783295194508 624.783295194508 0.11663581569440629 0 0 73.70699730384612,304.71158837019584 L324.8510074655867,275.2856447170308 A637.174599542334 637.174599542334 0.11663581569440629 0 1 399,270.95652173913044 L399,283.34782608695656 A624.783295194508 624.783295194508 0.11663581569440629 0 0 326.29300269615385,287.59275945589116 L75.14899253441331,317.0187031090562 A637.174599542334 637.174599542334 0.11663581569440629 0 1 1,321.34782608695656 Z\" style=\"fill: white;\"/><title/><text class=\"label\" dy=\"0.35em\" x=\"5\" y=\"315.1521739130435\"/></g><g class=\"link\"><path d=\"M1,321.3478260869565 A0 0 0 0 0 1,321.3478260869565 L399,321.3478260869565 A0 0 0 0 0 399,321.3478260869565 L399,342 A0 0 0 0 0 399,342 L1,342 A0 0 0 0 0 1,342 Z\" style=\"fill: white;\"/><title/><text class=\"label\" dy=\"0.35em\" x=\"5\" y=\"331.67391304347825\"/></g><g class=\"link\"><path d=\"M1,120.60869565217392 A641.3050343249428 641.3050343249428 0.11663581569440629 0 1 75.62965761126904,124.96588183306278 L326.7736677730096,154.39182548622784 A620.6528604118993 620.6528604118993 0.11663581569440629 0 0 399,158.6086956521739 L399,179.2608695652174 A641.3050343249428 641.3050343249428 0.11663581569440629 0 1 324.37034238873093,174.90368338432853 L73.2263322269904,145.47773973116347 A620.6528604118993 620.6528604118993 0.11663581569440629 0 0 1,141.2608695652174 Z\" style=\"fill: white;\"/><title/><text class=\"label\" dy=\"0.35em\" x=\"5\" y=\"130.93478260869566\"/></g><g class=\"link\"><path d=\"M1,38 A0 0 0 0 0 1,38 L399,38 A0 0 0 0 0 399,38 L399,79.30434782608695 A0 0 0 0 0 399,79.30434782608695 L1,79.30434782608695 A0 0 0 0 0 1,79.30434782608695 Z\" style=\"fill: white;\"/><title/><text class=\"label\" dy=\"0.35em\" x=\"5\" y=\"58.65217391304348\"/></g><g class=\"link\"><path d=\"M1,79.30434782608697 A0 0 0 0 0 1,79.30434782608697 L399,79.30434782608697 A0 0 0 0 0 399,79.30434782608697 L399,120.6086956521739 A0 0 0 0 0 399,120.6086956521739 L1,120.6086956521739 A0 0 0 0 0 1,120.6086956521739 Z\" style=\"fill: white;\"/><title/><text class=\"label\" dy=\"0.35em\" x=\"5\" y=\"99.95652173913044\"/></g><g class=\"link\"><path d=\"M1,164.0608695652174 A1586.1295423340973 1586.1295423340973 0.046767842935021786 0 1 75.15281885206039,165.79516937891796 L326.77819229198724,177.57173259656057 A1544.8251945080103 1544.8251945080103 0.046767842935021786 0 0 399,179.26086956521738 L399,220.56521739130432 A1586.1295423340973 1586.1295423340973 0.046767842935021786 0 1 324.84718114793964,218.83091757760374 L73.22180770801276,207.05435435996114 A1544.8251945080103 1544.8251945080103 0.046767842935021786 0 0 1,205.36521739130433 Z\" style=\"fill: white;\"/><title/><text class=\"label\" dy=\"0.35em\" x=\"5\" y=\"184.71304347826086\"/></g></g><g class=\"nodes\"><g class=\"node\" transform=\"translate(399,321.3478260869565)\"><title>Mary</title><line x1=\"0\" x2=\"0\" y1=\"0\" y2=\"20.652173913043498\" style=\"display: inline;\"/><rect class=\"node-body\" width=\"1\" height=\"20.652173913043498\"/><text class=\"node-value\" dy=\".35em\" text-anchor=\"middle\" transform=\"translate(0.5,10.326086956521749) rotate(-90)\" style=\"display: none;\"/><text class=\"node-title\" dy=\".35em\" text-anchor=\"start\" transform=\"translate(5,10.326086956521749)\" style=\"display: inline;\">Mary</text><rect class=\"node-click-target\" x=\"-5\" y=\"-5\" width=\"10\" height=\"25.652173913043498\" style=\"fill: none; visibility: hidden; pointer-events: all;\"/></g><g class=\"node\" transform=\"translate(0,38)\"><title>farm2</title><line x1=\"0\" x2=\"0\" y1=\"0\" y2=\"103.26086956521738\" style=\"display: inline;\"/><rect class=\"node-body\" width=\"1\" height=\"103.26086956521738\"/><text class=\"node-value\" dy=\".35em\" text-anchor=\"middle\" transform=\"translate(0.5,51.63043478260869) rotate(-90)\" style=\"display: none;\"/><text class=\"node-title\" dy=\".35em\" text-anchor=\"end\" transform=\"translate(-4,51.63043478260869)\" style=\"display: inline;\">farm2</text><rect class=\"node-click-target\" x=\"-5\" y=\"-5\" width=\"10\" height=\"108.26086956521738\" style=\"fill: none; visibility: hidden; pointer-events: all;\"/></g><g class=\"node\" transform=\"translate(0,308.95652173913044)\"><title>farm1</title><line x1=\"0\" x2=\"0\" y1=\"0\" y2=\"33.04347826086956\" style=\"display: inline;\"/><rect class=\"node-body\" width=\"1\" height=\"33.04347826086956\"/><text class=\"node-value\" dy=\".35em\" text-anchor=\"middle\" transform=\"translate(0.5,16.52173913043478) rotate(-90)\" style=\"display: none;\"/><text class=\"node-title\" dy=\".35em\" text-anchor=\"end\" transform=\"translate(-4,16.52173913043478)\" style=\"display: inline;\">farm1</text><rect class=\"node-click-target\" x=\"-5\" y=\"-5\" width=\"10\" height=\"38.04347826086956\" style=\"fill: none; visibility: hidden; pointer-events: all;\"/></g><g class=\"node\" transform=\"translate(399,158.6086956521739)\"><title>Susan</title><line x1=\"0\" x2=\"0\" y1=\"0\" y2=\"74.34782608695653\" style=\"display: inline;\"/><rect class=\"node-body\" width=\"1\" height=\"74.34782608695653\"/><text class=\"node-value\" dy=\".35em\" text-anchor=\"middle\" transform=\"translate(0.5,37.173913043478265) rotate(-90)\" style=\"display: none;\"/><text class=\"node-title\" dy=\".35em\" text-anchor=\"start\" transform=\"translate(5,37.173913043478265)\" style=\"display: inline;\">Susan</text><rect class=\"node-click-target\" x=\"-5\" y=\"-5\" width=\"10\" height=\"79.34782608695653\" style=\"fill: none; visibility: hidden; pointer-events: all;\"/></g><g class=\"node\" transform=\"translate(0,164.0608695652174)\"><title>farm3</title><line x1=\"0\" x2=\"0\" y1=\"0\" y2=\"41.30434782608694\" style=\"display: inline;\"/><rect class=\"node-body\" width=\"1\" height=\"41.30434782608694\"/><text class=\"node-value\" dy=\".35em\" text-anchor=\"middle\" transform=\"translate(0.5,20.65217391304347) rotate(-90)\" style=\"display: none;\"/><text class=\"node-title\" dy=\".35em\" text-anchor=\"end\" transform=\"translate(-4,20.65217391304347)\" style=\"display: inline;\">farm3</text><rect class=\"node-click-target\" x=\"-5\" y=\"-5\" width=\"10\" height=\"46.30434782608694\" style=\"fill: none; visibility: hidden; pointer-events: all;\"/></g><g class=\"node\" transform=\"translate(399,270.95652173913044)\"><title>James</title><line x1=\"0\" x2=\"0\" y1=\"0\" y2=\"12.391304347826065\" style=\"display: inline;\"/><rect class=\"node-body\" width=\"1\" height=\"12.391304347826065\"/><text class=\"node-value\" dy=\".35em\" text-anchor=\"middle\" transform=\"translate(0.5,6.195652173913032) rotate(-90)\" style=\"display: none;\"/><text class=\"node-title\" dy=\".35em\" text-anchor=\"start\" transform=\"translate(5,6.195652173913032)\" style=\"display: inline;\">James</text><rect class=\"node-click-target\" x=\"-5\" y=\"-5\" width=\"10\" height=\"17.391304347826065\" style=\"fill: none; visibility: hidden; pointer-events: all;\"/></g><g class=\"node\" transform=\"translate(0,228.16521739130434)\"><title>farm4</title><line x1=\"0\" x2=\"0\" y1=\"0\" y2=\"4.130434782608688\" style=\"display: inline;\"/><rect class=\"node-body\" width=\"1\" height=\"4.130434782608688\"/><text class=\"node-value\" dy=\".35em\" text-anchor=\"middle\" transform=\"translate(0.5,2.065217391304344) rotate(-90)\" style=\"display: none;\"/><text class=\"node-title\" dy=\".35em\" text-anchor=\"end\" transform=\"translate(-4,2.065217391304344)\" style=\"display: inline;\">farm4</text><rect class=\"node-click-target\" x=\"-5\" y=\"-5\" width=\"10\" height=\"9.130434782608688\" style=\"fill: none; visibility: hidden; pointer-events: all;\"/></g><g class=\"node\" transform=\"translate(399,38)\"><title>Fred</title><line x1=\"0\" x2=\"0\" y1=\"0\" y2=\"82.6086956521739\" style=\"display: inline;\"/><rect class=\"node-body\" width=\"1\" height=\"82.6086956521739\"/><text class=\"node-value\" dy=\".35em\" text-anchor=\"middle\" transform=\"translate(0.5,41.30434782608695) rotate(-90)\" style=\"display: none;\"/><text class=\"node-title\" dy=\".35em\" text-anchor=\"start\" transform=\"translate(5,41.30434782608695)\" style=\"display: inline;\">Fred</text><rect class=\"node-click-target\" x=\"-5\" y=\"-5\" width=\"10\" height=\"87.6086956521739\" style=\"fill: none; visibility: hidden; pointer-events: all;\"/></g><g class=\"node\" transform=\"translate(0,255.09565217391304)\"><title>farm5</title><line x1=\"0\" x2=\"0\" y1=\"0\" y2=\"4.130434782608688\" style=\"display: inline;\"/><rect class=\"node-body\" width=\"1\" height=\"4.130434782608688\"/><text class=\"node-value\" dy=\".35em\" text-anchor=\"middle\" transform=\"translate(0.5,2.065217391304344) rotate(-90)\" style=\"display: none;\"/><text class=\"node-title\" dy=\".35em\" text-anchor=\"end\" transform=\"translate(-4,2.065217391304344)\" style=\"display: inline;\">farm5</text><rect class=\"node-click-target\" x=\"-5\" y=\"-5\" width=\"10\" height=\"9.130434782608688\" style=\"fill: none; visibility: hidden; pointer-events: all;\"/></g><g class=\"node\" transform=\"translate(0,282.02608695652174)\"><title>farm6</title><line x1=\"0\" x2=\"0\" y1=\"0\" y2=\"4.130434782608688\" style=\"display: inline;\"/><rect class=\"node-body\" width=\"1\" height=\"4.130434782608688\"/><text class=\"node-value\" dy=\".35em\" text-anchor=\"middle\" transform=\"translate(0.5,2.065217391304344) rotate(-90)\" style=\"display: none;\"/><text class=\"node-title\" dy=\".35em\" text-anchor=\"end\" transform=\"translate(-4,2.065217391304344)\" style=\"display: inline;\">farm6</text><rect class=\"node-click-target\" x=\"-5\" y=\"-5\" width=\"10\" height=\"9.130434782608688\" style=\"fill: none; visibility: hidden; pointer-events: all;\"/></g></g><g class=\"slice-titles\"/></g></svg>",
            "_view_module_version": "^0.4.1",
            "order": []
          }
        },
        "391abaa14bcc490e8025ada1f53f73f1": {
          "model_module": "@jupyter-widgets/base",
          "model_name": "LayoutModel",
          "model_module_version": "1.2.0",
          "state": {
            "_view_name": "LayoutView",
            "grid_template_rows": null,
            "right": null,
            "justify_content": null,
            "_view_module": "@jupyter-widgets/base",
            "overflow": null,
            "_model_module_version": "1.2.0",
            "_view_count": null,
            "flex_flow": null,
            "width": null,
            "min_width": null,
            "border": null,
            "align_items": null,
            "bottom": null,
            "_model_module": "@jupyter-widgets/base",
            "top": null,
            "grid_column": null,
            "overflow_y": null,
            "overflow_x": null,
            "grid_auto_flow": null,
            "grid_area": null,
            "grid_template_columns": null,
            "flex": null,
            "_model_name": "LayoutModel",
            "justify_items": null,
            "grid_row": null,
            "max_height": null,
            "align_content": null,
            "visibility": null,
            "align_self": null,
            "height": null,
            "min_height": null,
            "padding": null,
            "grid_auto_rows": null,
            "grid_gap": null,
            "max_width": null,
            "order": null,
            "_view_module_version": "1.2.0",
            "grid_template_areas": null,
            "object_position": null,
            "object_fit": null,
            "grid_auto_columns": null,
            "margin": null,
            "display": null,
            "left": null
          }
        },
        "2cefc7db990f44faa6b7cff258bb1e76": {
          "model_module": "jupyter-sankey-widget",
          "model_name": "SankeyModel",
          "model_module_version": "^0.4.1",
          "state": {
            "_view_name": "SankeyView",
            "links": [
              {
                "opacity": 1,
                "target": "customers^*",
                "title": "*",
                "color": "#FBB4AE",
                "value": 46,
                "source": "farms^*",
                "time": "*",
                "type": "*"
              }
            ],
            "_view_module": "jupyter-sankey-widget",
            "_model_module_version": "^0.4.1",
            "_view_count": null,
            "linkLabelFormat": "",
            "margins": {
              "top": 25,
              "left": 130,
              "right": 130,
              "bottom": 10
            },
            "_model_module": "jupyter-sankey-widget",
            "scale": 2.880434782608696,
            "layout": "IPY_MODEL_d8865d002536425a8733bf4267436dbe",
            "linkLabelMinWidth": 5,
            "nodes": [
              {
                "direction": "r",
                "hidden": false,
                "type": "process",
                "id": "farms^*",
                "title": "farms"
              },
              {
                "direction": "r",
                "hidden": false,
                "type": "process",
                "id": "customers^*",
                "title": "customers"
              }
            ],
            "rank_sets": [],
            "_dom_classes": [],
            "_model_name": "SankeyModel",
            "groups": [],
            "png": "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",
            "show_link_info_html": false,
            "align_link_types": false,
            "svg": "<?xml version=\"1.0\" standalone=\"no\"?><!DOCTYPE svg PUBLIC \"-//W3C//DTD SVG 1.1//EN\" \"http://www.w3.org/Graphics/SVG/1.1/DTD/svg11.dtd\"><svg xmlns=\"http://www.w3.org/2000/svg\"><g class=\"sankey\" transform=\"translate(130,25)\"><g class=\"groups\"/><g class=\"links\"><g class=\"link\"><path d=\"M1,66.25 A0 0 0 0 0 1,66.25 L309,66.25 A0 0 0 0 0 309,66.25 L309,198.75 A0 0 0 0 0 309,198.75 L1,198.75 A0 0 0 0 0 1,198.75 Z\" style=\"fill: white;\"/><title/><text class=\"label\" dy=\"0.35em\" x=\"5\" y=\"132.5\"/></g></g><g class=\"nodes\"><g class=\"node\" transform=\"translate(0,66.25)\"><title>farms</title><line x1=\"0\" x2=\"0\" y1=\"0\" y2=\"132.5\" style=\"display: inline;\"/><rect class=\"node-body\" width=\"1\" height=\"132.5\"/><text class=\"node-value\" dy=\".35em\" text-anchor=\"middle\" transform=\"translate(0.5,66.25) rotate(-90)\" style=\"display: none;\"/><text class=\"node-title\" dy=\".35em\" text-anchor=\"end\" transform=\"translate(-4,66.25)\" style=\"display: inline;\">farms</text><rect class=\"node-click-target\" x=\"-5\" y=\"-5\" width=\"10\" height=\"137.5\" style=\"fill: none; visibility: hidden; pointer-events: all;\"/></g><g class=\"node\" transform=\"translate(309,66.25)\"><title>customers</title><line x1=\"0\" x2=\"0\" y1=\"0\" y2=\"132.5\" style=\"display: inline;\"/><rect class=\"node-body\" width=\"1\" height=\"132.5\"/><text class=\"node-value\" dy=\".35em\" text-anchor=\"middle\" transform=\"translate(0.5,66.25) rotate(-90)\" style=\"display: none;\"/><text class=\"node-title\" dy=\".35em\" text-anchor=\"start\" transform=\"translate(5,66.25)\" style=\"display: inline;\">customers</text><rect class=\"node-click-target\" x=\"-5\" y=\"-5\" width=\"10\" height=\"137.5\" style=\"fill: none; visibility: hidden; pointer-events: all;\"/></g></g><g class=\"slice-titles\"/></g></svg>",
            "_view_module_version": "^0.4.1",
            "order": [
              [
                [
                  "farms^*"
                ]
              ],
              [
                [
                  "customers^*"
                ]
              ]
            ]
          }
        },
        "d8865d002536425a8733bf4267436dbe": {
          "model_module": "@jupyter-widgets/base",
          "model_name": "LayoutModel",
          "model_module_version": "1.2.0",
          "state": {
            "_view_name": "LayoutView",
            "grid_template_rows": null,
            "right": null,
            "justify_content": null,
            "_view_module": "@jupyter-widgets/base",
            "overflow": null,
            "_model_module_version": "1.2.0",
            "_view_count": null,
            "flex_flow": null,
            "width": "570",
            "min_width": null,
            "border": null,
            "align_items": null,
            "bottom": null,
            "_model_module": "@jupyter-widgets/base",
            "top": null,
            "grid_column": null,
            "overflow_y": null,
            "overflow_x": null,
            "grid_auto_flow": null,
            "grid_area": null,
            "grid_template_columns": null,
            "flex": null,
            "_model_name": "LayoutModel",
            "justify_items": null,
            "grid_row": null,
            "max_height": null,
            "align_content": null,
            "visibility": null,
            "align_self": null,
            "height": "300",
            "min_height": null,
            "padding": null,
            "grid_auto_rows": null,
            "grid_gap": null,
            "max_width": null,
            "order": null,
            "_view_module_version": "1.2.0",
            "grid_template_areas": null,
            "object_position": null,
            "object_fit": null,
            "grid_auto_columns": null,
            "margin": null,
            "display": null,
            "left": null
          }
        },
        "a9efa72fc494493b8cd442134863568e": {
          "model_module": "jupyter-sankey-widget",
          "model_name": "SankeyModel",
          "model_module_version": "^0.4.1",
          "state": {
            "_view_name": "SankeyView",
            "links": [
              {
                "opacity": 1,
                "target": "customers^James",
                "title": "*",
                "color": "#FBB4AE",
                "value": 3,
                "source": "farms^farm1",
                "time": "*",
                "type": "*"
              },
              {
                "opacity": 1,
                "target": "customers^Mary",
                "title": "*",
                "color": "#FBB4AE",
                "value": 5,
                "source": "farms^farm1",
                "time": "*",
                "type": "*"
              },
              {
                "opacity": 1,
                "target": "customers^Fred",
                "title": "*",
                "color": "#FBB4AE",
                "value": 20,
                "source": "farms^farm2",
                "time": "*",
                "type": "*"
              },
              {
                "opacity": 1,
                "target": "customers^Susan",
                "title": "*",
                "color": "#FBB4AE",
                "value": 5,
                "source": "farms^farm2",
                "time": "*",
                "type": "*"
              },
              {
                "opacity": 1,
                "target": "customers^Susan",
                "title": "*",
                "color": "#FBB4AE",
                "value": 10,
                "source": "farms^farm3",
                "time": "*",
                "type": "*"
              },
              {
                "opacity": 1,
                "target": "customers^Susan",
                "title": "*",
                "color": "#FBB4AE",
                "value": 3,
                "source": "farms^other",
                "time": "*",
                "type": "*"
              }
            ],
            "_view_module": "jupyter-sankey-widget",
            "_model_module_version": "^0.4.1",
            "_view_count": null,
            "linkLabelFormat": "",
            "margins": {
              "top": 25,
              "left": 130,
              "right": 130,
              "bottom": 10
            },
            "_model_module": "jupyter-sankey-widget",
            "scale": 2.880434782608696,
            "layout": "IPY_MODEL_ab12d4e6cbcc42f69111b456893a64de",
            "linkLabelMinWidth": 5,
            "nodes": [
              {
                "direction": "r",
                "hidden": false,
                "type": "process",
                "id": "farms^farm1",
                "title": "farm1"
              },
              {
                "direction": "r",
                "hidden": false,
                "type": "process",
                "id": "farms^farm2",
                "title": "farm2"
              },
              {
                "direction": "r",
                "hidden": false,
                "type": "process",
                "id": "farms^farm3",
                "title": "farm3"
              },
              {
                "direction": "r",
                "hidden": false,
                "type": "process",
                "id": "farms^other",
                "title": "other"
              },
              {
                "direction": "r",
                "hidden": false,
                "type": "process",
                "id": "customers^James",
                "title": "James"
              },
              {
                "direction": "r",
                "hidden": false,
                "type": "process",
                "id": "customers^Mary",
                "title": "Mary"
              },
              {
                "direction": "r",
                "hidden": false,
                "type": "process",
                "id": "customers^Fred",
                "title": "Fred"
              },
              {
                "direction": "r",
                "hidden": false,
                "type": "process",
                "id": "customers^Susan",
                "title": "Susan"
              }
            ],
            "rank_sets": [],
            "_dom_classes": [],
            "_model_name": "SankeyModel",
            "groups": [
              {
                "nodes": [
                  "farms^farm1",
                  "farms^farm2",
                  "farms^farm3",
                  "farms^other"
                ],
                "type": "process",
                "id": "farms",
                "title": ""
              },
              {
                "nodes": [
                  "customers^James",
                  "customers^Mary",
                  "customers^Fred",
                  "customers^Susan"
                ],
                "type": "process",
                "id": "customers",
                "title": ""
              }
            ],
            "png": "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",
            "show_link_info_html": false,
            "align_link_types": false,
            "svg": "<?xml version=\"1.0\" standalone=\"no\"?><!DOCTYPE svg PUBLIC \"-//W3C//DTD SVG 1.1//EN\" \"http://www.w3.org/Graphics/SVG/1.1/DTD/svg11.dtd\"><svg xmlns=\"http://www.w3.org/2000/svg\"><g class=\"sankey\" transform=\"translate(130,25)\"><g class=\"groups\"><g class=\"group\" transform=\"translate(0,26.5)\" style=\"display: none;\"><rect x=\"-10\" y=\"-20\" width=\"21\" height=\"241.99999999999997\"/><text x=\"-10\" y=\"-25\"/></g><g class=\"group\" transform=\"translate(309,26.5)\" style=\"display: none;\"><rect x=\"-10\" y=\"-20\" width=\"21\" height=\"242\"/><text x=\"-10\" y=\"-25\"/></g></g><g class=\"links\"><g class=\"link\"><path d=\"M1,26.5 A0 0 0 0 0 1,26.5 L309,26.5 A0 0 0 0 0 309,26.5 L309,35.141304347826086 A0 0 0 0 0 309,35.141304347826086 L1,35.141304347826086 A0 0 0 0 0 1,35.141304347826086 Z\" style=\"fill: white;\"/><title/><text class=\"label\" dy=\"0.35em\" x=\"5\" y=\"30.820652173913043\"/></g><g class=\"link\"><path d=\"M1,229.85869565217388 A0 0 0 0 1 1,229.85869565217388 L309,229.8586956521739 A0 0 0 0 0 309,229.8586956521739 L309,238.49999999999997 A0 0 0 0 1 309,238.49999999999997 L1,238.49999999999994 A0 0 0 0 0 1,238.49999999999994 Z\" style=\"fill: white;\"/><title/><text class=\"label\" dy=\"0.35em\" x=\"5\" y=\"234.1793478260869\"/></g><g class=\"link\"><path d=\"M1,35.141304347826086 A548.1421246923708 548.1421246923708 0.10516279089720904 0 1 58.53796454885263,38.16952213830768 L252.9738181343341,58.692651541133266 A533.7399507793273 533.7399507793273 0.10516279089720904 0 0 309,61.641304347826086 L309,76.04347826086956 A548.1421246923708 548.1421246923708 0.10516279089720904 0 1 251.4620354511474,73.01526047038797 L57.026181865665905,52.49213106756239 A533.7399507793273 533.7399507793273 0.10516279089720904 0 0 1,49.54347826086957 Z\" style=\"fill: white;\"/><title/><text class=\"label\" dy=\"0.35em\" x=\"5\" y=\"42.34239130434783\"/></g><g class=\"link\"><path d=\"M1,133.65217391304347 A283.63410582444624 283.63410582444624 0.20886468334819597 0 1 59.811359096658734,139.8164074485563 L253.17492289263342,180.80094350936847 A269.23193191140274 269.23193191140274 0.20886468334819597 0 0 309,186.65217391304347 L309,201.05434782608697 A283.63410582444624 283.63410582444624 0.20886468334819597 0 1 250.18864090334128,194.89011429057413 L56.82507710736657,153.90557822976197 A269.23193191140274 269.23193191140274 0.20886468334819597 0 0 1,148.05434782608697 Z\" style=\"fill: white;\"/><title/><text class=\"label\" dy=\"0.35em\" x=\"5\" y=\"140.85326086956522\"/></g><g class=\"link\"><path d=\"M1,174.55434782608694 A555.3432116488925 555.3432116488925 0.10516279089720904 0 1 59.293855890446,177.62234810846292 L253.72970947592748,198.1454775112885 A526.5388638228055 526.5388638228055 0.10516279089720904 0 0 309,201.05434782608694 L309,229.85869565217388 A555.3432116488925 555.3432116488925 0.10516279089720904 0 1 250.706144109554,226.7906953697979 L56.270290524072536,206.2675659669723 A526.5388638228055 526.5388638228055 0.10516279089720904 0 0 1,203.35869565217388 Z\" style=\"fill: white;\"/><title/><text class=\"label\" dy=\"0.35em\" x=\"5\" y=\"188.9565217391304\"/></g><g class=\"link\"><path d=\"M1,76.04347826086956 A569.7453855619358 569.7453855619358 0.10516279089720904 0 1 60.8056385736327,79.1910435270343 L255.2414921591142,99.7141729298599 A512.1366899097618 512.1366899097618 0.10516279089720904 0 0 309,102.54347826086958 L309,160.1521739130435 A569.7453855619358 569.7453855619358 0.10516279089720904 0 1 249.1943614263673,157.00460864687875 L54.75850784088579,136.48147924405316 A512.1366899097618 512.1366899097618 0.10516279089720904 0 0 1,133.65217391304347 Z\" style=\"fill: white;\"/><title/><text class=\"label\" dy=\"0.35em\" x=\"5\" y=\"104.84782608695652\"/></g></g><g class=\"nodes\"><g class=\"node\" transform=\"translate(0,26.5)\"><title>farm1</title><line x1=\"0\" x2=\"0\" y1=\"0\" y2=\"23.043478260869563\" style=\"display: inline;\"/><rect class=\"node-body\" width=\"1\" height=\"23.043478260869563\"/><text class=\"node-value\" dy=\".35em\" text-anchor=\"middle\" transform=\"translate(0.5,11.521739130434781) rotate(-90)\" style=\"display: none;\"/><text class=\"node-title\" dy=\".35em\" text-anchor=\"end\" transform=\"translate(-4,11.521739130434781)\" style=\"display: inline;\">farm1</text><rect class=\"node-click-target\" x=\"-5\" y=\"-5\" width=\"10\" height=\"28.043478260869563\" style=\"fill: none; visibility: hidden; pointer-events: all;\"/></g><g class=\"node\" transform=\"translate(0,76.04347826086956)\"><title>farm2</title><line x1=\"0\" x2=\"0\" y1=\"0\" y2=\"72.01086956521738\" style=\"display: inline;\"/><rect class=\"node-body\" width=\"1\" height=\"72.01086956521738\"/><text class=\"node-value\" dy=\".35em\" text-anchor=\"middle\" transform=\"translate(0.5,36.00543478260869) rotate(-90)\" style=\"display: none;\"/><text class=\"node-title\" dy=\".35em\" text-anchor=\"end\" transform=\"translate(-4,36.00543478260869)\" style=\"display: inline;\">farm2</text><rect class=\"node-click-target\" x=\"-5\" y=\"-5\" width=\"10\" height=\"77.01086956521738\" style=\"fill: none; visibility: hidden; pointer-events: all;\"/></g><g class=\"node\" transform=\"translate(0,174.55434782608694)\"><title>farm3</title><line x1=\"0\" x2=\"0\" y1=\"0\" y2=\"28.804347826086968\" style=\"display: inline;\"/><rect class=\"node-body\" width=\"1\" height=\"28.804347826086968\"/><text class=\"node-value\" dy=\".35em\" text-anchor=\"middle\" transform=\"translate(0.5,14.402173913043484) rotate(-90)\" style=\"display: none;\"/><text class=\"node-title\" dy=\".35em\" text-anchor=\"end\" transform=\"translate(-4,14.402173913043484)\" style=\"display: inline;\">farm3</text><rect class=\"node-click-target\" x=\"-5\" y=\"-5\" width=\"10\" height=\"33.80434782608697\" style=\"fill: none; visibility: hidden; pointer-events: all;\"/></g><g class=\"node\" transform=\"translate(0,229.85869565217388)\"><title>other</title><line x1=\"0\" x2=\"0\" y1=\"0\" y2=\"8.641304347826093\" style=\"display: inline;\"/><rect class=\"node-body\" width=\"1\" height=\"8.641304347826093\"/><text class=\"node-value\" dy=\".35em\" text-anchor=\"middle\" transform=\"translate(0.5,4.320652173913047) rotate(-90)\" style=\"display: none;\"/><text class=\"node-title\" dy=\".35em\" text-anchor=\"end\" transform=\"translate(-4,4.320652173913047)\" style=\"display: inline;\">other</text><rect class=\"node-click-target\" x=\"-5\" y=\"-5\" width=\"10\" height=\"13.641304347826093\" style=\"fill: none; visibility: hidden; pointer-events: all;\"/></g><g class=\"node\" transform=\"translate(309,26.5)\"><title>James</title><line x1=\"0\" x2=\"0\" y1=\"0\" y2=\"8.641304347826086\" style=\"display: inline;\"/><rect class=\"node-body\" width=\"1\" height=\"8.641304347826086\"/><text class=\"node-value\" dy=\".35em\" text-anchor=\"middle\" transform=\"translate(0.5,4.320652173913043) rotate(-90)\" style=\"display: none;\"/><text class=\"node-title\" dy=\".35em\" text-anchor=\"start\" transform=\"translate(5,4.320652173913043)\" style=\"display: inline;\">James</text><rect class=\"node-click-target\" x=\"-5\" y=\"-5\" width=\"10\" height=\"13.641304347826086\" style=\"fill: none; visibility: hidden; pointer-events: all;\"/></g><g class=\"node\" transform=\"translate(309,61.641304347826086)\"><title>Mary</title><line x1=\"0\" x2=\"0\" y1=\"0\" y2=\"14.402173913043477\" style=\"display: inline;\"/><rect class=\"node-body\" width=\"1\" height=\"14.402173913043477\"/><text class=\"node-value\" dy=\".35em\" text-anchor=\"middle\" transform=\"translate(0.5,7.201086956521738) rotate(-90)\" style=\"display: none;\"/><text class=\"node-title\" dy=\".35em\" text-anchor=\"start\" transform=\"translate(5,7.201086956521738)\" style=\"display: inline;\">Mary</text><rect class=\"node-click-target\" x=\"-5\" y=\"-5\" width=\"10\" height=\"19.402173913043477\" style=\"fill: none; visibility: hidden; pointer-events: all;\"/></g><g class=\"node\" transform=\"translate(309,102.54347826086956)\"><title>Fred</title><line x1=\"0\" x2=\"0\" y1=\"0\" y2=\"57.60869565217391\" style=\"display: inline;\"/><rect class=\"node-body\" width=\"1\" height=\"57.60869565217391\"/><text class=\"node-value\" dy=\".35em\" text-anchor=\"middle\" transform=\"translate(0.5,28.804347826086953) rotate(-90)\" style=\"display: none;\"/><text class=\"node-title\" dy=\".35em\" text-anchor=\"start\" transform=\"translate(5,28.804347826086953)\" style=\"display: inline;\">Fred</text><rect class=\"node-click-target\" x=\"-5\" y=\"-5\" width=\"10\" height=\"62.60869565217391\" style=\"fill: none; visibility: hidden; pointer-events: all;\"/></g><g class=\"node\" transform=\"translate(309,186.65217391304347)\"><title>Susan</title><line x1=\"0\" x2=\"0\" y1=\"0\" y2=\"51.84782608695653\" style=\"display: inline;\"/><rect class=\"node-body\" width=\"1\" height=\"51.84782608695653\"/><text class=\"node-value\" dy=\".35em\" text-anchor=\"middle\" transform=\"translate(0.5,25.923913043478265) rotate(-90)\" style=\"display: none;\"/><text class=\"node-title\" dy=\".35em\" text-anchor=\"start\" transform=\"translate(5,25.923913043478265)\" style=\"display: inline;\">Susan</text><rect class=\"node-click-target\" x=\"-5\" y=\"-5\" width=\"10\" height=\"56.84782608695653\" style=\"fill: none; visibility: hidden; pointer-events: all;\"/></g></g><g class=\"slice-titles\"/></g></svg>",
            "_view_module_version": "^0.4.1",
            "order": [
              [
                [
                  "farms^farm1",
                  "farms^farm2",
                  "farms^farm3",
                  "farms^other"
                ]
              ],
              [
                [
                  "customers^James",
                  "customers^Mary",
                  "customers^Fred",
                  "customers^Susan"
                ]
              ]
            ]
          }
        },
        "ab12d4e6cbcc42f69111b456893a64de": {
          "model_module": "@jupyter-widgets/base",
          "model_name": "LayoutModel",
          "model_module_version": "1.2.0",
          "state": {
            "_view_name": "LayoutView",
            "grid_template_rows": null,
            "right": null,
            "justify_content": null,
            "_view_module": "@jupyter-widgets/base",
            "overflow": null,
            "_model_module_version": "1.2.0",
            "_view_count": null,
            "flex_flow": null,
            "width": "570",
            "min_width": null,
            "border": null,
            "align_items": null,
            "bottom": null,
            "_model_module": "@jupyter-widgets/base",
            "top": null,
            "grid_column": null,
            "overflow_y": null,
            "overflow_x": null,
            "grid_auto_flow": null,
            "grid_area": null,
            "grid_template_columns": null,
            "flex": null,
            "_model_name": "LayoutModel",
            "justify_items": null,
            "grid_row": null,
            "max_height": null,
            "align_content": null,
            "visibility": null,
            "align_self": null,
            "height": "300",
            "min_height": null,
            "padding": null,
            "grid_auto_rows": null,
            "grid_gap": null,
            "max_width": null,
            "order": null,
            "_view_module_version": "1.2.0",
            "grid_template_areas": null,
            "object_position": null,
            "object_fit": null,
            "grid_auto_columns": null,
            "margin": null,
            "display": null,
            "left": null
          }
        },
        "1685176f45bb4656aafa9ab39c681aff": {
          "model_module": "jupyter-sankey-widget",
          "model_name": "SankeyModel",
          "model_module_version": "^0.4.1",
          "state": {
            "_view_name": "SankeyView",
            "links": [
              {
                "opacity": 1,
                "target": "customers^James",
                "title": "apples",
                "color": "yellowgreen",
                "value": 3,
                "source": "farms^farm1",
                "time": "*",
                "type": "apples"
              },
              {
                "opacity": 1,
                "target": "customers^Mary",
                "title": "apples",
                "color": "yellowgreen",
                "value": 5,
                "source": "farms^farm1",
                "time": "*",
                "type": "apples"
              },
              {
                "opacity": 1,
                "target": "customers^Fred",
                "title": "apples",
                "color": "yellowgreen",
                "value": 10,
                "source": "farms^farm2",
                "time": "*",
                "type": "apples"
              },
              {
                "opacity": 1,
                "target": "customers^Fred",
                "title": "bananas",
                "color": "gold",
                "value": 10,
                "source": "farms^farm2",
                "time": "*",
                "type": "bananas"
              },
              {
                "opacity": 1,
                "target": "customers^Susan",
                "title": "bananas",
                "color": "gold",
                "value": 5,
                "source": "farms^farm2",
                "time": "*",
                "type": "bananas"
              },
              {
                "opacity": 1,
                "target": "customers^Susan",
                "title": "apples",
                "color": "yellowgreen",
                "value": 10,
                "source": "farms^farm3",
                "time": "*",
                "type": "apples"
              },
              {
                "opacity": 1,
                "target": "customers^Susan",
                "title": "bananas",
                "color": "gold",
                "value": 3,
                "source": "farms^other",
                "time": "*",
                "type": "bananas"
              }
            ],
            "_view_module": "jupyter-sankey-widget",
            "_model_module_version": "^0.4.1",
            "_view_count": null,
            "linkLabelFormat": "",
            "margins": {
              "top": 25,
              "left": 130,
              "right": 130,
              "bottom": 10
            },
            "_model_module": "jupyter-sankey-widget",
            "scale": 2.880434782608696,
            "layout": "IPY_MODEL_9fc568bfa3474b6abf83953c9e7b5262",
            "linkLabelMinWidth": 5,
            "nodes": [
              {
                "direction": "r",
                "hidden": false,
                "type": "process",
                "id": "farms^farm1",
                "title": "farm1"
              },
              {
                "direction": "r",
                "hidden": false,
                "type": "process",
                "id": "farms^farm2",
                "title": "farm2"
              },
              {
                "direction": "r",
                "hidden": false,
                "type": "process",
                "id": "farms^farm3",
                "title": "farm3"
              },
              {
                "direction": "r",
                "hidden": false,
                "type": "process",
                "id": "farms^other",
                "title": "other"
              },
              {
                "direction": "r",
                "hidden": false,
                "type": "process",
                "id": "customers^James",
                "title": "James"
              },
              {
                "direction": "r",
                "hidden": false,
                "type": "process",
                "id": "customers^Mary",
                "title": "Mary"
              },
              {
                "direction": "r",
                "hidden": false,
                "type": "process",
                "id": "customers^Fred",
                "title": "Fred"
              },
              {
                "direction": "r",
                "hidden": false,
                "type": "process",
                "id": "customers^Susan",
                "title": "Susan"
              }
            ],
            "rank_sets": [],
            "_dom_classes": [],
            "_model_name": "SankeyModel",
            "groups": [
              {
                "nodes": [
                  "farms^farm1",
                  "farms^farm2",
                  "farms^farm3",
                  "farms^other"
                ],
                "type": "process",
                "id": "farms",
                "title": ""
              },
              {
                "nodes": [
                  "customers^James",
                  "customers^Mary",
                  "customers^Fred",
                  "customers^Susan"
                ],
                "type": "process",
                "id": "customers",
                "title": ""
              }
            ],
            "png": "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",
            "show_link_info_html": false,
            "align_link_types": false,
            "svg": "<?xml version=\"1.0\" standalone=\"no\"?><!DOCTYPE svg PUBLIC \"-//W3C//DTD SVG 1.1//EN\" \"http://www.w3.org/Graphics/SVG/1.1/DTD/svg11.dtd\"><svg xmlns=\"http://www.w3.org/2000/svg\"><g class=\"sankey\" transform=\"translate(130,25)\"><g class=\"groups\"><g class=\"group\" transform=\"translate(0,26.5)\" style=\"display: none;\"><rect x=\"-10\" y=\"-20\" width=\"21\" height=\"241.99999999999997\"/><text x=\"-10\" y=\"-25\"/></g><g class=\"group\" transform=\"translate(309,26.5)\" style=\"display: none;\"><rect x=\"-10\" y=\"-20\" width=\"21\" height=\"242\"/><text x=\"-10\" y=\"-25\"/></g></g><g class=\"links\"><g class=\"link\"><path d=\"M1,26.5 A0 0 0 0 0 1,26.5 L309,26.5 A0 0 0 0 0 309,26.5 L309,35.141304347826086 A0 0 0 0 0 309,35.141304347826086 L1,35.141304347826086 A0 0 0 0 0 1,35.141304347826086 Z\" style=\"fill: white;\"/><title/><text class=\"label\" dy=\"0.35em\" x=\"5\" y=\"30.820652173913043\"/></g><g class=\"link\"><path d=\"M1,229.85869565217388 A0 0 0 0 1 1,229.85869565217388 L309,229.8586956521739 A0 0 0 0 0 309,229.8586956521739 L309,238.49999999999997 A0 0 0 0 1 309,238.49999999999997 L1,238.49999999999994 A0 0 0 0 0 1,238.49999999999994 Z\" style=\"fill: white;\"/><title/><text class=\"label\" dy=\"0.35em\" x=\"5\" y=\"234.1793478260869\"/></g><g class=\"link\"><path d=\"M1,35.141304347826086 A548.1421246923708 548.1421246923708 0.10516279089720904 0 1 58.53796454885263,38.16952213830768 L252.9738181343341,58.692651541133266 A533.7399507793273 533.7399507793273 0.10516279089720904 0 0 309,61.641304347826086 L309,76.04347826086956 A548.1421246923708 548.1421246923708 0.10516279089720904 0 1 251.4620354511474,73.01526047038797 L57.026181865665905,52.49213106756239 A533.7399507793273 533.7399507793273 0.10516279089720904 0 0 1,49.54347826086957 Z\" style=\"fill: white;\"/><title/><text class=\"label\" dy=\"0.35em\" x=\"5\" y=\"42.34239130434783\"/></g><g class=\"link\"><path d=\"M1,133.65217391304347 A283.63410582444624 283.63410582444624 0.20886468334819597 0 1 59.811359096658734,139.8164074485563 L253.17492289263342,180.80094350936847 A269.23193191140274 269.23193191140274 0.20886468334819597 0 0 309,186.65217391304347 L309,201.05434782608697 A283.63410582444624 283.63410582444624 0.20886468334819597 0 1 250.18864090334128,194.89011429057413 L56.82507710736657,153.90557822976197 A269.23193191140274 269.23193191140274 0.20886468334819597 0 0 1,148.05434782608697 Z\" style=\"fill: white;\"/><title/><text class=\"label\" dy=\"0.35em\" x=\"5\" y=\"140.85326086956522\"/></g><g class=\"link\"><path d=\"M1,76.04347826086956 A584.1475594749795 584.1475594749795 0.10599145353423078 0 1 62.79878720373124,79.3216194147236 L253.2958158908927,99.58862774304419 A526.5388638228055 526.5388638228055 0.10599145353423078 0 0 309,102.54347826086956 L309,131.34782608695653 A555.3432116488925 555.3432116488925 0.10599145353423078 0 1 250.24851434358072,128.23133025111682 L59.75148565641928,107.96432192279623 A555.3432116488925 555.3432116488925 0.10599145353423078 0 0 1,104.84782608695653 Z\" style=\"fill: white;\"/><title/><text class=\"label\" dy=\"0.35em\" x=\"5\" y=\"90.44565217391305\"/></g><g class=\"link\"><path d=\"M1,104.84782608695652 A555.3432116488925 555.3432116488925 0.10599145353423078 0 1 59.75148565641928,107.96432192279623 L250.24851434358072,128.2313302511168 A555.3432116488925 555.3432116488925 0.10599145353423078 0 0 309,131.34782608695653 L309,160.15217391304347 A584.1475594749795 584.1475594749795 0.10599145353423078 0 1 247.20121279626875,156.87403275918945 L56.70418410910732,136.60702443086888 A526.5388638228055 526.5388638228055 0.10599145353423078 0 0 1,133.65217391304347 Z\" style=\"fill: white;\"/><title/><text class=\"label\" dy=\"0.35em\" x=\"5\" y=\"119.25\"/></g><g class=\"link\"><path d=\"M1,174.55434782608694 A555.3432116488925 555.3432116488925 0.10516279089720904 0 1 59.293855890446,177.62234810846292 L253.72970947592748,198.1454775112885 A526.5388638228055 526.5388638228055 0.10516279089720904 0 0 309,201.05434782608694 L309,229.85869565217388 A555.3432116488925 555.3432116488925 0.10516279089720904 0 1 250.706144109554,226.7906953697979 L56.270290524072536,206.2675659669723 A526.5388638228055 526.5388638228055 0.10516279089720904 0 0 1,203.35869565217388 Z\" style=\"fill: white;\"/><title/><text class=\"label\" dy=\"0.35em\" x=\"5\" y=\"188.9565217391304\"/></g></g><g class=\"nodes\"><g class=\"node\" transform=\"translate(0,26.5)\"><title>farm1</title><line x1=\"0\" x2=\"0\" y1=\"0\" y2=\"23.043478260869563\" style=\"display: inline;\"/><rect class=\"node-body\" width=\"1\" height=\"23.043478260869563\"/><text class=\"node-value\" dy=\".35em\" text-anchor=\"middle\" transform=\"translate(0.5,11.521739130434781) rotate(-90)\" style=\"display: none;\"/><text class=\"node-title\" dy=\".35em\" text-anchor=\"end\" transform=\"translate(-4,11.521739130434781)\" style=\"display: inline;\">farm1</text><rect class=\"node-click-target\" x=\"-5\" y=\"-5\" width=\"10\" height=\"28.043478260869563\" style=\"fill: none; visibility: hidden; pointer-events: all;\"/></g><g class=\"node\" transform=\"translate(0,76.04347826086956)\"><title>farm2</title><line x1=\"0\" x2=\"0\" y1=\"0\" y2=\"72.01086956521738\" style=\"display: inline;\"/><rect class=\"node-body\" width=\"1\" height=\"72.01086956521738\"/><text class=\"node-value\" dy=\".35em\" text-anchor=\"middle\" transform=\"translate(0.5,36.00543478260869) rotate(-90)\" style=\"display: none;\"/><text class=\"node-title\" dy=\".35em\" text-anchor=\"end\" transform=\"translate(-4,36.00543478260869)\" style=\"display: inline;\">farm2</text><rect class=\"node-click-target\" x=\"-5\" y=\"-5\" width=\"10\" height=\"77.01086956521738\" style=\"fill: none; visibility: hidden; pointer-events: all;\"/></g><g class=\"node\" transform=\"translate(0,174.55434782608694)\"><title>farm3</title><line x1=\"0\" x2=\"0\" y1=\"0\" y2=\"28.804347826086968\" style=\"display: inline;\"/><rect class=\"node-body\" width=\"1\" height=\"28.804347826086968\"/><text class=\"node-value\" dy=\".35em\" text-anchor=\"middle\" transform=\"translate(0.5,14.402173913043484) rotate(-90)\" style=\"display: none;\"/><text class=\"node-title\" dy=\".35em\" text-anchor=\"end\" transform=\"translate(-4,14.402173913043484)\" style=\"display: inline;\">farm3</text><rect class=\"node-click-target\" x=\"-5\" y=\"-5\" width=\"10\" height=\"33.80434782608697\" style=\"fill: none; visibility: hidden; pointer-events: all;\"/></g><g class=\"node\" transform=\"translate(0,229.85869565217388)\"><title>other</title><line x1=\"0\" x2=\"0\" y1=\"0\" y2=\"8.641304347826093\" style=\"display: inline;\"/><rect class=\"node-body\" width=\"1\" height=\"8.641304347826093\"/><text class=\"node-value\" dy=\".35em\" text-anchor=\"middle\" transform=\"translate(0.5,4.320652173913047) rotate(-90)\" style=\"display: none;\"/><text class=\"node-title\" dy=\".35em\" text-anchor=\"end\" transform=\"translate(-4,4.320652173913047)\" style=\"display: inline;\">other</text><rect class=\"node-click-target\" x=\"-5\" y=\"-5\" width=\"10\" height=\"13.641304347826093\" style=\"fill: none; visibility: hidden; pointer-events: all;\"/></g><g class=\"node\" transform=\"translate(309,26.5)\"><title>James</title><line x1=\"0\" x2=\"0\" y1=\"0\" y2=\"8.641304347826086\" style=\"display: inline;\"/><rect class=\"node-body\" width=\"1\" height=\"8.641304347826086\"/><text class=\"node-value\" dy=\".35em\" text-anchor=\"middle\" transform=\"translate(0.5,4.320652173913043) rotate(-90)\" style=\"display: none;\"/><text class=\"node-title\" dy=\".35em\" text-anchor=\"start\" transform=\"translate(5,4.320652173913043)\" style=\"display: inline;\">James</text><rect class=\"node-click-target\" x=\"-5\" y=\"-5\" width=\"10\" height=\"13.641304347826086\" style=\"fill: none; visibility: hidden; pointer-events: all;\"/></g><g class=\"node\" transform=\"translate(309,61.641304347826086)\"><title>Mary</title><line x1=\"0\" x2=\"0\" y1=\"0\" y2=\"14.402173913043477\" style=\"display: inline;\"/><rect class=\"node-body\" width=\"1\" height=\"14.402173913043477\"/><text class=\"node-value\" dy=\".35em\" text-anchor=\"middle\" transform=\"translate(0.5,7.201086956521738) rotate(-90)\" style=\"display: none;\"/><text class=\"node-title\" dy=\".35em\" text-anchor=\"start\" transform=\"translate(5,7.201086956521738)\" style=\"display: inline;\">Mary</text><rect class=\"node-click-target\" x=\"-5\" y=\"-5\" width=\"10\" height=\"19.402173913043477\" style=\"fill: none; visibility: hidden; pointer-events: all;\"/></g><g class=\"node\" transform=\"translate(309,102.54347826086956)\"><title>Fred</title><line x1=\"0\" x2=\"0\" y1=\"0\" y2=\"57.60869565217391\" style=\"display: inline;\"/><rect class=\"node-body\" width=\"1\" height=\"57.60869565217391\"/><text class=\"node-value\" dy=\".35em\" text-anchor=\"middle\" transform=\"translate(0.5,28.804347826086953) rotate(-90)\" style=\"display: none;\"/><text class=\"node-title\" dy=\".35em\" text-anchor=\"start\" transform=\"translate(5,28.804347826086953)\" style=\"display: inline;\">Fred</text><rect class=\"node-click-target\" x=\"-5\" y=\"-5\" width=\"10\" height=\"62.60869565217391\" style=\"fill: none; visibility: hidden; pointer-events: all;\"/></g><g class=\"node\" transform=\"translate(309,186.65217391304347)\"><title>Susan</title><line x1=\"0\" x2=\"0\" y1=\"0\" y2=\"51.84782608695653\" style=\"display: inline;\"/><rect class=\"node-body\" width=\"1\" height=\"51.84782608695653\"/><text class=\"node-value\" dy=\".35em\" text-anchor=\"middle\" transform=\"translate(0.5,25.923913043478265) rotate(-90)\" style=\"display: none;\"/><text class=\"node-title\" dy=\".35em\" text-anchor=\"start\" transform=\"translate(5,25.923913043478265)\" style=\"display: inline;\">Susan</text><rect class=\"node-click-target\" x=\"-5\" y=\"-5\" width=\"10\" height=\"56.84782608695653\" style=\"fill: none; visibility: hidden; pointer-events: all;\"/></g></g><g class=\"slice-titles\"/></g></svg>",
            "_view_module_version": "^0.4.1",
            "order": [
              [
                [
                  "farms^farm1",
                  "farms^farm2",
                  "farms^farm3",
                  "farms^other"
                ]
              ],
              [
                [
                  "customers^James",
                  "customers^Mary",
                  "customers^Fred",
                  "customers^Susan"
                ]
              ]
            ]
          }
        },
        "9fc568bfa3474b6abf83953c9e7b5262": {
          "model_module": "@jupyter-widgets/base",
          "model_name": "LayoutModel",
          "model_module_version": "1.2.0",
          "state": {
            "_view_name": "LayoutView",
            "grid_template_rows": null,
            "right": null,
            "justify_content": null,
            "_view_module": "@jupyter-widgets/base",
            "overflow": null,
            "_model_module_version": "1.2.0",
            "_view_count": null,
            "flex_flow": null,
            "width": "570",
            "min_width": null,
            "border": null,
            "align_items": null,
            "bottom": null,
            "_model_module": "@jupyter-widgets/base",
            "top": null,
            "grid_column": null,
            "overflow_y": null,
            "overflow_x": null,
            "grid_auto_flow": null,
            "grid_area": null,
            "grid_template_columns": null,
            "flex": null,
            "_model_name": "LayoutModel",
            "justify_items": null,
            "grid_row": null,
            "max_height": null,
            "align_content": null,
            "visibility": null,
            "align_self": null,
            "height": "300",
            "min_height": null,
            "padding": null,
            "grid_auto_rows": null,
            "grid_gap": null,
            "max_width": null,
            "order": null,
            "_view_module_version": "1.2.0",
            "grid_template_areas": null,
            "object_position": null,
            "object_fit": null,
            "grid_auto_columns": null,
            "margin": null,
            "display": null,
            "left": null
          }
        },
        "6043a2a6bdd14441a10c9283543aa049": {
          "model_module": "jupyter-sankey-widget",
          "model_name": "SankeyModel",
          "model_module_version": "^0.4.1",
          "state": {
            "_view_name": "SankeyView",
            "links": [
              {
                "opacity": 1,
                "target": "waypoint^*",
                "title": "apples",
                "color": "yellowgreen",
                "value": 8,
                "source": "farms^farm1",
                "time": "*",
                "type": "apples"
              },
              {
                "opacity": 1,
                "target": "waypoint^*",
                "title": "apples",
                "color": "yellowgreen",
                "value": 10,
                "source": "farms^farm2",
                "time": "*",
                "type": "apples"
              },
              {
                "opacity": 1,
                "target": "waypoint^*",
                "title": "bananas",
                "color": "gold",
                "value": 15,
                "source": "farms^farm2",
                "time": "*",
                "type": "bananas"
              },
              {
                "opacity": 1,
                "target": "waypoint^*",
                "title": "apples",
                "color": "yellowgreen",
                "value": 10,
                "source": "farms^farm3",
                "time": "*",
                "type": "apples"
              },
              {
                "opacity": 1,
                "target": "waypoint^*",
                "title": "bananas",
                "color": "gold",
                "value": 3,
                "source": "farms^other",
                "time": "*",
                "type": "bananas"
              },
              {
                "opacity": 1,
                "target": "customers^Fred",
                "title": "apples",
                "color": "yellowgreen",
                "value": 10,
                "source": "waypoint^*",
                "time": "*",
                "type": "apples"
              },
              {
                "opacity": 1,
                "target": "customers^Fred",
                "title": "bananas",
                "color": "gold",
                "value": 10,
                "source": "waypoint^*",
                "time": "*",
                "type": "bananas"
              },
              {
                "opacity": 1,
                "target": "customers^James",
                "title": "apples",
                "color": "yellowgreen",
                "value": 3,
                "source": "waypoint^*",
                "time": "*",
                "type": "apples"
              },
              {
                "opacity": 1,
                "target": "customers^Mary",
                "title": "apples",
                "color": "yellowgreen",
                "value": 5,
                "source": "waypoint^*",
                "time": "*",
                "type": "apples"
              },
              {
                "opacity": 1,
                "target": "customers^Susan",
                "title": "apples",
                "color": "yellowgreen",
                "value": 10,
                "source": "waypoint^*",
                "time": "*",
                "type": "apples"
              },
              {
                "opacity": 1,
                "target": "customers^Susan",
                "title": "bananas",
                "color": "gold",
                "value": 8,
                "source": "waypoint^*",
                "time": "*",
                "type": "bananas"
              }
            ],
            "_view_module": "jupyter-sankey-widget",
            "_model_module_version": "^0.4.1",
            "_view_count": null,
            "linkLabelFormat": "",
            "margins": {
              "top": 25,
              "left": 130,
              "right": 130,
              "bottom": 10
            },
            "_model_module": "jupyter-sankey-widget",
            "scale": 2.880434782608696,
            "layout": "IPY_MODEL_9276dd188a8242a08b187a0492d4c8ff",
            "linkLabelMinWidth": 5,
            "nodes": [
              {
                "direction": "r",
                "hidden": false,
                "type": "process",
                "id": "farms^farm1",
                "title": "farm1"
              },
              {
                "direction": "r",
                "hidden": false,
                "type": "process",
                "id": "farms^farm2",
                "title": "farm2"
              },
              {
                "direction": "r",
                "hidden": false,
                "type": "process",
                "id": "farms^farm3",
                "title": "farm3"
              },
              {
                "direction": "r",
                "hidden": false,
                "type": "process",
                "id": "farms^other",
                "title": "other"
              },
              {
                "direction": "r",
                "hidden": false,
                "type": "group",
                "id": "waypoint^*",
                "title": "waypoint"
              },
              {
                "direction": "r",
                "hidden": false,
                "type": "process",
                "id": "customers^James",
                "title": "James"
              },
              {
                "direction": "r",
                "hidden": false,
                "type": "process",
                "id": "customers^Mary",
                "title": "Mary"
              },
              {
                "direction": "r",
                "hidden": false,
                "type": "process",
                "id": "customers^Fred",
                "title": "Fred"
              },
              {
                "direction": "r",
                "hidden": false,
                "type": "process",
                "id": "customers^Susan",
                "title": "Susan"
              }
            ],
            "rank_sets": [],
            "_dom_classes": [],
            "_model_name": "SankeyModel",
            "groups": [
              {
                "nodes": [
                  "farms^farm1",
                  "farms^farm2",
                  "farms^farm3",
                  "farms^other"
                ],
                "type": "process",
                "id": "farms",
                "title": ""
              },
              {
                "nodes": [
                  "customers^James",
                  "customers^Mary",
                  "customers^Fred",
                  "customers^Susan"
                ],
                "type": "process",
                "id": "customers",
                "title": ""
              }
            ],
            "png": "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",
            "show_link_info_html": false,
            "align_link_types": false,
            "svg": "<?xml version=\"1.0\" standalone=\"no\"?><!DOCTYPE svg PUBLIC \"-//W3C//DTD SVG 1.1//EN\" \"http://www.w3.org/Graphics/SVG/1.1/DTD/svg11.dtd\"><svg xmlns=\"http://www.w3.org/2000/svg\" width=\"570\" height=\"300\" viewBox=\"0 0 570 300\" style=\"font-family: &quot;Helvetica Neue&quot;, Helvetica, Arial, sans-serif;\"><g class=\"sankey\" transform=\"translate(130,25)\"><g class=\"groups\"><g class=\"group\" transform=\"translate(0,26.5)\" style=\"display: none;\"><rect x=\"-10\" y=\"-20\" width=\"21\" height=\"241.99999999999997\" style=\"fill: rgb(238, 238, 238); stroke: rgb(187, 187, 187); stroke-width: 0.5;\"/><text x=\"-10\" y=\"-25\" style=\"fill: rgb(153, 153, 153);\"/></g><g class=\"group\" transform=\"translate(309,26.5)\" style=\"display: none;\"><rect x=\"-10\" y=\"-20\" width=\"21\" height=\"242\" style=\"fill: rgb(238, 238, 238); stroke: rgb(187, 187, 187); stroke-width: 0.5;\"/><text x=\"-10\" y=\"-25\" style=\"fill: rgb(153, 153, 153);\"/></g></g><g class=\"links\"><g class=\"link\" style=\"opacity: 0.8;\"><path d=\"M1,229.85869565217388 A90.55599876948322 90.55599876948322 0.3107336164759398 0 0 28.688148797930932,225.52192518637173 L124.1697101640151,194.85930235180805 A99.19730311730932 99.19730311730932 0.3107336164759398 0 1 154.5,190.1086956521739 L154.5,198.74999999999997 A90.55599876948322 90.55599876948322 0.3107336164759398 0 0 126.81185120206908,203.08677046580212 L31.330289835984896,233.7493933003658 A99.19730311730932 99.19730311730932 0.3107336164759398 0 1 1,238.49999999999994 Z\" style=\"fill: rgb(255, 215, 0);\"/><title>other → waypoint\nbananas\n3.00</title><text class=\"label\" dy=\"0.35em\" x=\"5\" y=\"234.1793478260869\"/></g><g class=\"link\" style=\"opacity: 0.8;\"><path d=\"M155.5,66.25 A90.55599876948318 90.55599876948318 0.31073361647594 0 0 183.18814879793092,61.91322953419788 L278.6697101640151,31.250606699634144 A99.19730311730927 99.19730311730927 0.31073361647594 0 1 309,26.5 L309,35.141304347826086 A90.55599876948318 90.55599876948318 0.31073361647594 0 0 281.3118512020691,39.47807481362821 L185.8302898359849,70.14069764819195 A99.19730311730927 99.19730311730927 0.31073361647594 0 1 155.5,74.8913043478261 Z\" style=\"fill: rgb(154, 205, 50);\"/><title>waypoint → James\napples\n3.00</title><text class=\"label\" dy=\"0.35em\" x=\"159.5\" y=\"70.57065217391305\"/></g><g class=\"link\" style=\"opacity: 0.8;\"><path d=\"M155.5,74.8913043478261 A261.5288658736669 261.5288658736669 0.10550372623542836 0 0 183.0411099232419,73.43711034622434 L279.94222439800893,63.175579585754875 A275.9310397867104 275.9310397867104 0.10550372623542836 0 1 309,61.641304347826086 L309,76.04347826086956 A261.5288658736669 261.5288658736669 0.10550372623542836 0 0 281.4588900767581,77.49767226247131 L184.557775601991,87.75920302294078 A275.9310397867104 275.9310397867104 0.10550372623542836 0 1 155.5,89.29347826086956 Z\" style=\"fill: rgb(154, 205, 50);\"/><title>waypoint → Mary\napples\n5.00</title><text class=\"label\" dy=\"0.35em\" x=\"159.5\" y=\"82.09239130434783\"/></g><g class=\"link\" style=\"opacity: 0.8;\"><path d=\"M1,26.5 A106.39839007383101 106.39839007383101 0.31073361647594 0 1 33.53207403436321,31.595470227827487 L129.01363540044738,62.258093062391225 A83.35491181296145 83.35491181296145 0.31073361647594 0 0 154.5,66.25 L154.5,89.29347826086956 A106.39839007383101 106.39839007383101 0.31073361647594 0 1 121.9679259656368,84.19800803304207 L26.486364599552626,53.53538519847834 A83.35491181296145 83.35491181296145 0.31073361647594 0 0 1,49.54347826086956 Z\" style=\"fill: rgb(154, 205, 50);\"/><title>farm1 → waypoint\napples\n8.00</title><text class=\"label\" dy=\"0.35em\" x=\"5\" y=\"38.02173913043478\"/></g><g class=\"link\" style=\"opacity: 0.8;\"><path d=\"M155.5,175.70652173913047 A106.39839007383105 106.39839007383105 0.3243930180019181 0 1 189.41273340545118,181.25579717493454 L274.16917547675456,209.75701540253476 A109.27882485643975 109.27882485643975 0.3243930180019181 0 0 309,215.45652173913044 L309,238.5 A132.32230311730933 132.32230311730933 0.3243930180019181 0 1 266.8244465344001,231.59864645707165 L182.0680044630968,203.09742822947143 A83.35491181296149 83.35491181296149 0.3243930180019181 0 0 155.5,198.75000000000003 Z\" style=\"fill: rgb(255, 215, 0);\"/><title>waypoint → Susan\nbananas\n8.00</title><text class=\"label\" dy=\"0.35em\" x=\"159.5\" y=\"187.22826086956525\"/></g><g class=\"link\" style=\"opacity: 0.8;\"><path d=\"M1,76.04347826086956 A319.1375615258406 319.1375615258406 0.10765565203673644 0 1 35.29063601570423,77.89105340469686 L127.17303399250866,87.82110477883407 A254.32777891714514 254.32777891714514 0.10765565203673644 0 0 154.5,89.29347826086956 L154.5,118.09782608695653 A283.1321267432321 283.1321267432321 0.10765565203673644 0 1 124.07806954441403,116.45869631079134 L32.1956715676096,106.52864493665413 A290.3332136997536 290.3332136997536 0.10765565203673644 0 0 1,104.84782608695653 Z\" style=\"fill: rgb(154, 205, 50);\"/><title>farm2 → waypoint\napples\n10.0</title><text class=\"label\" dy=\"0.35em\" x=\"5\" y=\"90.44565217391305\"/></g><g class=\"link\" style=\"opacity: 0.8;\"><path d=\"M1,174.55434782608694 A254.3277789171452 254.3277789171452 0.10550372623542836 0 0 27.78277708386732,173.1401944426487 L124.68389155863441,162.87866368217925 A283.13212674323216 283.13212674323216 0.10550372623542836 0 1 154.5,161.30434782608694 L154.5,190.10869565217388 A254.3277789171452 254.3277789171452 0.10550372623542836 0 0 127.71722291613268,191.52284903561213 L30.816108441365596,201.78437979608157 A283.13212674323216 283.13212674323216 0.10550372623542836 0 1 1,203.35869565217388 Z\" style=\"fill: rgb(154, 205, 50);\"/><title>farm3 → waypoint\napples\n10.0</title><text class=\"label\" dy=\"0.35em\" x=\"5\" y=\"188.9565217391304\"/></g><g class=\"link\" style=\"opacity: 0.8;\"><path d=\"M155.5,89.29347826086958 A311.93647456931916 311.93647456931916 0.10720890838362362 0 1 188.87834269159205,91.08442181950636 L281.78599826324097,101.08328769462388 A254.32777891714548 254.32777891714548 0.10720890838362362 0 0 309,102.54347826086956 L309,131.34782608695653 A283.13212674323245 283.13212674323245 0.10720890838362362 0 1 278.70382778582444,129.7222590245153 L185.79617221417553,119.72339314939777 A283.13212674323216 283.13212674323216 0.10720890838362362 0 0 155.5,118.09782608695654 Z\" style=\"fill: rgb(154, 205, 50);\"/><title>waypoint → Fred\napples\n10.0</title><text class=\"label\" dy=\"0.35em\" x=\"159.5\" y=\"103.69565217391306\"/></g><g class=\"link\" style=\"opacity: 0.8;\"><path d=\"M155.5,118.09782608695652 A283.13212674323216 283.13212674323216 0.10720890838362362 0 1 185.79617221417553,119.72339314939775 L278.70382778582444,129.72225902451527 A283.13212674323245 283.13212674323245 0.10720890838362362 0 0 309,131.34782608695653 L309,160.15217391304347 A311.93647456931944 311.93647456931944 0.10720890838362362 0 1 275.6216573084079,158.3612303544067 L182.714001736759,148.36236447928917 A254.3277789171452 254.3277789171452 0.10720890838362362 0 0 155.5,146.90217391304347 Z\" style=\"fill: rgb(255, 215, 0);\"/><title>waypoint → Fred\nbananas\n10.0</title><text class=\"label\" dy=\"0.35em\" x=\"159.5\" y=\"132.5\"/></g><g class=\"link\" style=\"opacity: 0.8;\"><path d=\"M155.5,146.9021739130435 A135.20273789991802 135.20273789991802 0.3243930180019181 0 1 198.5936445833942,153.95375835676342 L283.3500866546975,182.45497658436364 A80.47447703035279 80.47447703035279 0.3243930180019181 0 0 309,186.65217391304347 L309,215.4565217391304 A109.27882485643975 109.27882485643975 0.3243930180019181 0 1 274.1691754767545,209.75701540253476 L189.41273340545118,181.25579717493454 A106.39839007383105 106.39839007383105 0.3243930180019181 0 0 155.5,175.70652173913044 Z\" style=\"fill: rgb(154, 205, 50);\"/><title>waypoint → Susan\napples\n10.0</title><text class=\"label\" dy=\"0.35em\" x=\"159.5\" y=\"161.30434782608697\"/></g><g class=\"link\" style=\"opacity: 0.8;\"><path d=\"M1,104.84782608695652 A290.3332136997536 290.3332136997536 0.10765565203673644 0 1 32.195671567609594,106.5286449366541 L124.07806954441403,116.45869631079134 A283.1321267432321 283.1321267432321 0.10765565203673644 0 0 154.5,118.09782608695653 L154.5,161.30434782608697 A326.3386484823626 326.3386484823626 0.10765565203673644 0 1 119.43562287227209,159.41508360872726 L27.55322489546765,149.48503223459002 A247.12669196062316 247.12669196062316 0.10765565203673644 0 0 1,148.05434782608694 Z\" style=\"fill: rgb(255, 215, 0);\"/><title>farm2 → waypoint\nbananas\n15.0</title><text class=\"label\" dy=\"0.35em\" x=\"5\" y=\"126.45108695652173\"/></g></g><g class=\"nodes\"><g class=\"node\" transform=\"translate(0,26.5)\"><title>farm1</title><line x1=\"0\" x2=\"0\" y1=\"0\" y2=\"23.043478260869563\" style=\"display: inline; stroke: rgb(0, 0, 0);\"/><rect class=\"node-body\" width=\"1\" height=\"23.043478260869563\" style=\"fill: none;\"/><text class=\"node-value\" dy=\".35em\" text-anchor=\"middle\" transform=\"translate(0.5,11.521739130434781) rotate(-90)\" style=\"display: none;\"/><text class=\"node-title\" dy=\".35em\" text-anchor=\"end\" transform=\"translate(-4,11.521739130434781)\" style=\"display: inline;\">farm1</text><rect class=\"node-click-target\" x=\"-5\" y=\"-5\" width=\"10\" height=\"28.043478260869563\" style=\"fill: none; visibility: hidden; pointer-events: all;\"/></g><g class=\"node\" transform=\"translate(0,76.04347826086956)\"><title>farm2</title><line x1=\"0\" x2=\"0\" y1=\"0\" y2=\"72.01086956521738\" style=\"display: inline; stroke: rgb(0, 0, 0);\"/><rect class=\"node-body\" width=\"1\" height=\"72.01086956521738\" style=\"fill: none;\"/><text class=\"node-value\" dy=\".35em\" text-anchor=\"middle\" transform=\"translate(0.5,36.00543478260869) rotate(-90)\" style=\"display: none;\"/><text class=\"node-title\" dy=\".35em\" text-anchor=\"end\" transform=\"translate(-4,36.00543478260869)\" style=\"display: inline;\">farm2</text><rect class=\"node-click-target\" x=\"-5\" y=\"-5\" width=\"10\" height=\"77.01086956521738\" style=\"fill: none; visibility: hidden; pointer-events: all;\"/></g><g class=\"node\" transform=\"translate(0,174.55434782608694)\"><title>farm3</title><line x1=\"0\" x2=\"0\" y1=\"0\" y2=\"28.804347826086968\" style=\"display: inline; stroke: rgb(0, 0, 0);\"/><rect class=\"node-body\" width=\"1\" height=\"28.804347826086968\" style=\"fill: none;\"/><text class=\"node-value\" dy=\".35em\" text-anchor=\"middle\" transform=\"translate(0.5,14.402173913043484) rotate(-90)\" style=\"display: none;\"/><text class=\"node-title\" dy=\".35em\" text-anchor=\"end\" transform=\"translate(-4,14.402173913043484)\" style=\"display: inline;\">farm3</text><rect class=\"node-click-target\" x=\"-5\" y=\"-5\" width=\"10\" height=\"33.80434782608697\" style=\"fill: none; visibility: hidden; pointer-events: all;\"/></g><g class=\"node\" transform=\"translate(0,229.85869565217388)\"><title>other</title><line x1=\"0\" x2=\"0\" y1=\"0\" y2=\"8.641304347826093\" style=\"display: inline; stroke: rgb(0, 0, 0);\"/><rect class=\"node-body\" width=\"1\" height=\"8.641304347826093\" style=\"fill: none;\"/><text class=\"node-value\" dy=\".35em\" text-anchor=\"middle\" transform=\"translate(0.5,4.320652173913047) rotate(-90)\" style=\"display: none;\"/><text class=\"node-title\" dy=\".35em\" text-anchor=\"end\" transform=\"translate(-4,4.320652173913047)\" style=\"display: inline;\">other</text><rect class=\"node-click-target\" x=\"-5\" y=\"-5\" width=\"10\" height=\"13.641304347826093\" style=\"fill: none; visibility: hidden; pointer-events: all;\"/></g><g class=\"node\" transform=\"translate(154.5,66.25)\"><title>waypoint</title><line x1=\"0\" x2=\"0\" y1=\"-5\" y2=\"132.5\" style=\"display: inline; stroke: rgb(0, 0, 0);\"/><rect class=\"node-body\" width=\"1\" height=\"132.5\" style=\"fill: none;\"/><text class=\"node-value\" dy=\".35em\" text-anchor=\"middle\" transform=\"translate(0.5,66.25) rotate(-90)\" style=\"display: none;\"/><text class=\"node-title\" dy=\".35em\" text-anchor=\"start\" transform=\"translate(-4,-10)\" style=\"display: inline;\">waypoint</text><rect class=\"node-click-target\" x=\"-5\" y=\"-5\" width=\"10\" height=\"137.5\" style=\"fill: none; visibility: hidden; pointer-events: all;\"/></g><g class=\"node\" transform=\"translate(309,26.5)\"><title>James</title><line x1=\"0\" x2=\"0\" y1=\"0\" y2=\"8.641304347826086\" style=\"display: inline; stroke: rgb(0, 0, 0);\"/><rect class=\"node-body\" width=\"1\" height=\"8.641304347826086\" style=\"fill: none;\"/><text class=\"node-value\" dy=\".35em\" text-anchor=\"middle\" transform=\"translate(0.5,4.320652173913043) rotate(-90)\" style=\"display: none;\"/><text class=\"node-title\" dy=\".35em\" text-anchor=\"start\" transform=\"translate(5,4.320652173913043)\" style=\"display: inline;\">James</text><rect class=\"node-click-target\" x=\"-5\" y=\"-5\" width=\"10\" height=\"13.641304347826086\" style=\"fill: none; visibility: hidden; pointer-events: all;\"/></g><g class=\"node\" transform=\"translate(309,61.641304347826086)\"><title>Mary</title><line x1=\"0\" x2=\"0\" y1=\"0\" y2=\"14.402173913043477\" style=\"display: inline; stroke: rgb(0, 0, 0);\"/><rect class=\"node-body\" width=\"1\" height=\"14.402173913043477\" style=\"fill: none;\"/><text class=\"node-value\" dy=\".35em\" text-anchor=\"middle\" transform=\"translate(0.5,7.201086956521738) rotate(-90)\" style=\"display: none;\"/><text class=\"node-title\" dy=\".35em\" text-anchor=\"start\" transform=\"translate(5,7.201086956521738)\" style=\"display: inline;\">Mary</text><rect class=\"node-click-target\" x=\"-5\" y=\"-5\" width=\"10\" height=\"19.402173913043477\" style=\"fill: none; visibility: hidden; pointer-events: all;\"/></g><g class=\"node\" transform=\"translate(309,102.54347826086956)\"><title>Fred</title><line x1=\"0\" x2=\"0\" y1=\"0\" y2=\"57.60869565217391\" style=\"display: inline; stroke: rgb(0, 0, 0);\"/><rect class=\"node-body\" width=\"1\" height=\"57.60869565217391\" style=\"fill: none;\"/><text class=\"node-value\" dy=\".35em\" text-anchor=\"middle\" transform=\"translate(0.5,28.804347826086953) rotate(-90)\" style=\"display: none;\"/><text class=\"node-title\" dy=\".35em\" text-anchor=\"start\" transform=\"translate(5,28.804347826086953)\" style=\"display: inline;\">Fred</text><rect class=\"node-click-target\" x=\"-5\" y=\"-5\" width=\"10\" height=\"62.60869565217391\" style=\"fill: none; visibility: hidden; pointer-events: all;\"/></g><g class=\"node\" transform=\"translate(309,186.65217391304347)\"><title>Susan</title><line x1=\"0\" x2=\"0\" y1=\"0\" y2=\"51.84782608695653\" style=\"display: inline; stroke: rgb(0, 0, 0);\"/><rect class=\"node-body\" width=\"1\" height=\"51.84782608695653\" style=\"fill: none;\"/><text class=\"node-value\" dy=\".35em\" text-anchor=\"middle\" transform=\"translate(0.5,25.923913043478265) rotate(-90)\" style=\"display: none;\"/><text class=\"node-title\" dy=\".35em\" text-anchor=\"start\" transform=\"translate(5,25.923913043478265)\" style=\"display: inline;\">Susan</text><rect class=\"node-click-target\" x=\"-5\" y=\"-5\" width=\"10\" height=\"56.84782608695653\" style=\"fill: none; visibility: hidden; pointer-events: all;\"/></g></g><g class=\"slice-titles\"/></g></svg>",
            "_view_module_version": "^0.4.1",
            "order": [
              [
                [
                  "farms^farm1",
                  "farms^farm2",
                  "farms^farm3",
                  "farms^other"
                ]
              ],
              [
                [
                  "waypoint^*"
                ]
              ],
              [
                [
                  "customers^James",
                  "customers^Mary",
                  "customers^Fred",
                  "customers^Susan"
                ]
              ]
            ]
          }
        },
        "9276dd188a8242a08b187a0492d4c8ff": {
          "model_module": "@jupyter-widgets/base",
          "model_name": "LayoutModel",
          "model_module_version": "1.2.0",
          "state": {
            "_view_name": "LayoutView",
            "grid_template_rows": null,
            "right": null,
            "justify_content": null,
            "_view_module": "@jupyter-widgets/base",
            "overflow": null,
            "_model_module_version": "1.2.0",
            "_view_count": null,
            "flex_flow": null,
            "width": "570",
            "min_width": null,
            "border": null,
            "align_items": null,
            "bottom": null,
            "_model_module": "@jupyter-widgets/base",
            "top": null,
            "grid_column": null,
            "overflow_y": null,
            "overflow_x": null,
            "grid_auto_flow": null,
            "grid_area": null,
            "grid_template_columns": null,
            "flex": null,
            "_model_name": "LayoutModel",
            "justify_items": null,
            "grid_row": null,
            "max_height": null,
            "align_content": null,
            "visibility": null,
            "align_self": null,
            "height": "300",
            "min_height": null,
            "padding": null,
            "grid_auto_rows": null,
            "grid_gap": null,
            "max_width": null,
            "order": null,
            "_view_module_version": "1.2.0",
            "grid_template_areas": null,
            "object_position": null,
            "object_fit": null,
            "grid_auto_columns": null,
            "margin": null,
            "display": null,
            "left": null
          }
        },
        "bee735f09dad4af193488449d9f684e1": {
          "model_module": "jupyter-sankey-widget",
          "model_name": "SankeyModel",
          "model_module_version": "^0.4.1",
          "state": {
            "_view_name": "SankeyView",
            "links": [
              {
                "opacity": 1,
                "target": "waypoint^apples",
                "title": "apples",
                "color": "yellowgreen",
                "value": 8,
                "source": "farms^farm1",
                "time": "*",
                "type": "apples"
              },
              {
                "opacity": 1,
                "target": "waypoint^apples",
                "title": "apples",
                "color": "yellowgreen",
                "value": 10,
                "source": "farms^farm2",
                "time": "*",
                "type": "apples"
              },
              {
                "opacity": 1,
                "target": "waypoint^bananas",
                "title": "bananas",
                "color": "gold",
                "value": 15,
                "source": "farms^farm2",
                "time": "*",
                "type": "bananas"
              },
              {
                "opacity": 1,
                "target": "waypoint^apples",
                "title": "apples",
                "color": "yellowgreen",
                "value": 10,
                "source": "farms^farm3",
                "time": "*",
                "type": "apples"
              },
              {
                "opacity": 1,
                "target": "waypoint^bananas",
                "title": "bananas",
                "color": "gold",
                "value": 3,
                "source": "farms^other",
                "time": "*",
                "type": "bananas"
              },
              {
                "opacity": 1,
                "target": "customers^Fred",
                "title": "apples",
                "color": "yellowgreen",
                "value": 10,
                "source": "waypoint^apples",
                "time": "*",
                "type": "apples"
              },
              {
                "opacity": 1,
                "target": "customers^James",
                "title": "apples",
                "color": "yellowgreen",
                "value": 3,
                "source": "waypoint^apples",
                "time": "*",
                "type": "apples"
              },
              {
                "opacity": 1,
                "target": "customers^Mary",
                "title": "apples",
                "color": "yellowgreen",
                "value": 5,
                "source": "waypoint^apples",
                "time": "*",
                "type": "apples"
              },
              {
                "opacity": 1,
                "target": "customers^Susan",
                "title": "apples",
                "color": "yellowgreen",
                "value": 10,
                "source": "waypoint^apples",
                "time": "*",
                "type": "apples"
              },
              {
                "opacity": 1,
                "target": "customers^Fred",
                "title": "bananas",
                "color": "gold",
                "value": 10,
                "source": "waypoint^bananas",
                "time": "*",
                "type": "bananas"
              },
              {
                "opacity": 1,
                "target": "customers^Susan",
                "title": "bananas",
                "color": "gold",
                "value": 8,
                "source": "waypoint^bananas",
                "time": "*",
                "type": "bananas"
              }
            ],
            "_view_module": "jupyter-sankey-widget",
            "_model_module_version": "^0.4.1",
            "_view_count": null,
            "linkLabelFormat": "",
            "margins": {
              "top": 25,
              "left": 130,
              "right": 130,
              "bottom": 10
            },
            "_model_module": "jupyter-sankey-widget",
            "scale": 2.880434782608696,
            "layout": "IPY_MODEL_3e5221a89d514b81a383616a5ab1e48f",
            "linkLabelMinWidth": 5,
            "nodes": [
              {
                "direction": "r",
                "hidden": false,
                "type": "process",
                "id": "farms^farm1",
                "title": "farm1"
              },
              {
                "direction": "r",
                "hidden": false,
                "type": "process",
                "id": "farms^farm2",
                "title": "farm2"
              },
              {
                "direction": "r",
                "hidden": false,
                "type": "process",
                "id": "farms^farm3",
                "title": "farm3"
              },
              {
                "direction": "r",
                "hidden": false,
                "type": "process",
                "id": "farms^other",
                "title": "other"
              },
              {
                "direction": "r",
                "hidden": false,
                "type": "group",
                "id": "waypoint^apples",
                "title": "apples"
              },
              {
                "direction": "r",
                "hidden": false,
                "type": "group",
                "id": "waypoint^bananas",
                "title": "bananas"
              },
              {
                "direction": "r",
                "hidden": false,
                "type": "process",
                "id": "customers^James",
                "title": "James"
              },
              {
                "direction": "r",
                "hidden": false,
                "type": "process",
                "id": "customers^Mary",
                "title": "Mary"
              },
              {
                "direction": "r",
                "hidden": false,
                "type": "process",
                "id": "customers^Fred",
                "title": "Fred"
              },
              {
                "direction": "r",
                "hidden": false,
                "type": "process",
                "id": "customers^Susan",
                "title": "Susan"
              }
            ],
            "rank_sets": [],
            "_dom_classes": [],
            "_model_name": "SankeyModel",
            "groups": [
              {
                "nodes": [
                  "farms^farm1",
                  "farms^farm2",
                  "farms^farm3",
                  "farms^other"
                ],
                "type": "process",
                "id": "farms",
                "title": ""
              },
              {
                "nodes": [
                  "waypoint^apples",
                  "waypoint^bananas"
                ],
                "type": "group",
                "id": "waypoint",
                "title": ""
              },
              {
                "nodes": [
                  "customers^James",
                  "customers^Mary",
                  "customers^Fred",
                  "customers^Susan"
                ],
                "type": "process",
                "id": "customers",
                "title": ""
              }
            ],
            "png": "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",
            "show_link_info_html": false,
            "align_link_types": false,
            "svg": "<?xml version=\"1.0\" standalone=\"no\"?><!DOCTYPE svg PUBLIC \"-//W3C//DTD SVG 1.1//EN\" \"http://www.w3.org/Graphics/SVG/1.1/DTD/svg11.dtd\"><svg xmlns=\"http://www.w3.org/2000/svg\" width=\"570\" height=\"300\" viewBox=\"0 0 570 300\" style=\"font-family: &quot;Helvetica Neue&quot;, Helvetica, Arial, sans-serif;\"><g class=\"sankey\" transform=\"translate(130,25)\"><g class=\"groups\"><g class=\"group\" transform=\"translate(0,26.5)\" style=\"display: none;\"><rect x=\"-10\" y=\"-20\" width=\"21\" height=\"241.99999999999997\" style=\"fill: rgb(238, 238, 238); stroke: rgb(187, 187, 187); stroke-width: 0.5;\"/><text x=\"-10\" y=\"-25\" style=\"fill: rgb(153, 153, 153);\"/></g><g class=\"group\" transform=\"translate(154.5,26.5)\" style=\"display: none;\"><rect x=\"-10\" y=\"-20\" width=\"21\" height=\"242.00000000000003\" style=\"fill: rgb(238, 238, 238); stroke: rgb(187, 187, 187); stroke-width: 0.5;\"/><text x=\"-10\" y=\"-25\" style=\"fill: rgb(153, 153, 153);\"/></g><g class=\"group\" transform=\"translate(309,26.5)\" style=\"display: none;\"><rect x=\"-10\" y=\"-20\" width=\"21\" height=\"242\" style=\"fill: rgb(238, 238, 238); stroke: rgb(187, 187, 187); stroke-width: 0.5;\"/><text x=\"-10\" y=\"-25\" style=\"fill: rgb(153, 153, 153);\"/></g></g><g class=\"links\"><g class=\"link\" style=\"opacity: 0.8;\"><path d=\"M1,229.85869565217388 A0 0 0 0 1 1,229.85869565217388 L154.5,229.85869565217394 A0 0 0 0 0 154.5,229.85869565217394 L154.5,238.5 A0 0 0 0 1 154.5,238.5 L1,238.49999999999994 A0 0 0 0 0 1,238.49999999999994 Z\" style=\"fill: rgb(255, 215, 0);\"/><title>other → bananas\nbananas\n3.00</title><text class=\"label\" dy=\"0.35em\" x=\"5\" y=\"234.1793478260869\"/></g><g class=\"link\" style=\"opacity: 0.8;\"><path d=\"M155.5,26.5 A0 0 0 0 0 155.5,26.5 L309,26.5 A0 0 0 0 0 309,26.5 L309,35.141304347826086 A0 0 0 0 0 309,35.141304347826086 L155.5,35.141304347826086 A0 0 0 0 0 155.5,35.141304347826086 Z\" style=\"fill: rgb(154, 205, 50);\"/><title>apples → James\napples\n3.00</title><text class=\"label\" dy=\"0.35em\" x=\"159.5\" y=\"30.820652173913043\"/></g><g class=\"link\" style=\"opacity: 0.8;\"><path d=\"M155.5,35.141304347826086 A144.54731337161607 144.54731337161607 0.20953243585541825 0 1 185.56621481996768,38.302803263564954 L281.92947458195744,58.79480580219656 A130.14513945857257 130.14513945857257 0.20953243585541825 0 0 309,61.641304347826086 L309,76.04347826086956 A144.54731337161607 144.54731337161607 0.20953243585541825 0 1 278.9337851800323,72.8819793451307 L182.57052541804256,52.38997680649909 A130.14513945857257 130.14513945857257 0.20953243585541825 0 0 155.5,49.54347826086957 Z\" style=\"fill: rgb(154, 205, 50);\"/><title>apples → Mary\napples\n5.00</title><text class=\"label\" dy=\"0.35em\" x=\"159.5\" y=\"42.34239130434783\"/></g><g class=\"link\" style=\"opacity: 0.8;\"><path d=\"M1,26.5 A0 0 0 0 0 1,26.5 L154.5,26.5 A0 0 0 0 0 154.5,26.5 L154.5,49.54347826086956 A0 0 0 0 0 154.5,49.54347826086956 L1,49.54347826086956 A0 0 0 0 0 1,49.54347826086956 Z\" style=\"fill: rgb(154, 205, 50);\"/><title>farm1 → apples\napples\n8.00</title><text class=\"label\" dy=\"0.35em\" x=\"5\" y=\"38.02173913043478\"/></g><g class=\"link\" style=\"opacity: 0.8;\"><path d=\"M155.5,215.45652173913047 A0 0 0 0 0 155.5,215.45652173913047 L309,215.45652173913044 A0 0 0 0 1 309,215.45652173913044 L309,238.5 A0 0 0 0 0 309,238.5 L155.5,238.50000000000003 A0 0 0 0 1 155.5,238.50000000000003 Z\" style=\"fill: rgb(255, 215, 0);\"/><title>bananas → Susan\nbananas\n8.00</title><text class=\"label\" dy=\"0.35em\" x=\"159.5\" y=\"226.97826086956525\"/></g><g class=\"link\" style=\"opacity: 0.8;\"><path d=\"M1,76.04347826086956 A122.94405250205081 122.94405250205081 0.2095324358554187 0 0 26.572680717080036,73.35447990029469 L122.9359404790697,52.86247736166311 A151.74840032813776 151.74840032813776 0.2095324358554187 0 1 154.5,49.54347826086956 L154.5,78.34782608695652 A122.94405250205081 122.94405250205081 0.2095324358554187 0 0 128.92731928291997,81.03682444753139 L32.56405952093029,101.52882698616297 A151.74840032813776 151.74840032813776 0.2095324358554187 0 1 1,104.84782608695653 Z\" style=\"fill: rgb(154, 205, 50);\"/><title>farm2 → apples\napples\n10.0</title><text class=\"label\" dy=\"0.35em\" x=\"5\" y=\"90.44565217391305\"/></g><g class=\"link\" style=\"opacity: 0.8;\"><path d=\"M1,174.55434782608694 A36.76578886934909 36.76578886934909 0.6891285182992767 0 0 24.37807149360012,166.16441144482488 L112.80625723934926,93.31090160643755 A65.57013669543605 65.57013669543605 0.6891285182992767 0 1 154.5,78.34782608695652 L154.5,107.15217391304348 A36.76578886934909 36.76578886934909 0.6891285182992767 0 0 131.12192850639988,115.54211029430554 L42.693742760650736,188.39562013269287 A65.57013669543605 65.57013669543605 0.6891285182992767 0 1 1,203.35869565217388 Z\" style=\"fill: rgb(154, 205, 50);\"/><title>farm3 → apples\napples\n10.0</title><text class=\"label\" dy=\"0.35em\" x=\"5\" y=\"188.9565217391304\"/></g><g class=\"link\" style=\"opacity: 0.8;\"><path d=\"M155.5,49.54347826086956 A92.0855590997155 92.0855590997155 0.41044431948894333 0 1 192.24368357847385,57.191771228904855 L284.96584680683884,97.54070698271639 A60.233439294503675 60.233439294503675 0.41044431948894333 0 0 309,102.54347826086956 L309,131.34782608695653 A89.03778712059064 89.03778712059064 0.41044431948894333 0 1 273.4724285928063,123.9526700192562 L180.7502653644413,83.60373426544467 A63.281211273628536 63.281211273628536 0.41044431948894333 0 0 155.5,78.34782608695652 Z\" style=\"fill: rgb(154, 205, 50);\"/><title>apples → Fred\napples\n10.0</title><text class=\"label\" dy=\"0.35em\" x=\"159.5\" y=\"63.94565217391304\"/></g><g class=\"link\" style=\"opacity: 0.8;\"><path d=\"M155.5,78.34782608695652 A63.281211273628536 63.281211273628536 0.757075544175894 0 1 198.9614568809938,95.63323900857115 L285.3213332368421,177.23473690546155 A34.47686344754158 34.47686344754158 0.757075544175894 0 0 309,186.65217391304347 L309,215.4565217391304 A63.281211273628536 63.281211273628536 0.757075544175894 0 1 265.5385431190062,198.1711088175158 L179.17866676315788,116.56961092062538 A34.47686344754158 34.47686344754158 0.757075544175894 0 0 155.5,107.15217391304348 Z\" style=\"fill: rgb(154, 205, 50);\"/><title>apples → Susan\napples\n10.0</title><text class=\"label\" dy=\"0.35em\" x=\"159.5\" y=\"92.75\"/></g><g class=\"link\" style=\"opacity: 0.8;\"><path d=\"M155.5,186.6521739130435 A57.8005242514356 57.8005242514356 0.4244149211199806 0 0 179.30154388138953,181.5241008349023 L273.3371805050007,139.0314261699709 A86.60487207752256 86.60487207752256 0.4244149211199806 0 1 309,131.34782608695653 L309,160.15217391304347 A57.8005242514356 57.8005242514356 0.4244149211199806 0 0 285.19845611861047,165.28024699118467 L191.16281949499938,207.77292165611607 A86.60487207752256 86.60487207752256 0.4244149211199806 0 1 155.5,215.45652173913044 Z\" style=\"fill: rgb(255, 215, 0);\"/><title>bananas → Fred\nbananas\n10.0</title><text class=\"label\" dy=\"0.35em\" x=\"159.5\" y=\"201.05434782608697\"/></g><g class=\"link\" style=\"opacity: 0.8;\"><path d=\"M1,104.84782608695652 A77.07867653005812 77.07867653005812 0.6020212622211646 0 1 44.6503897365504,118.39882477914159 L135.31787565119677,180.69719977574945 A33.872154790927674 33.872154790927674 0.6020212622211646 0 0 154.5,186.6521739130435 L154.5,229.85869565217394 A77.07867653005812 77.07867653005812 0.6020212622211646 0 1 110.84961026344959,216.30769695998887 L20.182124348803235,154.009321963381 A33.872154790927674 33.872154790927674 0.6020212622211646 0 0 1,148.05434782608694 Z\" style=\"fill: rgb(255, 215, 0);\"/><title>farm2 → bananas\nbananas\n15.0</title><text class=\"label\" dy=\"0.35em\" x=\"5\" y=\"126.45108695652173\"/></g></g><g class=\"nodes\"><g class=\"node\" transform=\"translate(0,26.5)\"><title>farm1</title><line x1=\"0\" x2=\"0\" y1=\"0\" y2=\"23.043478260869563\" style=\"display: inline; stroke: rgb(0, 0, 0);\"/><rect class=\"node-body\" width=\"1\" height=\"23.043478260869563\" style=\"fill: none;\"/><text class=\"node-value\" dy=\".35em\" text-anchor=\"middle\" transform=\"translate(0.5,11.521739130434781) rotate(-90)\" style=\"display: none;\"/><text class=\"node-title\" dy=\".35em\" text-anchor=\"end\" transform=\"translate(-4,11.521739130434781)\" style=\"display: inline;\">farm1</text><rect class=\"node-click-target\" x=\"-5\" y=\"-5\" width=\"10\" height=\"28.043478260869563\" style=\"fill: none; visibility: hidden; pointer-events: all;\"/></g><g class=\"node\" transform=\"translate(0,76.04347826086956)\"><title>farm2</title><line x1=\"0\" x2=\"0\" y1=\"0\" y2=\"72.01086956521738\" style=\"display: inline; stroke: rgb(0, 0, 0);\"/><rect class=\"node-body\" width=\"1\" height=\"72.01086956521738\" style=\"fill: none;\"/><text class=\"node-value\" dy=\".35em\" text-anchor=\"middle\" transform=\"translate(0.5,36.00543478260869) rotate(-90)\" style=\"display: none;\"/><text class=\"node-title\" dy=\".35em\" text-anchor=\"end\" transform=\"translate(-4,36.00543478260869)\" style=\"display: inline;\">farm2</text><rect class=\"node-click-target\" x=\"-5\" y=\"-5\" width=\"10\" height=\"77.01086956521738\" style=\"fill: none; visibility: hidden; pointer-events: all;\"/></g><g class=\"node\" transform=\"translate(0,174.55434782608694)\"><title>farm3</title><line x1=\"0\" x2=\"0\" y1=\"0\" y2=\"28.804347826086968\" style=\"display: inline; stroke: rgb(0, 0, 0);\"/><rect class=\"node-body\" width=\"1\" height=\"28.804347826086968\" style=\"fill: none;\"/><text class=\"node-value\" dy=\".35em\" text-anchor=\"middle\" transform=\"translate(0.5,14.402173913043484) rotate(-90)\" style=\"display: none;\"/><text class=\"node-title\" dy=\".35em\" text-anchor=\"end\" transform=\"translate(-4,14.402173913043484)\" style=\"display: inline;\">farm3</text><rect class=\"node-click-target\" x=\"-5\" y=\"-5\" width=\"10\" height=\"33.80434782608697\" style=\"fill: none; visibility: hidden; pointer-events: all;\"/></g><g class=\"node\" transform=\"translate(0,229.85869565217388)\"><title>other</title><line x1=\"0\" x2=\"0\" y1=\"0\" y2=\"8.641304347826093\" style=\"display: inline; stroke: rgb(0, 0, 0);\"/><rect class=\"node-body\" width=\"1\" height=\"8.641304347826093\" style=\"fill: none;\"/><text class=\"node-value\" dy=\".35em\" text-anchor=\"middle\" transform=\"translate(0.5,4.320652173913047) rotate(-90)\" style=\"display: none;\"/><text class=\"node-title\" dy=\".35em\" text-anchor=\"end\" transform=\"translate(-4,4.320652173913047)\" style=\"display: inline;\">other</text><rect class=\"node-click-target\" x=\"-5\" y=\"-5\" width=\"10\" height=\"13.641304347826093\" style=\"fill: none; visibility: hidden; pointer-events: all;\"/></g><g class=\"node\" transform=\"translate(154.5,26.5)\"><title>apples</title><line x1=\"0\" x2=\"0\" y1=\"-5\" y2=\"80.65217391304348\" style=\"display: inline; stroke: rgb(0, 0, 0);\"/><rect class=\"node-body\" width=\"1\" height=\"80.65217391304348\" style=\"fill: none;\"/><text class=\"node-value\" dy=\".35em\" text-anchor=\"middle\" transform=\"translate(0.5,40.32608695652174) rotate(-90)\" style=\"display: none;\"/><text class=\"node-title\" dy=\".35em\" text-anchor=\"start\" transform=\"translate(-4,-10)\" style=\"display: inline;\">apples</text><rect class=\"node-click-target\" x=\"-5\" y=\"-5\" width=\"10\" height=\"85.65217391304348\" style=\"fill: none; visibility: hidden; pointer-events: all;\"/></g><g class=\"node\" transform=\"translate(154.5,186.6521739130435)\"><title>bananas</title><line x1=\"0\" x2=\"0\" y1=\"-5\" y2=\"51.84782608695653\" style=\"display: inline; stroke: rgb(0, 0, 0);\"/><rect class=\"node-body\" width=\"1\" height=\"51.84782608695653\" style=\"fill: none;\"/><text class=\"node-value\" dy=\".35em\" text-anchor=\"middle\" transform=\"translate(0.5,25.923913043478265) rotate(-90)\" style=\"display: none;\"/><text class=\"node-title\" dy=\".35em\" text-anchor=\"start\" transform=\"translate(-4,-10)\" style=\"display: inline;\">bananas</text><rect class=\"node-click-target\" x=\"-5\" y=\"-5\" width=\"10\" height=\"56.84782608695653\" style=\"fill: none; visibility: hidden; pointer-events: all;\"/></g><g class=\"node\" transform=\"translate(309,26.5)\"><title>James</title><line x1=\"0\" x2=\"0\" y1=\"0\" y2=\"8.641304347826086\" style=\"display: inline; stroke: rgb(0, 0, 0);\"/><rect class=\"node-body\" width=\"1\" height=\"8.641304347826086\" style=\"fill: none;\"/><text class=\"node-value\" dy=\".35em\" text-anchor=\"middle\" transform=\"translate(0.5,4.320652173913043) rotate(-90)\" style=\"display: none;\"/><text class=\"node-title\" dy=\".35em\" text-anchor=\"start\" transform=\"translate(5,4.320652173913043)\" style=\"display: inline;\">James</text><rect class=\"node-click-target\" x=\"-5\" y=\"-5\" width=\"10\" height=\"13.641304347826086\" style=\"fill: none; visibility: hidden; pointer-events: all;\"/></g><g class=\"node\" transform=\"translate(309,61.641304347826086)\"><title>Mary</title><line x1=\"0\" x2=\"0\" y1=\"0\" y2=\"14.402173913043477\" style=\"display: inline; stroke: rgb(0, 0, 0);\"/><rect class=\"node-body\" width=\"1\" height=\"14.402173913043477\" style=\"fill: none;\"/><text class=\"node-value\" dy=\".35em\" text-anchor=\"middle\" transform=\"translate(0.5,7.201086956521738) rotate(-90)\" style=\"display: none;\"/><text class=\"node-title\" dy=\".35em\" text-anchor=\"start\" transform=\"translate(5,7.201086956521738)\" style=\"display: inline;\">Mary</text><rect class=\"node-click-target\" x=\"-5\" y=\"-5\" width=\"10\" height=\"19.402173913043477\" style=\"fill: none; visibility: hidden; pointer-events: all;\"/></g><g class=\"node\" transform=\"translate(309,102.54347826086956)\"><title>Fred</title><line x1=\"0\" x2=\"0\" y1=\"0\" y2=\"57.60869565217391\" style=\"display: inline; stroke: rgb(0, 0, 0);\"/><rect class=\"node-body\" width=\"1\" height=\"57.60869565217391\" style=\"fill: none;\"/><text class=\"node-value\" dy=\".35em\" text-anchor=\"middle\" transform=\"translate(0.5,28.804347826086953) rotate(-90)\" style=\"display: none;\"/><text class=\"node-title\" dy=\".35em\" text-anchor=\"start\" transform=\"translate(5,28.804347826086953)\" style=\"display: inline;\">Fred</text><rect class=\"node-click-target\" x=\"-5\" y=\"-5\" width=\"10\" height=\"62.60869565217391\" style=\"fill: none; visibility: hidden; pointer-events: all;\"/></g><g class=\"node\" transform=\"translate(309,186.65217391304347)\"><title>Susan</title><line x1=\"0\" x2=\"0\" y1=\"0\" y2=\"51.84782608695653\" style=\"display: inline; stroke: rgb(0, 0, 0);\"/><rect class=\"node-body\" width=\"1\" height=\"51.84782608695653\" style=\"fill: none;\"/><text class=\"node-value\" dy=\".35em\" text-anchor=\"middle\" transform=\"translate(0.5,25.923913043478265) rotate(-90)\" style=\"display: none;\"/><text class=\"node-title\" dy=\".35em\" text-anchor=\"start\" transform=\"translate(5,25.923913043478265)\" style=\"display: inline;\">Susan</text><rect class=\"node-click-target\" x=\"-5\" y=\"-5\" width=\"10\" height=\"56.84782608695653\" style=\"fill: none; visibility: hidden; pointer-events: all;\"/></g></g><g class=\"slice-titles\"/></g></svg>",
            "_view_module_version": "^0.4.1",
            "order": [
              [
                [
                  "farms^farm1",
                  "farms^farm2",
                  "farms^farm3",
                  "farms^other"
                ]
              ],
              [
                [
                  "waypoint^apples",
                  "waypoint^bananas"
                ]
              ],
              [
                [
                  "customers^James",
                  "customers^Mary",
                  "customers^Fred",
                  "customers^Susan"
                ]
              ]
            ]
          }
        },
        "3e5221a89d514b81a383616a5ab1e48f": {
          "model_module": "@jupyter-widgets/base",
          "model_name": "LayoutModel",
          "model_module_version": "1.2.0",
          "state": {
            "_view_name": "LayoutView",
            "grid_template_rows": null,
            "right": null,
            "justify_content": null,
            "_view_module": "@jupyter-widgets/base",
            "overflow": null,
            "_model_module_version": "1.2.0",
            "_view_count": null,
            "flex_flow": null,
            "width": "570",
            "min_width": null,
            "border": null,
            "align_items": null,
            "bottom": null,
            "_model_module": "@jupyter-widgets/base",
            "top": null,
            "grid_column": null,
            "overflow_y": null,
            "overflow_x": null,
            "grid_auto_flow": null,
            "grid_area": null,
            "grid_template_columns": null,
            "flex": null,
            "_model_name": "LayoutModel",
            "justify_items": null,
            "grid_row": null,
            "max_height": null,
            "align_content": null,
            "visibility": null,
            "align_self": null,
            "height": "300",
            "min_height": null,
            "padding": null,
            "grid_auto_rows": null,
            "grid_gap": null,
            "max_width": null,
            "order": null,
            "_view_module_version": "1.2.0",
            "grid_template_areas": null,
            "object_position": null,
            "object_fit": null,
            "grid_auto_columns": null,
            "margin": null,
            "display": null,
            "left": null
          }
        }
      }
    }
  },
  "nbformat": 4,
  "nbformat_minor": 0
}